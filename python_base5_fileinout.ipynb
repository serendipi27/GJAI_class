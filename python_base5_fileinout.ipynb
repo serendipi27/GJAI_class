{
 "cells": [
  {
   "cell_type": "markdown",
   "id": "c076eb4b",
   "metadata": {},
   "source": [
    "# 파일 입-출력\n",
    "\n",
    "## 파이썬 기본 입출력\n",
    "1. open()\n",
    "    - open() 함수의 결과는 파일 객체가 된다.\n",
    "    - f = open(파일명, 모드)\n",
    "    - 모드\n",
    "        - r: read-only(기본값)\n",
    "        - w: write\n",
    "        - a: append\n",
    "        - t: text mode\n",
    "        - b: 이진 모드\n",
    "2. 인코딩과 디코딩\n",
    "    - 미리 정의된 특정 문자열 집합을 사용하여 저장함(인코딩)\n",
    "    - 파일을 읽을 때는 어떤 문자열 집합을 사용했는지 알려주어야 함(디코딩)\n",
    "    - 파일의 인코딩은 메모장을 통해서 간단히 알 수 있음.\n",
    "    - 인코딩은 크게 ANSI or utf-8 두 가지로 나눌 수 있음.\n",
    "    - ANSI는 euc-kr을 의미함.\n",
    "    \n",
    "3. 인코딩 종류\n",
    "    - euc-kr: 11,172개의 한글 문자를 인코딩.\n",
    "    - cp949: euc-kr에서 특수문자를 조금 더 보완한 것. 사소한 내용이라 무시할 정도인데.\n",
    "    - utf-8\n",
    "    - 컴퓨터가 보기에는 utf-8가 좋고, 사람이 보기에는 euc-kr이 좋다.\n",
    "    - 컴퓨터 중간처리 등은 utf-8 인코딩이 낫다.\n",
    "\n",
    "4. utf 이야기\n",
    "    - 원래 utf-32에서 출발하였는데 이는 너무 크고 방대한 것이라 비효율적임.\n",
    "    - 그래서 utf-16, utf-8로 축소했는데, utf-8로도 충분함.\n",
    "    \n",
    "5. for mac\n",
    "    - 해보니까, 맥에서는 utf-8이 더 맞는거 같다. \n",
    "    - cp949로 인코딩하니까, encoding='cp949'를 계속 지정해 줘야 한다.\n",
    "    - 지금은 공부하는 단계니까 귀찮더라도 시험해서 익히도록 하자."
   ]
  },
  {
   "cell_type": "markdown",
   "id": "78d9bd81",
   "metadata": {},
   "source": [
    "# 새로운 디렉토리, 파일 만들고 확인하기 - 이어지는 내용임."
   ]
  },
  {
   "cell_type": "markdown",
   "id": "4dbaf4c9",
   "metadata": {},
   "source": [
    "## 1. 새로운 디렉토리(폴더, directory) 만들기"
   ]
  },
  {
   "cell_type": "code",
   "execution_count": 1,
   "id": "735ccc57",
   "metadata": {},
   "outputs": [
    {
     "name": "stdout",
     "output_type": "stream",
     "text": [
      "total 4\r\n",
      "drwxr-xr-x   3 jsha  staff   96 Sep  6 12:55 \u001b[1m\u001b[36m.\u001b[m\u001b[m\r\n",
      "drwxr-xr-x  13 jsha  staff  416 Sep  6 14:19 \u001b[1m\u001b[36m..\u001b[m\u001b[m\r\n",
      "-rw-r--r--   1 jsha  staff   26 Sep  6 12:55 myfile.txt\r\n"
     ]
    }
   ],
   "source": [
    "import os\n",
    "\n",
    "cwd = os.getcwd()\n",
    "\n",
    "newdir_name = 'filetest/'\n",
    "\n",
    "if not os.path.exists(os.path.join(cwd, newdir_name)):\n",
    "    os.mkdir(os.path.join(cwd,newdir_name))\n",
    "\n",
    "os.chdir(os.path.join(cwd, newdir_name))\n",
    "!ls -al"
   ]
  },
  {
   "cell_type": "markdown",
   "id": "26c74af8",
   "metadata": {},
   "source": [
    "## 2. 새로운 파일 만들기"
   ]
  },
  {
   "cell_type": "code",
   "execution_count": 2,
   "id": "95a460dc",
   "metadata": {},
   "outputs": [
    {
     "name": "stdout",
     "output_type": "stream",
     "text": [
      "yes, myfile.txt exist!!\n"
     ]
    }
   ],
   "source": [
    "import os\n",
    "import chardet\n",
    "\n",
    "file_name = 'myfile.txt'\n",
    "\n",
    "if not os.path.exists(file_name):\n",
    "    f = open(file_name, 'w')\n",
    "    f.write('hello my world \\n')\n",
    "    f.write('go forward')\n",
    "    f.close()\n",
    "    \n",
    "if os.path.exists(file_name):\n",
    "    print(f'yes, {file_name} exist!!')"
   ]
  },
  {
   "cell_type": "markdown",
   "id": "750916b1",
   "metadata": {},
   "source": [
    "## 3. 인코딩 종류 확인하기 - chrdet"
   ]
  },
  {
   "cell_type": "code",
   "execution_count": 21,
   "id": "d00fcf2c",
   "metadata": {},
   "outputs": [
    {
     "data": {
      "text/plain": [
       "{'encoding': 'ascii', 'confidence': 1.0, 'language': ''}"
      ]
     },
     "execution_count": 21,
     "metadata": {},
     "output_type": "execute_result"
    }
   ],
   "source": [
    "import os\n",
    "import chardet\n",
    "\n",
    "f = open(file_name, 'br').read()\n",
    "chardet.detect(f)"
   ]
  },
  {
   "cell_type": "markdown",
   "id": "95ccc094",
   "metadata": {},
   "source": [
    "## 4. 파일 쓰기\n",
    " - 파일객체 = open(파일명, 'w')\n",
    " - 파일객체.write(문자열)\n",
    " - 파일객체.writelines(문자열 리스트)"
   ]
  },
  {
   "cell_type": "code",
   "execution_count": 33,
   "id": "4d78e4c3",
   "metadata": {},
   "outputs": [
    {
     "name": "stdout",
     "output_type": "stream",
     "text": [
      "���� ���� �ູ�մϴ�.�ڵ��� ����ֽ��ϴ�.���� 3�� �ȿ� ���ϴ� ��ǥ�� �̷�ڽ��ϴ�.\r\n",
      "���� ���� �ູ�մϴ�.\r\n",
      "�ڵ��� ����ֽ��ϴ�.\r\n",
      "���� 3�� �ȿ� ���ϴ� ��ǥ�� �̷�ڽ��ϴ�."
     ]
    }
   ],
   "source": [
    "with open('writetest.txt', 'w', encoding='cp949') as f:\n",
    "    text_list = ['나는 오늘 행복합니다.', '코딩은 재미있습니다.', '저는 3년 안에 원하는 목표를 이루겠습니다.\\n']\n",
    "    f.writelines(text_list)\n",
    "# !cat writetest.txt\n",
    "\n",
    "with open('writetest.txt', 'a', encoding='cp949') as f:\n",
    "    text_list = ['나는 오늘 행복합니다.\\n', '코딩은 재미있습니다.\\n', '저는 3년 안에 원하는 목표를 이루겠습니다.']    \n",
    "    f.writelines(text_list)\n",
    "!cat writetest.txt"
   ]
  },
  {
   "cell_type": "markdown",
   "id": "465e09eb",
   "metadata": {},
   "source": [
    "## 5. 여러 줄 한꺼번에 읽기 + encoding"
   ]
  },
  {
   "cell_type": "code",
   "execution_count": 37,
   "id": "f441c397",
   "metadata": {},
   "outputs": [
    {
     "ename": "UnicodeDecodeError",
     "evalue": "'utf-8' codec can't decode byte 0xb3 in position 0: invalid start byte",
     "output_type": "error",
     "traceback": [
      "\u001b[0;31m---------------------------------------------------------------------------\u001b[0m",
      "\u001b[0;31mUnicodeDecodeError\u001b[0m                        Traceback (most recent call last)",
      "\u001b[0;32m<ipython-input-37-0b3c8437c884>\u001b[0m in \u001b[0;36m<module>\u001b[0;34m\u001b[0m\n\u001b[1;32m      1\u001b[0m \u001b[0mf\u001b[0m \u001b[0;34m=\u001b[0m \u001b[0mopen\u001b[0m\u001b[0;34m(\u001b[0m\u001b[0;34m'writetest.txt'\u001b[0m\u001b[0;34m,\u001b[0m \u001b[0;34m'r'\u001b[0m\u001b[0;34m)\u001b[0m\u001b[0;34m\u001b[0m\u001b[0;34m\u001b[0m\u001b[0m\n\u001b[1;32m      2\u001b[0m \u001b[0;31m# f = open('writetest.txt', 'r', encoding='cp949')\u001b[0m\u001b[0;34m\u001b[0m\u001b[0;34m\u001b[0m\u001b[0;34m\u001b[0m\u001b[0m\n\u001b[0;32m----> 3\u001b[0;31m \u001b[0mtext\u001b[0m \u001b[0;34m=\u001b[0m \u001b[0mf\u001b[0m\u001b[0;34m.\u001b[0m\u001b[0mread\u001b[0m\u001b[0;34m(\u001b[0m\u001b[0;34m)\u001b[0m\u001b[0;34m\u001b[0m\u001b[0;34m\u001b[0m\u001b[0m\n\u001b[0m\u001b[1;32m      4\u001b[0m \u001b[0mprint\u001b[0m\u001b[0;34m(\u001b[0m\u001b[0mtext\u001b[0m\u001b[0;34m)\u001b[0m\u001b[0;34m\u001b[0m\u001b[0;34m\u001b[0m\u001b[0m\n",
      "\u001b[0;32m~/opt/anaconda3/envs/nlp3710/lib/python3.7/codecs.py\u001b[0m in \u001b[0;36mdecode\u001b[0;34m(self, input, final)\u001b[0m\n\u001b[1;32m    320\u001b[0m         \u001b[0;31m# decode input (taking the buffer into account)\u001b[0m\u001b[0;34m\u001b[0m\u001b[0;34m\u001b[0m\u001b[0;34m\u001b[0m\u001b[0m\n\u001b[1;32m    321\u001b[0m         \u001b[0mdata\u001b[0m \u001b[0;34m=\u001b[0m \u001b[0mself\u001b[0m\u001b[0;34m.\u001b[0m\u001b[0mbuffer\u001b[0m \u001b[0;34m+\u001b[0m \u001b[0minput\u001b[0m\u001b[0;34m\u001b[0m\u001b[0;34m\u001b[0m\u001b[0m\n\u001b[0;32m--> 322\u001b[0;31m         \u001b[0;34m(\u001b[0m\u001b[0mresult\u001b[0m\u001b[0;34m,\u001b[0m \u001b[0mconsumed\u001b[0m\u001b[0;34m)\u001b[0m \u001b[0;34m=\u001b[0m \u001b[0mself\u001b[0m\u001b[0;34m.\u001b[0m\u001b[0m_buffer_decode\u001b[0m\u001b[0;34m(\u001b[0m\u001b[0mdata\u001b[0m\u001b[0;34m,\u001b[0m \u001b[0mself\u001b[0m\u001b[0;34m.\u001b[0m\u001b[0merrors\u001b[0m\u001b[0;34m,\u001b[0m \u001b[0mfinal\u001b[0m\u001b[0;34m)\u001b[0m\u001b[0;34m\u001b[0m\u001b[0;34m\u001b[0m\u001b[0m\n\u001b[0m\u001b[1;32m    323\u001b[0m         \u001b[0;31m# keep undecoded input until the next call\u001b[0m\u001b[0;34m\u001b[0m\u001b[0;34m\u001b[0m\u001b[0;34m\u001b[0m\u001b[0m\n\u001b[1;32m    324\u001b[0m         \u001b[0mself\u001b[0m\u001b[0;34m.\u001b[0m\u001b[0mbuffer\u001b[0m \u001b[0;34m=\u001b[0m \u001b[0mdata\u001b[0m\u001b[0;34m[\u001b[0m\u001b[0mconsumed\u001b[0m\u001b[0;34m:\u001b[0m\u001b[0;34m]\u001b[0m\u001b[0;34m\u001b[0m\u001b[0;34m\u001b[0m\u001b[0m\n",
      "\u001b[0;31mUnicodeDecodeError\u001b[0m: 'utf-8' codec can't decode byte 0xb3 in position 0: invalid start byte"
     ]
    }
   ],
   "source": [
    "f = open('writetest.txt', 'r')\n",
    "# f = open('writetest.txt', 'r', encoding='cp949')\n",
    "text = f.read()\n",
    "print(text)"
   ]
  },
  {
   "cell_type": "markdown",
   "id": "5387ffa6",
   "metadata": {},
   "source": [
    "## 6. 파일객체 자체를 이용한 한줄 씩 읽기\n",
    " - 파일 객체를 for문 안에 넣어 iteration 시키면, 따로 read() 하지 않아도 문자열로 나온다. \n",
    " - 파일 내용 확인할 때 편하게 할 수 있다."
   ]
  },
  {
   "cell_type": "code",
   "execution_count": 54,
   "id": "f134e73c",
   "metadata": {},
   "outputs": [
    {
     "name": "stdout",
     "output_type": "stream",
     "text": [
      "나는 오늘 행복합니다.코딩은 재미있습니다.저는 3년 안에 원하는 목표를 이루겠습니다.\n",
      "\n",
      "나는 오늘 행복합니다.\n",
      "\n",
      "코딩은 재미있습니다.\n",
      "\n",
      "저는 3년 안에 원하는 목표를 이루겠습니다.\n"
     ]
    }
   ],
   "source": [
    "f = open('writetest.txt', 'r', encoding='cp949')\n",
    "for line in f:\n",
    "    print(line)\n",
    "f.close()"
   ]
  },
  {
   "cell_type": "markdown",
   "id": "3d7b18b0",
   "metadata": {},
   "source": [
    "## 7. 파일객체 메소드 readlines() \n",
    "- 파일객체 전체를 줄단위로 읽어서 문자열 리스트로 반환한다.\n",
    "- 파일의 내용을 출력하기 위해서 이걸 쓰진 않는다. 그냥 파일객체를 for문 안에 넣는게 더 간단하니까.\n",
    "- 이건 파일객체의 내용을 line별로 문자열로 담아서 리스트에 넣어서 사용할 때 편리하게 만들 수 있겠다."
   ]
  },
  {
   "cell_type": "code",
   "execution_count": 42,
   "id": "f2123ee2",
   "metadata": {},
   "outputs": [
    {
     "name": "stdout",
     "output_type": "stream",
     "text": [
      "['나는 오늘 행복합니다.코딩은 재미있습니다.저는 3년 안에 원하는 목표를 이루겠습니다.\\n', '나는 오늘 행복합니다.\\n', '코딩은 재미있습니다.\\n', '저는 3년 안에 원하는 목표를 이루겠습니다.']\n",
      "나는 오늘 행복합니다.코딩은 재미있습니다.저는 3년 안에 원하는 목표를 이루겠습니다.\n",
      "\n",
      "나는 오늘 행복합니다.\n",
      "\n",
      "코딩은 재미있습니다.\n",
      "\n",
      "저는 3년 안에 원하는 목표를 이루겠습니다.\n"
     ]
    }
   ],
   "source": [
    "f = open('writetest.txt', 'r', encoding='cp949')\n",
    "line_list = f.readlines()\n",
    "print(line_list)\n",
    "for line in line_list:\n",
    "    print(line)"
   ]
  },
  {
   "cell_type": "markdown",
   "id": "764b6171",
   "metadata": {},
   "source": [
    "## 8. 파일객체 메소드 read()\n",
    " - 파일 객체 전체 내용을 읽어 하나의 문자열로 반환한다."
   ]
  },
  {
   "cell_type": "code",
   "execution_count": 51,
   "id": "c0da51a6",
   "metadata": {},
   "outputs": [
    {
     "data": {
      "text/plain": [
       "'나는 오늘 행복합니다.코딩은 재미있습니다.저는 3년 안에 원하는 목표를 이루겠습니다.\\n나는 오늘 행복합니다.\\n코딩은 재미있습니다.\\n저는 3년 안에 원하는 목표를 이루겠습니다.'"
      ]
     },
     "execution_count": 51,
     "metadata": {},
     "output_type": "execute_result"
    }
   ],
   "source": [
    "f = open('writetest.txt', 'r', encoding='cp949')\n",
    "f.read()"
   ]
  }
 ],
 "metadata": {
  "kernelspec": {
   "display_name": "nlp3710",
   "language": "python",
   "name": "nlp3710"
  },
  "language_info": {
   "codemirror_mode": {
    "name": "ipython",
    "version": 3
   },
   "file_extension": ".py",
   "mimetype": "text/x-python",
   "name": "python",
   "nbconvert_exporter": "python",
   "pygments_lexer": "ipython3",
   "version": "3.7.10"
  }
 },
 "nbformat": 4,
 "nbformat_minor": 5
}

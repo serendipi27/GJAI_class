{
 "cells": [
  {
   "cell_type": "markdown",
   "id": "c076eb4b",
   "metadata": {},
   "source": [
    "# 파일 입-출력\n",
    "\n",
    "## 파이썬 기본 입출력\n",
    "1. open()\n",
    "    - open() 함수의 결과는 파일 객체가 된다.\n",
    "    - f = open(파일명, 모드)\n",
    "    - 모드\n",
    "        - r: read-only(기본값)\n",
    "        - w: write\n",
    "        - a: append\n",
    "        - t: text mode\n",
    "        - b: 이진 모드\n",
    "2. 인코딩과 디코딩\n",
    "    - 미리 정의된 특정 문자열 집합을 사용하여 저장함(인코딩)\n",
    "    - 파일을 읽을 때는 어떤 문자열 집합을 사용했는지 알려주어야 함(디코딩)\n",
    "    - 파일의 인코딩은 메모장을 통해서 간단히 알 수 있음.\n",
    "    - 인코딩은 크게 ANSI or utf-8 두 가지로 나눌 수 있음.\n",
    "    - ANSI는 euc-kr을 의미함.\n",
    "    \n",
    "3. 인코딩 종류\n",
    "    - euc-kr: 11,172개의 한글 문자를 인코딩.\n",
    "    - cp949: euc-kr에서 특수문자를 조금 더 보완한 것. 사소한 내용이라 무시할 정도인데.\n",
    "    - utf-8\n",
    "\n",
    "4. utf 이야기\n",
    "    - 원래 utf-32에서 출발하였는데 이는 너무 크고 방대한 것이라 비효율적임.\n",
    "    - 그래서 utf-16, utf-8로 축소했는데, utf-8로도 충분함."
   ]
  },
  {
   "cell_type": "markdown",
   "id": "78d9bd81",
   "metadata": {},
   "source": [
    "# 새로운 디렉토리, 파일 만들고 확인하기 - 이어지는 내용임."
   ]
  },
  {
   "cell_type": "markdown",
   "id": "4dbaf4c9",
   "metadata": {},
   "source": [
    "## 1. 새로운 디렉토리(폴더, directory) 만들기"
   ]
  },
  {
   "cell_type": "code",
   "execution_count": 1,
   "id": "735ccc57",
   "metadata": {},
   "outputs": [
    {
     "name": "stdout",
     "output_type": "stream",
     "text": [
      "total 4\r\n",
      "drwxr-xr-x   3 jsha  staff   96 Sep  6 12:55 \u001b[1m\u001b[36m.\u001b[m\u001b[m\r\n",
      "drwxr-xr-x  13 jsha  staff  416 Sep  6 14:19 \u001b[1m\u001b[36m..\u001b[m\u001b[m\r\n",
      "-rw-r--r--   1 jsha  staff   26 Sep  6 12:55 myfile.txt\r\n"
     ]
    }
   ],
   "source": [
    "import os\n",
    "\n",
    "cwd = os.getcwd()\n",
    "\n",
    "newdir_name = 'filetest/'\n",
    "\n",
    "if not os.path.exists(os.path.join(cwd, newdir_name)):\n",
    "    os.mkdir(os.path.join(cwd,newdir_name))\n",
    "\n",
    "os.chdir(os.path.join(cwd, newdir_name))\n",
    "!ls -al"
   ]
  },
  {
   "cell_type": "markdown",
   "id": "26c74af8",
   "metadata": {},
   "source": [
    "## 2. 새로운 파일 만들기"
   ]
  },
  {
   "cell_type": "code",
   "execution_count": 2,
   "id": "95a460dc",
   "metadata": {},
   "outputs": [
    {
     "name": "stdout",
     "output_type": "stream",
     "text": [
      "yes, myfile.txt exist!!\n"
     ]
    }
   ],
   "source": [
    "import os\n",
    "import chardet\n",
    "\n",
    "file_name = 'myfile.txt'\n",
    "\n",
    "if not os.path.exists(file_name):\n",
    "    f = open(file_name, 'w')\n",
    "    f.write('hello my world \\n')\n",
    "    f.write('go forward')\n",
    "    f.close()\n",
    "    \n",
    "if os.path.exists(file_name):\n",
    "    print(f'yes, {file_name} exist!!')"
   ]
  },
  {
   "cell_type": "markdown",
   "id": "750916b1",
   "metadata": {},
   "source": [
    "## 3. 인코딩 종류 확인하기 - chrdet"
   ]
  },
  {
   "cell_type": "code",
   "execution_count": 21,
   "id": "d00fcf2c",
   "metadata": {},
   "outputs": [
    {
     "data": {
      "text/plain": [
       "{'encoding': 'ascii', 'confidence': 1.0, 'language': ''}"
      ]
     },
     "execution_count": 21,
     "metadata": {},
     "output_type": "execute_result"
    }
   ],
   "source": [
    "import os\n",
    "import chardet\n",
    "\n",
    "f = open(file_name, 'br').read()\n",
    "chardet.detect(f)"
   ]
  },
  {
   "cell_type": "markdown",
   "id": "e9dac1f1",
   "metadata": {},
   "source": [
    "## 4. 파일 쓰기\n",
    " - 파일객체 = open(파일명, 'w')\n",
    " - 파일객체.write(문자열)\n",
    " - 파일객체.writelines(문자열 리스트)"
   ]
  },
  {
   "cell_type": "code",
   "execution_count": 24,
   "id": "4d78e4c3",
   "metadata": {},
   "outputs": [
    {
     "name": "stdout",
     "output_type": "stream",
     "text": [
      "나는 오늘 행복합니다.코딩은 재미있습니다.저는 3년 안에 원하는 목표를 이루겠습니다.\r\n",
      "나는 오늘 행복합니다.\r\n",
      "코딩은 재미있습니다.\r\n",
      "저는 3년 안에 원하는 목표를 이루겠습니다."
     ]
    }
   ],
   "source": [
    "with open('writetest.txt', 'w') as f:\n",
    "    text_list = ['나는 오늘 행복합니다.', '코딩은 재미있습니다.', '저는 3년 안에 원하는 목표를 이루겠습니다.\\n']\n",
    "    f.writelines(text_list)\n",
    "# !cat writetest.txt\n",
    "\n",
    "with open('writetest.txt', 'a') as f:\n",
    "    text_list = ['나는 오늘 행복합니다.\\n', '코딩은 재미있습니다.\\n', '저는 3년 안에 원하는 목표를 이루겠습니다.']    \n",
    "    f.writelines(text_list)\n",
    "!cat writetest.txt"
   ]
  },
  {
   "cell_type": "code",
   "execution_count": null,
   "id": "5ef85a22",
   "metadata": {},
   "outputs": [],
   "source": []
  }
 ],
 "metadata": {
  "kernelspec": {
   "display_name": "nlp3710",
   "language": "python",
   "name": "nlp3710"
  },
  "language_info": {
   "codemirror_mode": {
    "name": "ipython",
    "version": 3
   },
   "file_extension": ".py",
   "mimetype": "text/x-python",
   "name": "python",
   "nbconvert_exporter": "python",
   "pygments_lexer": "ipython3",
   "version": "3.7.10"
  }
 },
 "nbformat": 4,
 "nbformat_minor": 5
}

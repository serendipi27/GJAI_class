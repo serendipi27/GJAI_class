{
 "cells": [
  {
   "cell_type": "markdown",
   "id": "c8034254",
   "metadata": {},
   "source": [
    "# 파일 입-출력\n",
    "\n",
    "## 파이썬 기본 입출력\n",
    "1. open()\n",
    "    a. open() 함수의 결과는 파일 객체가 된다.\n",
    "    b. f = open(파일명, 모드)\n",
    "    c. 모드\n",
    "        - r: read-only(기본값)\n",
    "        - w: write\n",
    "        - a: append\n",
    "        - t: text mode\n",
    "        - b: 이진 모드\n",
    "2. 인코딩과 디코딩\n",
    "    a. 미리 정의된 특정 문자열 집합을 사용하여 저장함(인코딩)\n",
    "    b. 파일을 읽을 때는 어떤 문자열 집합을 사용했는지 알려주어야 함(디코딩)\n",
    "    c. 파일의 인코딩은 메모장을 통해서 간단히 알 수 있음.\n",
    "    d. 인코딩은 크게 ANSI or utf-8 두 가지로 나눌 수 있음.\n",
    "    \n",
    "3. 인코딩 종류\n",
    "    a. euc-kr: 11,172개의 한글 문자를 인코딩.\n",
    "    b. cp949: euc-kr에서 특수문자를 조금 더 보완한 것. 사소한 내용이라 무시할 정도인데.\n",
    "    c. utf-8\n"
   ]
  }
 ],
 "metadata": {
  "kernelspec": {
   "display_name": "nlp3710",
   "language": "python",
   "name": "nlp3710"
  },
  "language_info": {
   "codemirror_mode": {
    "name": "ipython",
    "version": 3
   },
   "file_extension": ".py",
   "mimetype": "text/x-python",
   "name": "python",
   "nbconvert_exporter": "python",
   "pygments_lexer": "ipython3",
   "version": "3.7.10"
  }
 },
 "nbformat": 4,
 "nbformat_minor": 5
}

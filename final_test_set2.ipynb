{
 "cells": [
  {
   "cell_type": "markdown",
   "id": "5abcfd3f",
   "metadata": {},
   "source": [
    "# 연습문제 1\n",
    "- 다음은 Boston Housing 데이터셋이다\n",
    "- 데이터를 처음부터 순서대로 70%를 추출하여,\n",
    "- 변수 중 'tax'의 사분위수 Q1값을 구하시오"
   ]
  },
  {
   "cell_type": "code",
   "execution_count": 145,
   "id": "9a57286a",
   "metadata": {},
   "outputs": [
    {
     "name": "stdout",
     "output_type": "stream",
     "text": [
      "264.0\n"
     ]
    }
   ],
   "source": [
    "import pandas as pd\n",
    "\n",
    "path = '/Users/jsha/gjai/python_basic/pytest_basic/'\n",
    "bh_df = pd.read_csv(path+'boston_housing_new.csv')\n",
    "\n",
    "# 데이터를 처음부터 순서대로 70% 추출하여 df_sub에 저장\n",
    "per70 = int(len(bh_df)*0.7)\n",
    "df_sub = bh_df[:per70]\n",
    "\n",
    "# 특징 'tax'에서 사분위수 Q1을 tax_q1에 저장\n",
    "tax_q1 = df_sub['tax'].quantile(0.25)\n",
    "print(tax_q1)"
   ]
  },
  {
   "cell_type": "markdown",
   "id": "1c445ef5",
   "metadata": {},
   "source": [
    "# 연습문제 2\n",
    "- 다음은 국가별 국내 입국자 수 데이터이다\n",
    "- 2000년도 행만 선택한 후, \n",
    "- 그 해의 전체 입국자 평균보다 국내에 많이 입 국한 국가의 수를 산출하시오"
   ]
  },
  {
   "cell_type": "code",
   "execution_count": 146,
   "id": "83ab5d84",
   "metadata": {},
   "outputs": [
    {
     "name": "stdout",
     "output_type": "stream",
     "text": [
      "7\n"
     ]
    }
   ],
   "source": [
    "# 데이터 가져오기\n",
    "tour_df = pd.read_csv(path+'tour.csv', encoding='euc-kr')\n",
    "\n",
    "# 2000년도 자료만 추출하여 df_sub에 저장\n",
    "df_sub = tour_df[tour_df.year == 2000]\n",
    "# print(df_sub.shape)\n",
    "\n",
    "# df_sub 시리즈 형식으로 바꾸기\n",
    "s = df_sub.iloc[0,:]\n",
    "\n",
    "# year 인덱스 제거\n",
    "s.drop(index='year', inplace=True)\n",
    "\n",
    "# 전체 입국자 평균 구하기\n",
    "mean_val = int(s.mean())\n",
    "\n",
    "# 입국자 평균보다 높은 입국 국적을 더함.\n",
    "print(sum(s > mean_val))"
   ]
  },
  {
   "cell_type": "markdown",
   "id": "34e13bc4",
   "metadata": {},
   "source": [
    "# 연습문제 3\n",
    "- 다음 데이터셋의 컬럼 중 결측치의 비율이 가장 높은 컬럼명을 출력하시오"
   ]
  },
  {
   "cell_type": "code",
   "execution_count": 147,
   "id": "0f1cc883",
   "metadata": {},
   "outputs": [
    {
     "name": "stdout",
     "output_type": "stream",
     "text": [
      "Age\n"
     ]
    }
   ],
   "source": [
    "# 데이터 가져오기\n",
    "df = pd.read_csv(path+'titanic.csv')\n",
    "\n",
    "# 컬럼별 null값 수 더하기\n",
    "null_df = df.isnull().sum()\n",
    "\n",
    "# 결측치 비율이 가장 높은 컬럼명 출력\n",
    "argnum = null_df.argmax()\n",
    "print(null_df.index[argnum])\n"
   ]
  },
  {
   "cell_type": "markdown",
   "id": "6a4ac0b8",
   "metadata": {},
   "source": [
    "# 연습문제 4\n",
    "- 아래 데이터셋의 여행객 정보를 기반으로 여행보험 상품 가입 여부를 예측하시오\n",
    "- (train 데이터의 TravelInsurance 컬럼이 상품 가입 여부이며, 독립변수로 되어 있는 test 데이터로 예측)\n",
    "- ID와 예측치를 본인의 이름을 넣어 csv 파일로 저장하시오 (Travel_result_홍길동.csv)"
   ]
  },
  {
   "cell_type": "code",
   "execution_count": 148,
   "id": "1e29ded2",
   "metadata": {},
   "outputs": [],
   "source": [
    "train = pd.read_csv(path+'TravelInsurancePrediction_train.csv')\n",
    "test = pd.read_csv(path+'TravelInsurancePrediction_test.csv')"
   ]
  },
  {
   "cell_type": "code",
   "execution_count": 149,
   "id": "28f2b1b3",
   "metadata": {},
   "outputs": [
    {
     "name": "stdout",
     "output_type": "stream",
     "text": [
      "(1501, 10)\n",
      "(486, 9)\n",
      "<class 'pandas.core.frame.DataFrame'>\n",
      "RangeIndex: 1501 entries, 0 to 1500\n",
      "Data columns (total 10 columns):\n",
      " #   Column               Non-Null Count  Dtype \n",
      "---  ------               --------------  ----- \n",
      " 0   ID                   1501 non-null   int64 \n",
      " 1   Age                  1501 non-null   int64 \n",
      " 2   Employment Type      1501 non-null   object\n",
      " 3   GraduateOrNot        1501 non-null   object\n",
      " 4   AnnualIncome         1501 non-null   int64 \n",
      " 5   FamilyMembers        1501 non-null   int64 \n",
      " 6   ChronicDiseases      1501 non-null   int64 \n",
      " 7   FrequentFlyer        1501 non-null   object\n",
      " 8   EverTravelledAbroad  1501 non-null   object\n",
      " 9   TravelInsurance      1501 non-null   int64 \n",
      "dtypes: int64(6), object(4)\n",
      "memory usage: 117.4+ KB\n"
     ]
    }
   ],
   "source": [
    "print(train.shape)\n",
    "print(test.shape)\n",
    "train.info()"
   ]
  },
  {
   "cell_type": "code",
   "execution_count": 150,
   "id": "64a8963b",
   "metadata": {},
   "outputs": [
    {
     "data": {
      "text/plain": [
       "0    955\n",
       "1    546\n",
       "Name: TravelInsurance, dtype: int64"
      ]
     },
     "execution_count": 150,
     "metadata": {},
     "output_type": "execute_result"
    }
   ],
   "source": [
    "# y값 확인하기\n",
    "train['TravelInsurance'].value_counts()"
   ]
  },
  {
   "cell_type": "code",
   "execution_count": 151,
   "id": "a16f40c4",
   "metadata": {},
   "outputs": [
    {
     "name": "stdout",
     "output_type": "stream",
     "text": [
      "(1501, 9)\n"
     ]
    }
   ],
   "source": [
    "# train 데이터에서 y값 분리하기\n",
    "train_y = train['TravelInsurance']\n",
    "train_X = train.drop(columns='TravelInsurance')\n",
    "print(train_X.shape)"
   ]
  },
  {
   "cell_type": "code",
   "execution_count": 152,
   "id": "83464f42",
   "metadata": {},
   "outputs": [
    {
     "name": "stdout",
     "output_type": "stream",
     "text": [
      "(1501, 13)\n",
      "(486, 13)\n"
     ]
    }
   ],
   "source": [
    "# 카테고리컬 컬럼에 대한 원핫 인코딩\n",
    "categorical_list = train.columns[train.dtypes == object]\n",
    "# for col in categorical_list:\n",
    "#     print(train[col].value_counts())\n",
    "train_X = pd.get_dummies(train_X, columns=categorical_list)\n",
    "test_X = pd.get_dummies(test, columns=categorical_list)\n",
    "print(train_X.shape)\n",
    "print(test_X.shape)"
   ]
  },
  {
   "cell_type": "code",
   "execution_count": 153,
   "id": "d408b941",
   "metadata": {},
   "outputs": [],
   "source": [
    "# MinMaxScaling 하기\n",
    "from sklearn.preprocessing import MinMaxScaler\n",
    "mms = MinMaxScaler()\n",
    "scaled_train_X = pd.DataFrame(mms.fit_transform(train_X))\n",
    "scaled_test_X = pd.DataFrame(mms.transform(test_X))"
   ]
  },
  {
   "cell_type": "code",
   "execution_count": 154,
   "id": "b0993cff",
   "metadata": {},
   "outputs": [
    {
     "data": {
      "text/plain": [
       "0      0\n",
       "1      0\n",
       "2      0\n",
       "3      0\n",
       "4      0\n",
       "      ..\n",
       "481    1\n",
       "482    1\n",
       "483    0\n",
       "484    1\n",
       "485    0\n",
       "Name: pred_y, Length: 486, dtype: int64"
      ]
     },
     "execution_count": 154,
     "metadata": {},
     "output_type": "execute_result"
    }
   ],
   "source": [
    "# 로지스틱회귀 분류 모델 만들기\n",
    "from sklearn.linear_model import LogisticRegression\n",
    "lr = LogisticRegression()\n",
    "\n",
    "# 컬럼명 'ID'를 제외한 모든 데이터로 훈련하기\n",
    "lr.fit(scaled_train_X.iloc[:,1:], train_y)\n",
    "lr.score(scaled_train_X.iloc[:,1:], train_y)\n",
    "pred_y = lr.predict(scaled_test_X.iloc[:,1:])\n",
    "pred_s = pd.Series(pred_y, name='pred_y')\n",
    "pred_s"
   ]
  },
  {
   "cell_type": "code",
   "execution_count": 155,
   "id": "a8920702",
   "metadata": {},
   "outputs": [
    {
     "data": {
      "text/plain": [
       "(486,)"
      ]
     },
     "execution_count": 155,
     "metadata": {},
     "output_type": "execute_result"
    }
   ],
   "source": [
    "test_X['ID'].shape"
   ]
  },
  {
   "cell_type": "code",
   "execution_count": 156,
   "id": "bc4c28f6",
   "metadata": {},
   "outputs": [],
   "source": [
    "result_df = pd.concat([test_X['ID'], pred_s], axis=1)\n",
    "result_df.to_csv('Travel_result_하지성.csv')"
   ]
  },
  {
   "cell_type": "code",
   "execution_count": null,
   "id": "4d8e1f73",
   "metadata": {},
   "outputs": [],
   "source": []
  }
 ],
 "metadata": {
  "kernelspec": {
   "display_name": "nlp3710",
   "language": "python",
   "name": "nlp3710"
  },
  "language_info": {
   "codemirror_mode": {
    "name": "ipython",
    "version": 3
   },
   "file_extension": ".py",
   "mimetype": "text/x-python",
   "name": "python",
   "nbconvert_exporter": "python",
   "pygments_lexer": "ipython3",
   "version": "3.7.10"
  },
  "toc": {
   "base_numbering": 1,
   "nav_menu": {},
   "number_sections": true,
   "sideBar": true,
   "skip_h1_title": false,
   "title_cell": "Table of Contents",
   "title_sidebar": "Contents",
   "toc_cell": false,
   "toc_position": {},
   "toc_section_display": true,
   "toc_window_display": false
  }
 },
 "nbformat": 4,
 "nbformat_minor": 5
}

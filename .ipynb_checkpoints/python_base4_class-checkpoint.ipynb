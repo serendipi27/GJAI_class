{
 "cells": [
  {
   "cell_type": "markdown",
   "id": "37474a08",
   "metadata": {},
   "source": [
    "# 클래스 내 method 구현하기"
   ]
  },
  {
   "cell_type": "code",
   "execution_count": 1,
   "id": "06f39947",
   "metadata": {},
   "outputs": [
    {
     "name": "stdout",
     "output_type": "stream",
     "text": [
      "뛰뛰 빵빵!!\n",
      "부아아아아아앙 끽!!!!!\n"
     ]
    }
   ],
   "source": [
    "class car():\n",
    "    def make_noise(self, sound):\n",
    "        print(sound)\n",
    "        \n",
    "car1 = car()\n",
    "car1.make_noise('뛰뛰 빵빵!!')\n",
    "\n",
    "car2 = car()\n",
    "car2.make_noise('부아아아아아앙 끽!!!!!')"
   ]
  },
  {
   "cell_type": "markdown",
   "id": "e15cad67",
   "metadata": {},
   "source": [
    "# 클래스의 __init__ 메소드 사용하기"
   ]
  },
  {
   "cell_type": "code",
   "execution_count": 3,
   "id": "164e1d1f",
   "metadata": {},
   "outputs": [
    {
     "name": "stdout",
     "output_type": "stream",
     "text": [
      "뛰빵빵!!\n",
      "hey man!! rock and roll~!!\n"
     ]
    }
   ],
   "source": [
    "class car():\n",
    "    def __init__(self, sound):\n",
    "        self.sound = sound\n",
    "        \n",
    "    def make_noise(self):\n",
    "        print(self.sound)\n",
    "        \n",
    "car1 = car('뛰빵빵!!')\n",
    "car1.make_noise()\n",
    "\n",
    "car2 = car('hey man!! rock and roll~!!')\n",
    "car2.make_noise()\n"
   ]
  },
  {
   "cell_type": "markdown",
   "id": "3f382da6",
   "metadata": {},
   "source": [
    "# 클래스의 __call__ 메소드 사용하기\n",
    "- 객체 자체를 함수처럼 사용하기 위함.\n",
    "- 별로 효용성은 없다.\n",
    "- return 구문이 필요한지 확인해 보자. 필요없다.\n",
    "- **(주의사항) __init__ 함수는 반드시 필요하다. 왜냐하면 self를 반드시 써야해서.**"
   ]
  },
  {
   "cell_type": "code",
   "execution_count": 13,
   "id": "3cc6da69",
   "metadata": {},
   "outputs": [
    {
     "name": "stdout",
     "output_type": "stream",
     "text": [
      "hello my bros\n"
     ]
    },
    {
     "data": {
      "text/plain": [
       "'sound bamm'"
      ]
     },
     "execution_count": 13,
     "metadata": {},
     "output_type": "execute_result"
    }
   ],
   "source": [
    "class car():\n",
    "    def __init__(self, sound):\n",
    "        self.sound = sound\n",
    "        \n",
    "    def __call__(self):\n",
    "#         print(self.sound)\n",
    "        print('hello my bros')\n",
    "        return 'sound bamm'\n",
    "        \n",
    "car1 = car('뛰뛰 빵빵!!')\n",
    "car1()"
   ]
  },
  {
   "cell_type": "markdown",
   "id": "2a384551",
   "metadata": {},
   "source": [
    "# 연습문제 for class method"
   ]
  },
  {
   "cell_type": "code",
   "execution_count": 16,
   "id": "9da9507a",
   "metadata": {},
   "outputs": [
    {
     "name": "stdout",
     "output_type": "stream",
     "text": [
      "my name is volvo xc90\n",
      "let's make a noise\n",
      "this is my car. will be.\n"
     ]
    }
   ],
   "source": [
    "class car():\n",
    "    def __init__(self, name):\n",
    "        self.name = name\n",
    "        \n",
    "    def __call__(self):\n",
    "        print(f'my name is {self.name}')\n",
    "        \n",
    "    def make_noise(self, noise):\n",
    "        self.noise = noise\n",
    "        print(\"let's make a noise\")\n",
    "        print(self.noise)\n",
    "        \n",
    "car1 = car('volvo xc90')\n",
    "car1()\n",
    "car1.make_noise('this is my car. will be.')"
   ]
  },
  {
   "cell_type": "code",
   "execution_count": null,
   "id": "5f0850f1",
   "metadata": {},
   "outputs": [],
   "source": []
  }
 ],
 "metadata": {
  "kernelspec": {
   "display_name": "nlp3710",
   "language": "python",
   "name": "nlp3710"
  },
  "language_info": {
   "codemirror_mode": {
    "name": "ipython",
    "version": 3
   },
   "file_extension": ".py",
   "mimetype": "text/x-python",
   "name": "python",
   "nbconvert_exporter": "python",
   "pygments_lexer": "ipython3",
   "version": "3.7.10"
  }
 },
 "nbformat": 4,
 "nbformat_minor": 5
}

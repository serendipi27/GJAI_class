{
 "cells": [
  {
   "cell_type": "markdown",
   "id": "b90750a2",
   "metadata": {},
   "source": [
    "# numpy\n",
    "\n",
    "1. Numpy\n",
    " - numerical python의 줄임말\n",
    " - 파이썬에서 산술 계산을 위한 가장 중요한 필수 패키지 중 하나\n",
    " - 과학 게산을 위한 대부분의 패키지는 numpy의 배열 객체를 데이터 교환을 위한 공통 언어처럼 사용\n",
    "\n",
    "\n",
    "2. numpy의 특징\n",
    " - numpy는 내부적으로 데이터를 다른 내장 파이썬 객체와 구분된 연속된 메모리 블록에 저장함.\n",
    " - numpy의 각종 알고리즘은 모두 C로 작성되어 타입 검사나 다른 오버헤드 없이 메모리를 직접 조작 가능\n",
    " - numpy 배열은 내장 파이썬의 연속된 자료형들보다 훨씬 더 적은 메모리를 사용함.\n",
    " - <u>**numpy 연산은 파이썬 반복문을 사용하지 않고 전체 배열에 대한 복잡한 계산을 수행함.**</u>\n",
    " \n",
    "\n",
    "2. numpy가 제공하는 것들\n",
    " - 효율적인 다차원 배열인 ndarray는 빠른 배열 계산과 유연한 **브로드캐스팅** 기능을 제공\n",
    " - **반복문을 작성할 필요 없이 전체 데이터 배열을 빠르게 계산할 수 있는 표준 수학 함수**\n",
    " - 비열 데이터를 디스크에 쓰거나 읽을 수 있는 도구와 메모리에 적재된 파일을 다루는 도구\n",
    " - 선형대수, 난수 생성기, 푸리에 변환 기능\n",
    " - C, C++, 포트란으로 작성한 코드를 연결하 수 있는 C API\n",
    " \n",
    " \n",
    "3. 공부 접근 방법\n",
    " - numpy 자체는 모델링이나 과학 계산을 위한 기능을 제공하지 않음.\n",
    " - 먼저, numpy 배열과 배열 기반 연산에 대한 이해 필요\n",
    " - 이후, pandas 같은 배열 기반 도구를 사용하면 훨씬 더 효율적임.\n",
    " - 브로드캐스팅과 같은 numpy 고급 기능은 따로 다뤄야 함.\n",
    " \n",
    " \n",
    "4. 데이터 분석 애플리케이션에서 중요한 기능\n",
    " - 벡터 배열 상에서 **데이터 가공(데이터 먼징 또는 데이터 랭글링), 정제, 부분집합, 필터링, 변형** 그리고 다른 여러 종류의 연산을 빠르게 수행\n",
    " - 정렬, 유일 원소 찾기, 집합 연산 같은 일반적인 배열 처리 알고리즘\n",
    " - 통계의 효과적인 표현과 데이터를 수집 요약하기\n",
    " - 다양한 종류의 데이터를 병합하고 엮기 위한 데이터 정렬과 데이터 간의 관계 조작\n",
    " - 내부에서 if-elif-else를 사용하는 반복문 대신 사용할 수 있는 조건절 표현을 허용하는 배열 처리\n",
    " - 데이터 묶음 전체에 적용할 수 있는 수집, 변형, 함수 적ㄱ용 같은 데이터 처리"
   ]
  },
  {
   "cell_type": "markdown",
   "id": "8e99b97e",
   "metadata": {},
   "source": [
    "# numpy와 list의 속도 차이"
   ]
  },
  {
   "cell_type": "code",
   "execution_count": 6,
   "id": "c4a1181a",
   "metadata": {},
   "outputs": [
    {
     "name": "stdout",
     "output_type": "stream",
     "text": [
      "CPU times: user 689 µs, sys: 283 µs, total: 972 µs\n",
      "Wall time: 884 µs\n",
      "----------------------------------------------------------------------\n",
      "CPU times: user 6.76 ms, sys: 1.31 ms, total: 8.07 ms\n",
      "Wall time: 7.54 ms\n"
     ]
    }
   ],
   "source": [
    "import numpy as np\n",
    "\n",
    "arr_num = np.arange(10000)\n",
    "list_num = list(range(10000))\n",
    "\n",
    "%time for _ in range(10): arr_num*2\n",
    "print('-'*70)   \n",
    "%time for _ in range(10): [i*2 for i in list_num]"
   ]
  },
  {
   "cell_type": "markdown",
   "id": "e0acd0a2",
   "metadata": {},
   "source": [
    "# 산술 연산"
   ]
  },
  {
   "cell_type": "code",
   "execution_count": 3,
   "id": "19055dc1",
   "metadata": {},
   "outputs": [
    {
     "name": "stdout",
     "output_type": "stream",
     "text": [
      "[2 3 4 5 6]\n",
      "[-2 -1  0  1  2]\n",
      "[0 2 4 6 8]\n",
      "[0.  0.5 1.  1.5 2. ]\n"
     ]
    }
   ],
   "source": [
    "import numpy as np\n",
    "\n",
    "arr = np.arange(5)\n",
    "\n",
    "print(np.add(arr, 2))\n",
    "print(np.subtract(arr, 2))\n",
    "print(np.multiply(arr, 2))\n",
    "print(np.divide(arr, 2))"
   ]
  },
  {
   "cell_type": "markdown",
   "id": "44079253",
   "metadata": {},
   "source": [
    "# 계산 함수들"
   ]
  },
  {
   "cell_type": "code",
   "execution_count": 8,
   "id": "bad606f6",
   "metadata": {},
   "outputs": [
    {
     "name": "stdout",
     "output_type": "stream",
     "text": [
      "0.9751576922110216\n",
      "0.0011394778970923447\n",
      "48.53220814506749\n",
      "--------------------내장함수--------------------\n",
      "0.9751576922110216\n",
      "0.0011394778970923447\n",
      "48.53220814506747\n"
     ]
    }
   ],
   "source": [
    "arr = np.random.random(100)\n",
    "print(np.max(arr))\n",
    "print(np.min(arr))\n",
    "print(np.sum(arr))\n",
    "\n",
    "print('-'*20 + '내장함수' + '-'*20)\n",
    "print(max(arr))\n",
    "print(min(arr))\n",
    "print(sum(arr))"
   ]
  },
  {
   "cell_type": "markdown",
   "id": "a1304395",
   "metadata": {},
   "source": [
    "# 통계 함수들"
   ]
  },
  {
   "cell_type": "code",
   "execution_count": 10,
   "id": "77355495",
   "metadata": {},
   "outputs": [
    {
     "name": "stdout",
     "output_type": "stream",
     "text": [
      "0.5244693041456494\n",
      "0.5018849112345334\n",
      "0.08480930410235368\n",
      "0.29122037034238124\n",
      "7 0.02093317826061969\n",
      "11 0.9919742323109295\n",
      "True\n",
      "True\n"
     ]
    }
   ],
   "source": [
    "arr = np.random.random(100)\n",
    "print(np.mean(arr))\n",
    "print(np.median(arr))\n",
    "print(np.var(arr))\n",
    "print(np.std(arr))\n",
    "\n",
    "print(np.argmin(arr), np.min(arr))\n",
    "print(np.argmax(arr), np.max(arr))\n",
    "\n",
    "print(np.any(arr))\n",
    "print(np.all(arr))"
   ]
  },
  {
   "cell_type": "markdown",
   "id": "f682f6b7",
   "metadata": {},
   "source": [
    "# ndarray\n",
    " - numpy 핵심 기능 중 하나인 다차원(n차원) 배열 객체\n",
    " - 파이썬에서 사용할 수 있는 대규모 데이터 집합을 담을 수 있는 **빠르고 유연한 자료구조임.**\n",
    " - arry\n",
    " - arange()\n",
    " - ones()\n",
    " - zeros()\n",
    " - "
   ]
  },
  {
   "cell_type": "markdown",
   "id": "81917a6d",
   "metadata": {},
   "source": [
    "## ndarray 생성"
   ]
  },
  {
   "cell_type": "code",
   "execution_count": 14,
   "id": "6ff0c7d1",
   "metadata": {},
   "outputs": [
    {
     "name": "stdout",
     "output_type": "stream",
     "text": [
      "0 () 10\n",
      "1 (6,) [0 1 2 3 4 5]\n",
      "2 (2, 6) [[ 0  1  2  3  4  5]\n",
      " [10 11 12 13 14 15]]\n"
     ]
    }
   ],
   "source": [
    "import numpy as np\n",
    "\n",
    "list1 = [0,1,2,3,4,5]\n",
    "list2 = [10,11,12,13,14,15]\n",
    "\n",
    "scal1 = np.array(10) # 0차원 스칼라\n",
    "vec1 = np.array(list1) # 1차원 벡터\n",
    "mat1 = np.array([list1, list2]) # 2차원 행렬\n",
    "\n",
    "print(scal1.ndim, scal1.shape, scal1)\n",
    "print(vec1.ndim, vec1.shape, vec1)\n",
    "print(mat1.ndim, mat1.shape, mat1)"
   ]
  },
  {
   "cell_type": "markdown",
   "id": "43cda79d",
   "metadata": {},
   "source": [
    "## 여러가지 ndarray 생성 함수"
   ]
  },
  {
   "cell_type": "code",
   "execution_count": 20,
   "id": "370b1d61",
   "metadata": {},
   "outputs": [
    {
     "name": "stdout",
     "output_type": "stream",
     "text": [
      "[0 1 2 3 4 5 6 7 8 9]\n",
      "[[0 1]\n",
      " [2 3]\n",
      " [4 5]\n",
      " [6 7]\n",
      " [8 9]]\n",
      "[0. 0. 0. 0.]\n",
      "[[0. 0. 0. 0.]\n",
      " [0. 0. 0. 0.]\n",
      " [0. 0. 0. 0.]]\n",
      "[[1. 0. 0. 0. 0.]\n",
      " [0. 1. 0. 0. 0.]\n",
      " [0. 0. 1. 0. 0.]\n",
      " [0. 0. 0. 1. 0.]\n",
      " [0. 0. 0. 0. 1.]]\n"
     ]
    }
   ],
   "source": [
    "import numpy as np\n",
    "\n",
    "arr1 = np.arange(10)\n",
    "arr1_2 = arr1.reshape(-1,2)\n",
    "arr2 = np.zeros(4)\n",
    "arr3 = np.zeros((3,4))\n",
    "arr4 = np.eye(5)\n",
    "print(arr1)\n",
    "print(arr1_2)\n",
    "print(arr2)\n",
    "print(arr3)\n",
    "print(arr4)"
   ]
  },
  {
   "cell_type": "markdown",
   "id": "eefd666f",
   "metadata": {},
   "source": [
    "## 배열 연산\n",
    " - 배열 연산은 for 문을 사용하지 않고 데이터를 일괄처리 함.\n",
    " - **같은 크기의 배열들의 산술연산은 같은 위치의 원소들 간의 연산이 적용**\n",
    " - 파이썬의 기본 연산자를 사용"
   ]
  },
  {
   "cell_type": "code",
   "execution_count": 22,
   "id": "e24497e7",
   "metadata": {},
   "outputs": [
    {
     "name": "stdout",
     "output_type": "stream",
     "text": [
      "[0 1 2 3 4 5 6 7 8 9]\n",
      "[ 2  3  4  5  6  7  8  9 10 11]\n",
      "[ 0  2  4  6  8 10 12 14 16 18]\n",
      "[0.         0.09090909 0.16666667 0.23076923 0.28571429 0.33333333\n",
      " 0.375      0.41176471 0.44444444 0.47368421]\n"
     ]
    }
   ],
   "source": [
    "import numpy as np\n",
    "\n",
    "arr1 = np.arange(10)\n",
    "arr2 = np.arange(10, 20)\n",
    "\n",
    "print(arr1)\n",
    "print(arr1 + 2)\n",
    "print(arr1 * 2)\n",
    "print(arr1 / arr2)"
   ]
  },
  {
   "cell_type": "markdown",
   "id": "62769e35",
   "metadata": {},
   "source": [
    "## 배열의 인덱싱\n",
    " - 리스트와 비슷함."
   ]
  },
  {
   "cell_type": "code",
   "execution_count": 23,
   "id": "20d8baca",
   "metadata": {},
   "outputs": [
    {
     "name": "stdout",
     "output_type": "stream",
     "text": [
      "[[ 0  1  2  3  4]\n",
      " [ 5  6  7  8  9]\n",
      " [10 11 12 13 14]]\n",
      "[10 11 12 13 14]\n",
      "10\n",
      "4\n"
     ]
    }
   ],
   "source": [
    "import numpy as np\n",
    "\n",
    "arr = np.arange(15).reshape(3,5)\n",
    "print(arr)\n",
    "print(arr[2])\n",
    "print(arr[2][0])\n",
    "print(arr[0][-1])"
   ]
  },
  {
   "cell_type": "markdown",
   "id": "a850ecc7",
   "metadata": {},
   "source": [
    "## 배열의 슬라이싱"
   ]
  },
  {
   "cell_type": "code",
   "execution_count": null,
   "id": "935f9c00",
   "metadata": {},
   "outputs": [],
   "source": []
  },
  {
   "cell_type": "markdown",
   "id": "fb847f28",
   "metadata": {},
   "source": [
    "## 전치 행렬"
   ]
  },
  {
   "cell_type": "code",
   "execution_count": 25,
   "id": "9fee9847",
   "metadata": {},
   "outputs": [
    {
     "name": "stdout",
     "output_type": "stream",
     "text": [
      "[[ 0  1  2  3  4  5  6  7]\n",
      " [ 8  9 10 11 12 13 14 15]\n",
      " [16 17 18 19 20 21 22 23]]\n",
      "[[ 0  8 16]\n",
      " [ 1  9 17]\n",
      " [ 2 10 18]\n",
      " [ 3 11 19]\n",
      " [ 4 12 20]\n",
      " [ 5 13 21]\n",
      " [ 6 14 22]\n",
      " [ 7 15 23]]\n"
     ]
    }
   ],
   "source": [
    "import numpy as np\n",
    "\n",
    "arr = np.arange(24).reshape(3, 8)\n",
    "print(arr)\n",
    "arrT = arr.T\n",
    "print(arrT)"
   ]
  },
  {
   "cell_type": "code",
   "execution_count": 68,
   "id": "c4b2375e",
   "metadata": {},
   "outputs": [
    {
     "name": "stdout",
     "output_type": "stream",
     "text": [
      "1\n"
     ]
    },
    {
     "data": {
      "text/plain": [
       "<AxesSubplot:ylabel='Frequency'>"
      ]
     },
     "execution_count": 68,
     "metadata": {},
     "output_type": "execute_result"
    },
    {
     "data": {
      "image/png": "[encoded data removed]",
      "text/plain": [
       "<Figure size 432x288 with 1 Axes>"
      ]
     },
     "metadata": {
      "needs_background": "light"
     },
     "output_type": "display_data"
    }
   ],
   "source": [
    "import pandas as pd\n",
    "import numpy as np\n",
    "import seaborn as sns\n",
    "\n",
    "data = np.random.randn(1000)\n",
    "print(data.ndim)\n",
    "df = pd.DataFrame(data)\n",
    "df.plot.hist()"
   ]
  },
  {
   "cell_type": "markdown",
   "id": "f11af392",
   "metadata": {},
   "source": [
    "## 연습 문제 for numpy & plot"
   ]
  },
  {
   "cell_type": "code",
   "execution_count": 87,
   "id": "e9fce658",
   "metadata": {},
   "outputs": [
    {
     "name": "stdout",
     "output_type": "stream",
     "text": [
      "193\n"
     ]
    }
   ],
   "source": [
    "import os\n",
    "import pandas as pd\n",
    "import numpy as np\n",
    "\n",
    "path = '/Users/jsha/gjai/python_basic/pytest_basic/'\n",
    "os.chdir(path)\n",
    "\n",
    "data = pd.read_csv('presidents_heights.csv')\n",
    "\n",
    "arr = data.to_numpy()\n",
    "height = arr[:, 2]\n",
    "idx = np.argmax(height)\n",
    "print(height[idx])"
   ]
  },
  {
   "cell_type": "code",
   "execution_count": 90,
   "id": "b9253aa9",
   "metadata": {},
   "outputs": [
    {
     "data": {
      "text/plain": [
       "<AxesSubplot:ylabel='Frequency'>"
      ]
     },
     "execution_count": 90,
     "metadata": {},
     "output_type": "execute_result"
    },
    {
     "data": {
      "image/png": "[encoded data removed]",
      "text/plain": [
       "<Figure size 432x288 with 1 Axes>"
      ]
     },
     "metadata": {
      "needs_background": "light"
     },
     "output_type": "display_data"
    }
   ],
   "source": [
    "pd.Series(height).plot.hist()"
   ]
  }
 ],
 "metadata": {
  "kernelspec": {
   "display_name": "nlp3710",
   "language": "python",
   "name": "nlp3710"
  },
  "language_info": {
   "codemirror_mode": {
    "name": "ipython",
    "version": 3
   },
   "file_extension": ".py",
   "mimetype": "text/x-python",
   "name": "python",
   "nbconvert_exporter": "python",
   "pygments_lexer": "ipython3",
   "version": "3.7.10"
  }
 },
 "nbformat": 4,
 "nbformat_minor": 5
}

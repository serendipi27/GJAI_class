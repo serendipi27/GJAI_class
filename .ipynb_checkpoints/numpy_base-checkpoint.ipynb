{
 "cells": [
  {
   "cell_type": "markdown",
   "id": "b90750a2",
   "metadata": {},
   "source": [
    "# numpy\n",
    "\n",
    "1. Numpy\n",
    " - numerical python의 줄임말\n",
    " - 파이썬에서 산술 계산을 위한 가장 중요한 필수 패키지 중 하나\n",
    " - 과학 게산을 위한 대부분의 패키지는 numpy의 배열 객체를 데이터 교환을 위한 공통 언어처럼 사용\n",
    "\n",
    "\n",
    "2. numpy의 특징\n",
    " - numpy는 내부적으로 데이터를 다른 내장 파이썬 객체와 구분된 연속된 메모리 블록에 저장함.\n",
    " - numpy의 각종 알고리즘은 모두 C로 작성되어 타입 검사나 다른 오버헤드 없이 메모리를 직접 조작 가능\n",
    " - numpy 배열은 내장 파이썬의 연속된 자료형들보다 훨씬 더 적은 메모리를 사용함.\n",
    " - <u>**numpy 연산은 파이썬 반복문을 사용하지 않고 전체 배열에 대한 복잡한 계산을 수행함.**</u>\n",
    " \n",
    "\n",
    "2. numpy가 제공하는 것들\n",
    " - 효율적인 다차원 배열인 ndarray는 빠른 배열 계산과 유연한 **브로드캐스팅** 기능을 제공\n",
    " - **반복문을 작성할 필요 없이 전체 데이터 배열을 빠르게 계산할 수 있는 표준 수학 함수**\n",
    " - 비열 데이터를 디스크에 쓰거나 읽을 수 있는 도구와 메모리에 적재된 파일을 다루는 도구\n",
    " - 선형대수, 난수 생성기, 푸리에 변환 기능\n",
    " - C, C++, 포트란으로 작성한 코드를 연결하 수 있는 C API\n",
    " \n",
    " \n",
    "3. 공부 접근 방법\n",
    " - numpy 자체는 모델링이나 과학 계산을 위한 기능을 제공하지 않음.\n",
    " - 먼저, numpy 배열과 배열 기반 연산에 대한 이해 필요\n",
    " - 이후, pandas 같은 배열 기반 도구를 사용하면 훨씬 더 효율적임.\n",
    " - 브로드캐스팅과 같은 numpy 고급 기능은 따로 다뤄야 함.\n",
    " \n",
    " \n",
    "4. 데이터 분석 애플리케이션에서 중요한 기능\n",
    " - 벡터 배열 상에서 **데이터 가공(데이터 먼징 또는 데이터 랭글링), 정제, 부분집합, 필터링, 변형** 그리고 다른 여러 종류의 연산을 빠르게 수행\n",
    " - 정렬, 유일 원소 찾기, 집합 연산 같은 일반적인 배열 처리 알고리즘\n",
    " - 통계의 효과적인 표현과 데이터를 수집 요약하기\n",
    " - 다양한 종류의 데이터를 병합하고 엮기 위한 데이터 정렬과 데이터 간의 관계 조작\n",
    " - 내부에서 if-elif-else를 사용하는 반복문 대신 사용할 수 있는 조건절 표현을 허용하는 배열 처리\n",
    " - 데이터 묶음 전체에 적용할 수 있는 수집, 변형, 함수 적ㄱ용 같은 데이터 처리"
   ]
  },
  {
   "cell_type": "markdown",
   "id": "8e99b97e",
   "metadata": {},
   "source": [
    "# numpy와 list의 속도 차이"
   ]
  },
  {
   "cell_type": "code",
   "execution_count": 6,
   "id": "c4a1181a",
   "metadata": {},
   "outputs": [
    {
     "name": "stdout",
     "output_type": "stream",
     "text": [
      "CPU times: user 689 µs, sys: 283 µs, total: 972 µs\n",
      "Wall time: 884 µs\n",
      "----------------------------------------------------------------------\n",
      "CPU times: user 6.76 ms, sys: 1.31 ms, total: 8.07 ms\n",
      "Wall time: 7.54 ms\n"
     ]
    }
   ],
   "source": [
    "import numpy as np\n",
    "\n",
    "arr_num = np.arange(10000)\n",
    "list_num = list(range(10000))\n",
    "\n",
    "%time for _ in range(10): arr_num*2\n",
    "print('-'*70)   \n",
    "%time for _ in range(10): [i*2 for i in list_num]"
   ]
  },
  {
   "cell_type": "code",
   "execution_count": null,
   "id": "ce7e6bb3",
   "metadata": {},
   "outputs": [],
   "source": []
  }
 ],
 "metadata": {
  "kernelspec": {
   "display_name": "nlp3710",
   "language": "python",
   "name": "nlp3710"
  },
  "language_info": {
   "codemirror_mode": {
    "name": "ipython",
    "version": 3
   },
   "file_extension": ".py",
   "mimetype": "text/x-python",
   "name": "python",
   "nbconvert_exporter": "python",
   "pygments_lexer": "ipython3",
   "version": "3.7.10"
  }
 },
 "nbformat": 4,
 "nbformat_minor": 5
}

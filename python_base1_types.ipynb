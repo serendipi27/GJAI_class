{
 "cells": [
  {
   "cell_type": "markdown",
   "metadata": {},
   "source": [
    "## 4칙 연산"
   ]
  },
  {
   "cell_type": "code",
   "execution_count": 1,
   "metadata": {},
   "outputs": [
    {
     "name": "stdout",
     "output_type": "stream",
     "text": [
      "80\n"
     ]
    }
   ],
   "source": [
    "apple = 10\n",
    "lemon, banana = 20, 50\n",
    "fruit = apple + lemon + banana\n",
    "print(fruit)"
   ]
  },
  {
   "cell_type": "code",
   "execution_count": 2,
   "metadata": {},
   "outputs": [
    {
     "name": "stdout",
     "output_type": "stream",
     "text": [
      "add: 110\n"
     ]
    }
   ],
   "source": [
    "a = 10\n",
    "b = 100\n",
    "\n",
    "add = a + b\n",
    "print('add:', add)"
   ]
  },
  {
   "cell_type": "code",
   "execution_count": 3,
   "metadata": {},
   "outputs": [
    {
     "name": "stdout",
     "output_type": "stream",
     "text": [
      "sub: -90\n"
     ]
    }
   ],
   "source": [
    "sub = a - b\n",
    "print('sub:', sub)"
   ]
  },
  {
   "cell_type": "code",
   "execution_count": 4,
   "metadata": {},
   "outputs": [
    {
     "name": "stdout",
     "output_type": "stream",
     "text": [
      "mul: 1000\n"
     ]
    }
   ],
   "source": [
    "mul = a * b\n",
    "print('mul:', mul)"
   ]
  },
  {
   "cell_type": "code",
   "execution_count": 5,
   "metadata": {},
   "outputs": [
    {
     "name": "stdout",
     "output_type": "stream",
     "text": [
      "div: 0.1\n"
     ]
    }
   ],
   "source": [
    "div = a / b\n",
    "print('div:', div)"
   ]
  },
  {
   "cell_type": "code",
   "execution_count": 6,
   "metadata": {},
   "outputs": [
    {
     "name": "stdout",
     "output_type": "stream",
     "text": [
      "dxpon: 10000000000000000000000000000000000000000000000000000000000000000000000000000000000000000000000000000\n"
     ]
    }
   ],
   "source": [
    "expon = a ** b\n",
    "print('dxpon:', expon)"
   ]
  },
  {
   "cell_type": "code",
   "execution_count": 7,
   "metadata": {},
   "outputs": [
    {
     "name": "stdout",
     "output_type": "stream",
     "text": [
      "remainder: 10\n"
     ]
    }
   ],
   "source": [
    "remainder = a % b\n",
    "print('remainder:', remainder)"
   ]
  },
  {
   "cell_type": "code",
   "execution_count": 8,
   "metadata": {},
   "outputs": [
    {
     "name": "stdout",
     "output_type": "stream",
     "text": [
      "Seoul Suncheon\n"
     ]
    }
   ],
   "source": [
    "city = 'Seoul'\n",
    "city2 = 'Suncheon'\n",
    "print(city, city2)"
   ]
  },
  {
   "cell_type": "code",
   "execution_count": 9,
   "metadata": {},
   "outputs": [
    {
     "name": "stdout",
     "output_type": "stream",
     "text": [
      "15\n"
     ]
    }
   ],
   "source": [
    "addnum = (1 + 2 + 3\n",
    "+ 4 + 5)\n",
    "print(addnum)"
   ]
  },
  {
   "cell_type": "code",
   "execution_count": 10,
   "metadata": {},
   "outputs": [
    {
     "name": "stdout",
     "output_type": "stream",
     "text": [
      "6\n"
     ]
    }
   ],
   "source": [
    "addnum = 1 + 2 + 3\n",
    "+ 4 + 5\n",
    "print(addnum)"
   ]
  },
  {
   "cell_type": "code",
   "execution_count": 11,
   "metadata": {},
   "outputs": [
    {
     "name": "stdout",
     "output_type": "stream",
     "text": [
      "15\n"
     ]
    }
   ],
   "source": [
    "addnum = 1 + 2 + 3\\\n",
    "+ 4 + 5\n",
    "print(addnum)"
   ]
  },
  {
   "cell_type": "markdown",
   "metadata": {},
   "source": [
    "## input 함수"
   ]
  },
  {
   "cell_type": "code",
   "execution_count": 12,
   "metadata": {},
   "outputs": [
    {
     "name": "stdout",
     "output_type": "stream",
     "text": [
      "이름을 입력하세요:\n",
      "\n",
      "my name is  \n"
     ]
    }
   ],
   "source": [
    "print('이름을 입력하세요:')\n",
    "name = input()\n",
    "print('my name is ', name)"
   ]
  },
  {
   "cell_type": "markdown",
   "metadata": {},
   "source": [
    "## 내장 모듈 math 사용하기"
   ]
  },
  {
   "cell_type": "code",
   "execution_count": 13,
   "metadata": {},
   "outputs": [
    {
     "name": "stdout",
     "output_type": "stream",
     "text": [
      "3.141592653589793\n",
      "1.7724538509055159\n",
      "62.83185307179586\n"
     ]
    }
   ],
   "source": [
    "import math\n",
    "\n",
    "print(math.pi)\n",
    "print(math.sqrt(math.pi))\n",
    "\n",
    "r = 10\n",
    "print(2*math.pi*r)"
   ]
  },
  {
   "cell_type": "markdown",
   "metadata": {},
   "source": [
    "## print문"
   ]
  },
  {
   "cell_type": "code",
   "execution_count": 14,
   "metadata": {},
   "outputs": [
    {
     "name": "stdout",
     "output_type": "stream",
     "text": [
      "serendipi27,19,male\n",
      "serendipi27\n",
      "19\n",
      "male\n"
     ]
    }
   ],
   "source": [
    "name = 'serendipi27'\n",
    "age = '19'\n",
    "sex = 'male'\n",
    "\n",
    "print(name, age, sex, sep=',')\n",
    "print(name, age, sex, sep='\\n')"
   ]
  },
  {
   "cell_type": "markdown",
   "metadata": {},
   "source": [
    "## types"
   ]
  },
  {
   "cell_type": "code",
   "execution_count": 15,
   "metadata": {},
   "outputs": [
    {
     "name": "stdout",
     "output_type": "stream",
     "text": [
      "<class 'int'>\n",
      "<class 'float'>\n"
     ]
    }
   ],
   "source": [
    "# check the type of variables\n",
    "num = 23\n",
    "print(type(num))\n",
    "float1 = 25.1\n",
    "print(type(float1))"
   ]
  },
  {
   "cell_type": "code",
   "execution_count": 16,
   "metadata": {},
   "outputs": [
    {
     "name": "stdout",
     "output_type": "stream",
     "text": [
      "<class 'float'>\n",
      "<class 'int'>\n"
     ]
    }
   ],
   "source": [
    "# change type of varibles\n",
    "import math\n",
    "p = math.pi\n",
    "print(type(p))\n",
    "p = 17\n",
    "print(type(p))"
   ]
  },
  {
   "cell_type": "code",
   "execution_count": 17,
   "metadata": {},
   "outputs": [
    {
     "name": "stdout",
     "output_type": "stream",
     "text": [
      "True\n",
      "<class 'bool'>\n",
      "False\n",
      "<class 'bool'>\n"
     ]
    }
   ],
   "source": [
    "t = True\n",
    "print(t)\n",
    "print(type(t))\n",
    "f = False\n",
    "print(f)\n",
    "print(type(f))"
   ]
  },
  {
   "cell_type": "markdown",
   "metadata": {},
   "source": [
    "## if문"
   ]
  },
  {
   "cell_type": "code",
   "execution_count": 18,
   "metadata": {},
   "outputs": [
    {
     "name": "stdout",
     "output_type": "stream",
     "text": [
      "찾았습니다\n",
      "안녕\n"
     ]
    }
   ],
   "source": [
    "found = True\n",
    "\n",
    "if found:\n",
    "    print('찾았습니다')\n",
    "    print('안녕')\n",
    "else:\n",
    "    print('안녕')"
   ]
  },
  {
   "cell_type": "code",
   "execution_count": 19,
   "metadata": {},
   "outputs": [
    {
     "name": "stdout",
     "output_type": "stream",
     "text": [
      "안녕\n"
     ]
    }
   ],
   "source": [
    "found = False\n",
    "\n",
    "if found:\n",
    "    print('찾았습니다')\n",
    "    print('안녕')\n",
    "else:\n",
    "    print('안녕')"
   ]
  },
  {
   "cell_type": "code",
   "execution_count": 20,
   "metadata": {},
   "outputs": [
    {
     "name": "stdout",
     "output_type": "stream",
     "text": [
      "True\n",
      "False\n",
      "False\n",
      "True\n",
      "True\n",
      "False\n"
     ]
    }
   ],
   "source": [
    "# True, False \n",
    "a = 0\n",
    "b = 1\n",
    "c = 1.\n",
    "\n",
    "print(10 > a)\n",
    "print(10 < a)\n",
    "print(bool(a))\n",
    "print(bool(b))\n",
    "\n",
    "print('hello' == 'hello')\n",
    "print('hello' == 'hello ')"
   ]
  },
  {
   "cell_type": "code",
   "execution_count": 21,
   "metadata": {},
   "outputs": [
    {
     "name": "stdout",
     "output_type": "stream",
     "text": [
      "I am big data. \n",
      "<class 'str'>\n",
      "I am big data. I am big data. I am big data. \n"
     ]
    }
   ],
   "source": [
    "# string\n",
    "my_text = 'I am big data. '\n",
    "print(my_text)\n",
    "print(type(my_text))\n",
    "\n",
    "print(my_text * 3)"
   ]
  },
  {
   "cell_type": "code",
   "execution_count": 22,
   "metadata": {},
   "outputs": [
    {
     "name": "stdout",
     "output_type": "stream",
     "text": [
      "my job \n",
      "\n",
      "is \n",
      "\n",
      "\n",
      "where? \n",
      "\n",
      "Nope\n"
     ]
    }
   ],
   "source": [
    "# carriage return\n",
    "print('my job', '\\n')\n",
    "print('is', '\\n\\n')\n",
    "print('where?', '\\n')\n",
    "print('Nope')"
   ]
  },
  {
   "cell_type": "code",
   "execution_count": 23,
   "metadata": {},
   "outputs": [
    {
     "data": {
      "text/plain": [
       "'\\none two three\\nfive six seven\\neight nine ten\\n'"
      ]
     },
     "execution_count": 23,
     "metadata": {},
     "output_type": "execute_result"
    }
   ],
   "source": [
    "#multitext\n",
    "multitext = \"\"\"\n",
    "one two three\n",
    "five six seven\n",
    "eight nine ten\n",
    "\"\"\"\n",
    "multitext"
   ]
  },
  {
   "cell_type": "markdown",
   "metadata": {},
   "source": [
    "## 문자열 인덱싱 & 슬라이싱"
   ]
  },
  {
   "cell_type": "code",
   "execution_count": 24,
   "metadata": {},
   "outputs": [
    {
     "name": "stdout",
     "output_type": "stream",
     "text": [
      "s\n"
     ]
    }
   ],
   "source": [
    "# -1의 활용\n",
    "text = 'it is my class'\n",
    "print(text[-1])"
   ]
  },
  {
   "cell_type": "code",
   "execution_count": 25,
   "metadata": {},
   "outputs": [
    {
     "name": "stdout",
     "output_type": "stream",
     "text": [
      "I have a lunch\n",
      "have a lunch\n",
      "e a lun\n",
      " have a lunch\n"
     ]
    }
   ],
   "source": [
    "# string indexing\n",
    "\n",
    "string = \"I have a lunch\"\n",
    "print(string[:])\n",
    "print(string[2:])\n",
    "print(string[5:-2])\n",
    "print(string[1:])"
   ]
  },
  {
   "cell_type": "code",
   "execution_count": 26,
   "metadata": {},
   "outputs": [
    {
     "ename": "TypeError",
     "evalue": "'str' object does not support item assignment",
     "output_type": "error",
     "traceback": [
      "\u001b[0;31m---------------------------------------------------------------------------\u001b[0m",
      "\u001b[0;31mTypeError\u001b[0m                                 Traceback (most recent call last)",
      "\u001b[0;32m<ipython-input-26-6aeb7b3ff164>\u001b[0m in \u001b[0;36m<module>\u001b[0;34m\u001b[0m\n\u001b[1;32m      1\u001b[0m \u001b[0;31m#immortal string\u001b[0m\u001b[0;34m\u001b[0m\u001b[0;34m\u001b[0m\u001b[0;34m\u001b[0m\u001b[0m\n\u001b[1;32m      2\u001b[0m \u001b[0mstring\u001b[0m \u001b[0;34m=\u001b[0m \u001b[0;34m'I am immortal'\u001b[0m\u001b[0;34m\u001b[0m\u001b[0;34m\u001b[0m\u001b[0m\n\u001b[0;32m----> 3\u001b[0;31m \u001b[0mstring\u001b[0m\u001b[0;34m[\u001b[0m\u001b[0;36m2\u001b[0m\u001b[0;34m]\u001b[0m \u001b[0;34m=\u001b[0m \u001b[0;34m''\u001b[0m\u001b[0;34m\u001b[0m\u001b[0;34m\u001b[0m\u001b[0m\n\u001b[0m",
      "\u001b[0;31mTypeError\u001b[0m: 'str' object does not support item assignment"
     ]
    }
   ],
   "source": [
    "#immortal string\n",
    "string = 'I am immortal'\n",
    "string[2] = ''"
   ]
  },
  {
   "cell_type": "markdown",
   "metadata": {},
   "source": [
    "## 문자열의 method"
   ]
  },
  {
   "cell_type": "code",
   "execution_count": 27,
   "metadata": {},
   "outputs": [
    {
     "name": "stdout",
     "output_type": "stream",
     "text": [
      "HELLO, MY LITTLE DOG\n",
      "Hello, My Little Dog\n"
     ]
    }
   ],
   "source": [
    "mytext = 'Hello, my little dog'\n",
    "print(mytext.upper())\n",
    "print(mytext.title())"
   ]
  },
  {
   "cell_type": "code",
   "execution_count": 28,
   "metadata": {},
   "outputs": [
    {
     "name": "stdout",
     "output_type": "stream",
     "text": [
      "True\n"
     ]
    }
   ],
   "source": [
    "print(mytext.endswith('g'))"
   ]
  },
  {
   "cell_type": "code",
   "execution_count": 29,
   "metadata": {},
   "outputs": [
    {
     "name": "stdout",
     "output_type": "stream",
     "text": [
      "False\n"
     ]
    }
   ],
   "source": [
    "print(mytext.endswith('G'))"
   ]
  },
  {
   "cell_type": "code",
   "execution_count": 30,
   "metadata": {},
   "outputs": [
    {
     "name": "stdout",
     "output_type": "stream",
     "text": [
      "True\n"
     ]
    }
   ],
   "source": [
    "print(mytext.startswith('H'))"
   ]
  },
  {
   "cell_type": "code",
   "execution_count": 31,
   "metadata": {},
   "outputs": [
    {
     "name": "stdout",
     "output_type": "stream",
     "text": [
      "True\n"
     ]
    }
   ],
   "source": [
    "print(mytext.startswith(('h', 'H')))"
   ]
  },
  {
   "cell_type": "markdown",
   "metadata": {},
   "source": [
    "## 리스트"
   ]
  },
  {
   "cell_type": "code",
   "execution_count": 32,
   "metadata": {},
   "outputs": [
    {
     "name": "stdout",
     "output_type": "stream",
     "text": [
      "[1, 2, 3, 4, 5]\n",
      "['one', 'two', 'three']\n",
      "[1, 2, 'three', 'four', {5: 'five'}]\n",
      "[5]\n"
     ]
    }
   ],
   "source": [
    "# list\n",
    "l1 = [1,2,3,4,5]\n",
    "print(l1)\n",
    "l2 = ['one', 'two', 'three']\n",
    "print(l2)\n",
    "l3 = [1, 2, 'three', 'four', {5:'five'}]\n",
    "print(l3)\n",
    "print(list(l3[-1].keys()))"
   ]
  },
  {
   "cell_type": "code",
   "execution_count": 33,
   "metadata": {},
   "outputs": [
    {
     "name": "stdout",
     "output_type": "stream",
     "text": [
      "['cheese', 'hotdog', 'pizza', 'fried potato']\n",
      "['cheese', 'hotdog', 'pizza', 'fried chicken']\n"
     ]
    }
   ],
   "source": [
    "# list changible\n",
    "ll = ['cheese', 'hotdog', 'pizza', 'fried potato']\n",
    "print(ll)\n",
    "ll[-1] = 'fried chicken'\n",
    "print(ll)"
   ]
  },
  {
   "cell_type": "code",
   "execution_count": 34,
   "metadata": {},
   "outputs": [
    {
     "name": "stdout",
     "output_type": "stream",
     "text": [
      "['cheese', 'hotdog', 'pizza', 'fried chicken', 'tomato juice']\n"
     ]
    }
   ],
   "source": [
    "ll2 = ll + ['tomato juice']\n",
    "print(ll2)"
   ]
  },
  {
   "cell_type": "code",
   "execution_count": 35,
   "metadata": {},
   "outputs": [
    {
     "name": "stdout",
     "output_type": "stream",
     "text": [
      "['cheese', 'hotdog', 'pizza']\n",
      "['cheese', 'hotdog', 'pizza', 'fried chicken', 'tomato juice']\n",
      "['pizza', 'fried chicken', 'tomato juice']\n"
     ]
    }
   ],
   "source": [
    "# list slicing\n",
    "print(ll2[0:3])\n",
    "print(ll2[:])\n",
    "print(ll2[-3:])"
   ]
  },
  {
   "cell_type": "code",
   "execution_count": 36,
   "metadata": {},
   "outputs": [
    {
     "name": "stdout",
     "output_type": "stream",
     "text": [
      "0\n",
      "['fifa', 'winning', 'tetris', 'ninja', 'lol']\n",
      "['fifa', 'winning', 'tetris', 'ninja', 'lol', 'prince of persia', 'showdown']\n"
     ]
    }
   ],
   "source": [
    "game = ['fifa', 'winning', 'tetris', 'ninja']\n",
    "print(game.index('fifa'))\n",
    "game.append('lol')\n",
    "print(game)\n",
    "game.extend(['prince of persia', 'showdown'])\n",
    "print(game)"
   ]
  },
  {
   "cell_type": "code",
   "execution_count": 37,
   "metadata": {},
   "outputs": [
    {
     "name": "stdout",
     "output_type": "stream",
     "text": [
      "['fifa', 'winning', 'tetris', 'ninja', 'lol', 'prince of persia', 'showdown']\n",
      "['fifa', 'lol', 'ninja', 'prince of persia', 'showdown', 'tetris', 'winning']\n"
     ]
    }
   ],
   "source": [
    "print(game)\n",
    "game.sort()\n",
    "print(game)"
   ]
  },
  {
   "cell_type": "code",
   "execution_count": 38,
   "metadata": {},
   "outputs": [
    {
     "name": "stdout",
     "output_type": "stream",
     "text": [
      "['fifa', 'lol', 'ninja', 'prince of persia', 'showdown', 'tetris', 'winning']\n",
      "['winning', 'tetris', 'showdown', 'prince of persia', 'ninja', 'lol', 'fifa']\n"
     ]
    }
   ],
   "source": [
    "print(game)\n",
    "game.reverse()\n",
    "print(game)"
   ]
  },
  {
   "cell_type": "code",
   "execution_count": 39,
   "metadata": {},
   "outputs": [
    {
     "name": "stdout",
     "output_type": "stream",
     "text": [
      "['winning', 'tetris', 'showdown', 'prince of persia', 'ninja', 'lol', 'fifa']\n",
      "fifa\n",
      "['winning', 'tetris', 'showdown', 'prince of persia', 'ninja', 'lol']\n"
     ]
    }
   ],
   "source": [
    "print(game)\n",
    "print(game.pop())\n",
    "print(game)"
   ]
  },
  {
   "cell_type": "code",
   "execution_count": 40,
   "metadata": {},
   "outputs": [
    {
     "name": "stdout",
     "output_type": "stream",
     "text": [
      "['winning', 'tetris', 'showdown', 'prince of persia', 'ninja', 'lol']\n",
      "None\n",
      "['winning', 'tetris', 'showdown', 'prince of persia', 'lol']\n"
     ]
    }
   ],
   "source": [
    "print(game)\n",
    "print(game.remove('ninja'))\n",
    "print(game)"
   ]
  },
  {
   "cell_type": "code",
   "execution_count": 41,
   "metadata": {},
   "outputs": [
    {
     "name": "stdout",
     "output_type": "stream",
     "text": [
      "['winning', 'tetris', 'showdown', 'prince of persia', 'lol']\n",
      "1\n"
     ]
    }
   ],
   "source": [
    "print(game)\n",
    "print(game.count('tetris'))"
   ]
  },
  {
   "cell_type": "markdown",
   "metadata": {},
   "source": [
    "## 파이썬 내장함수"
   ]
  },
  {
   "cell_type": "code",
   "execution_count": 42,
   "metadata": {},
   "outputs": [
    {
     "name": "stdout",
     "output_type": "stream",
     "text": [
      "6\n",
      "100\n",
      "1\n",
      "155.64159265358978\n",
      "None\n",
      "[1, 3.141592653589793, 10, 16.5, 25, 100]\n"
     ]
    }
   ],
   "source": [
    "import math\n",
    "\n",
    "nums = [1, 10, 25, 16.5, 100, math.pi]\n",
    "print(len(nums))\n",
    "print(max(nums))\n",
    "print(min(nums))\n",
    "print(sum(nums))\n",
    "print(nums.sort())\n",
    "print(nums)"
   ]
  },
  {
   "cell_type": "markdown",
   "metadata": {},
   "source": [
    "## 튜플"
   ]
  },
  {
   "cell_type": "code",
   "execution_count": 43,
   "metadata": {},
   "outputs": [
    {
     "name": "stdout",
     "output_type": "stream",
     "text": [
      "(1, 2, 'three', {4: 'four'})\n",
      "1 2 three {4: 'four'}\n"
     ]
    }
   ],
   "source": [
    "tup = (1, 2, 'three', {4:'four'})\n",
    "print(tup)\n",
    "a, b, c, d = tup\n",
    "print(a,b,c,d)"
   ]
  },
  {
   "cell_type": "code",
   "execution_count": 44,
   "metadata": {},
   "outputs": [
    {
     "name": "stdout",
     "output_type": "stream",
     "text": [
      "<class 'int'>\n",
      "<class 'tuple'>\n",
      "<class 'tuple'>\n"
     ]
    }
   ],
   "source": [
    "# tuple caution\n",
    "tup = (111)\n",
    "tup2 = (111, )\n",
    "tup3 = (111, 222)\n",
    "\n",
    "print(type(tup))\n",
    "print(type(tup2))\n",
    "print(type(tup3))"
   ]
  },
  {
   "cell_type": "code",
   "execution_count": 45,
   "metadata": {},
   "outputs": [
    {
     "name": "stdout",
     "output_type": "stream",
     "text": [
      "('hello', 'who are you?', 12345)\n",
      "(12345, (1, 2, 3))\n",
      "3\n",
      " you?\n"
     ]
    }
   ],
   "source": [
    "# tuple index, slicing\n",
    "tup = ('hello', 'who are you?', 12345, (1,2,3,), [10, 20, 'bye'])\n",
    "print(tup[:3])\n",
    "print(tup[2:4])\n",
    "print(tup[3][2])\n",
    "print(tup[1][-5:])"
   ]
  },
  {
   "cell_type": "code",
   "execution_count": 46,
   "metadata": {},
   "outputs": [
    {
     "name": "stdout",
     "output_type": "stream",
     "text": [
      "(1, 2, 3, 10, 20, 30)\n",
      "(1, 2, 3, 1, 2, 3, 1, 2, 3)\n"
     ]
    },
    {
     "data": {
      "text/plain": [
       "1"
      ]
     },
     "execution_count": 46,
     "metadata": {},
     "output_type": "execute_result"
    }
   ],
   "source": [
    "# tuple method\n",
    "tup1 = (1,2,3)\n",
    "tup2 = (10, 20, 30)\n",
    "\n",
    "tup3 = tup1 + tup2\n",
    "print(tup3)\n",
    "tup4 = tup1 * 3\n",
    "print(tup4)\n",
    "\n",
    "# tup1.index(10)\n",
    "tup2.index(10)\n",
    "tup2.count(10)"
   ]
  },
  {
   "cell_type": "code",
   "execution_count": 47,
   "metadata": {},
   "outputs": [
    {
     "name": "stdout",
     "output_type": "stream",
     "text": [
      "(1, 2, 3)\n",
      "3\n",
      "1\n",
      "3\n",
      "6\n",
      "[1, 2, 3]\n"
     ]
    }
   ],
   "source": [
    "print(tup1)\n",
    "print(len(tup1))\n",
    "print(min(tup1))\n",
    "print(max(tup1))\n",
    "print(sum(tup1))\n",
    "print(sorted(tup1))\n"
   ]
  },
  {
   "cell_type": "markdown",
   "metadata": {},
   "source": [
    "### 리스트와 튜플의 차이점"
   ]
  },
  {
   "cell_type": "code",
   "execution_count": 48,
   "metadata": {},
   "outputs": [
    {
     "name": "stdout",
     "output_type": "stream",
     "text": [
      "[1, 5, 7, 2, 4]\n",
      "None\n",
      "[1, 2, 4, 5, 7]\n",
      "(1, 5, 7, 2, 4)\n",
      "[1, 2, 4, 5, 7]\n",
      "(1, 5, 7, 2, 4)\n"
     ]
    }
   ],
   "source": [
    "# diff list and tuple\n",
    "ll = [1,5,7,2,4]\n",
    "tup = tuple(ll)\n",
    "\n",
    "print(ll)\n",
    "print(ll.sort())\n",
    "print(ll)\n",
    "# tuple에는 sort() method가 없다. 왜냐. 원본 변경불가가 원칙이기 때문에.\n",
    "# print(tup)\n",
    "# tup.sort()\n",
    "# print(tup)\n",
    "print(tup)\n",
    "print(sorted(tup))\n",
    "print(tup)\n"
   ]
  },
  {
   "cell_type": "markdown",
   "metadata": {},
   "source": [
    "## set"
   ]
  },
  {
   "cell_type": "code",
   "execution_count": 49,
   "metadata": {},
   "outputs": [
    {
     "name": "stdout",
     "output_type": "stream",
     "text": [
      "{4, 5, 6}\n",
      "{1, 2, 3}\n",
      "{1, 2, 3, 4, 5, 6, 7, 8, 9}\n",
      "{4, 5, 6, 7, 8, 9}\n",
      "True\n",
      "False\n",
      "True\n"
     ]
    }
   ],
   "source": [
    "# set\n",
    "a = {1,2,3,4,5,6}\n",
    "b = {1,2,3,7,8,9}\n",
    "print(a-b)\n",
    "print(a&b)\n",
    "print(a|b)\n",
    "print(a^b)\n",
    "print({1,2,3} <= a) #true\n",
    "print({1,2,7} <= a) #false\n",
    "print({1,2,7} <= b) #true"
   ]
  },
  {
   "cell_type": "markdown",
   "metadata": {},
   "source": [
    "## 딕셔너리"
   ]
  },
  {
   "cell_type": "code",
   "execution_count": 50,
   "metadata": {},
   "outputs": [
    {
     "name": "stdout",
     "output_type": "stream",
     "text": [
      "{1: 'soccer', 2: 'baseball', 3: 'ballyball'}\n",
      "{1: 'soccer', 2: 'baseball', 3: 'ballyball'}\n"
     ]
    }
   ],
   "source": [
    "# dict\n",
    "tup = ([1,'soccer'], [2,'baseball'], [3,'ballyball'])\n",
    "ll = [(1,'soccer'), (2,'baseball'), (3,'ballyball')]\n",
    "print(dict(tup))\n",
    "print(dict(ll))\n",
    "dic = dict(tup)"
   ]
  },
  {
   "cell_type": "code",
   "execution_count": 51,
   "metadata": {},
   "outputs": [
    {
     "name": "stdout",
     "output_type": "stream",
     "text": [
      "dict_keys([1, 2, 3])\n",
      "dict_values(['soccer', 'baseball', 'ballyball'])\n",
      "dict_items([(1, 'soccer'), (2, 'baseball'), (3, 'ballyball')])\n",
      "['soccer', 'baseball', 'ballyball']\n"
     ]
    }
   ],
   "source": [
    "print(dic.keys())\n",
    "print(dic.values())\n",
    "print(dic.items())\n",
    "print(list(dic.values()))"
   ]
  },
  {
   "cell_type": "markdown",
   "metadata": {},
   "source": [
    "## 형변환 내장함수"
   ]
  },
  {
   "cell_type": "code",
   "execution_count": 52,
   "metadata": {},
   "outputs": [
    {
     "name": "stdout",
     "output_type": "stream",
     "text": [
      "7 <class 'int'>\n",
      "7 <class 'str'>\n",
      "7.0 <class 'float'>\n"
     ]
    }
   ],
   "source": [
    "# changing type\n",
    "num = 7\n",
    "print(num, type(num))\n",
    "print(str(num), type(str(num)))\n",
    "print(float(num), type(float(num)))"
   ]
  },
  {
   "cell_type": "markdown",
   "metadata": {},
   "source": [
    "## string-formatting"
   ]
  },
  {
   "cell_type": "code",
   "execution_count": 53,
   "metadata": {},
   "outputs": [
    {
     "name": "stdout",
     "output_type": "stream",
     "text": [
      "I am very very much hungry!!\n",
      "I want hamberger 10\n",
      "I will be going to Mcdonald to have hamberger    10\n"
     ]
    }
   ],
   "source": [
    "# %-string\n",
    "string = 'I am very very much hungry!!'\n",
    "num1 = 10\n",
    "float1 = 100.\n",
    "\n",
    "print('I am very %s much hungry!!' %('very'))\n",
    "print('I want hamberger %d' %(10))\n",
    "print('I will be going to %s to have hamberger %5d' %('Mcdonald', 10))"
   ]
  },
  {
   "cell_type": "code",
   "execution_count": 54,
   "metadata": {},
   "outputs": [
    {
     "name": "stdout",
     "output_type": "stream",
     "text": [
      "input your weight(kg)\n",
      "input your height(m)\n"
     ]
    },
    {
     "ename": "ValueError",
     "evalue": "invalid literal for int() with base 10: ''",
     "output_type": "error",
     "traceback": [
      "\u001b[0;31m---------------------------------------------------------------------------\u001b[0m",
      "\u001b[0;31mValueError\u001b[0m                                Traceback (most recent call last)",
      "\u001b[0;32m<ipython-input-54-1cdddbeb7174>\u001b[0m in \u001b[0;36m<module>\u001b[0;34m\u001b[0m\n\u001b[1;32m      2\u001b[0m \u001b[0mheight\u001b[0m \u001b[0;34m=\u001b[0m \u001b[0minput\u001b[0m\u001b[0;34m(\u001b[0m\u001b[0;34m'input your height(m)'\u001b[0m\u001b[0;34m)\u001b[0m\u001b[0;34m\u001b[0m\u001b[0;34m\u001b[0m\u001b[0m\n\u001b[1;32m      3\u001b[0m \u001b[0;34m\u001b[0m\u001b[0m\n\u001b[0;32m----> 4\u001b[0;31m \u001b[0mprint\u001b[0m\u001b[0;34m(\u001b[0m\u001b[0;34m'your bmi score is %d/(%f*%f) = %.2f'\u001b[0m \u001b[0;34m%\u001b[0m\u001b[0;34m(\u001b[0m\u001b[0mint\u001b[0m\u001b[0;34m(\u001b[0m\u001b[0mweight\u001b[0m\u001b[0;34m)\u001b[0m\u001b[0;34m,\u001b[0m \u001b[0mfloat\u001b[0m\u001b[0;34m(\u001b[0m\u001b[0mheight\u001b[0m\u001b[0;34m)\u001b[0m\u001b[0;34m,\u001b[0m \u001b[0mfloat\u001b[0m\u001b[0;34m(\u001b[0m\u001b[0mheight\u001b[0m\u001b[0;34m)\u001b[0m\u001b[0;34m,\u001b[0m \u001b[0mint\u001b[0m\u001b[0;34m(\u001b[0m\u001b[0mweight\u001b[0m\u001b[0;34m)\u001b[0m\u001b[0;34m/\u001b[0m\u001b[0;34m(\u001b[0m\u001b[0mfloat\u001b[0m\u001b[0;34m(\u001b[0m\u001b[0mheight\u001b[0m\u001b[0;34m)\u001b[0m\u001b[0;34m*\u001b[0m\u001b[0mfloat\u001b[0m\u001b[0;34m(\u001b[0m\u001b[0mheight\u001b[0m\u001b[0;34m)\u001b[0m\u001b[0;34m)\u001b[0m\u001b[0;34m)\u001b[0m\u001b[0;34m)\u001b[0m\u001b[0;34m\u001b[0m\u001b[0;34m\u001b[0m\u001b[0m\n\u001b[0m",
      "\u001b[0;31mValueError\u001b[0m: invalid literal for int() with base 10: ''"
     ]
    }
   ],
   "source": [
    "weight = input('input your weight(kg)')\n",
    "height = input('input your height(m)')\n",
    "\n",
    "print('your bmi score is %d/(%f*%f) = %.2f' %(int(weight), float(height), float(height), int(weight)/(float(height)*float(height))))"
   ]
  },
  {
   "cell_type": "code",
   "execution_count": 55,
   "metadata": {},
   "outputs": [
    {
     "name": "stdout",
     "output_type": "stream",
     "text": [
      "I like          3 little boys.\n"
     ]
    }
   ],
   "source": [
    "num = 3\n",
    "print(\"I like {:10d} little boys.\".format(num))"
   ]
  },
  {
   "cell_type": "code",
   "execution_count": 56,
   "metadata": {},
   "outputs": [
    {
     "name": "stdout",
     "output_type": "stream",
     "text": [
      "I have  2.53 pies\n"
     ]
    }
   ],
   "source": [
    "num = 2.5343434\n",
    "print(\"I have {:5.2f} pies\".format(num))"
   ]
  },
  {
   "cell_type": "code",
   "execution_count": 57,
   "metadata": {},
   "outputs": [
    {
     "name": "stdout",
     "output_type": "stream",
     "text": [
      "I don't like curry, but I like noodle\n"
     ]
    }
   ],
   "source": [
    "print(\"I don't like {lfood}, but I like {dfood}\".format(lfood='curry', dfood='noodle'))"
   ]
  },
  {
   "cell_type": "code",
   "execution_count": 58,
   "metadata": {},
   "outputs": [
    {
     "name": "stdout",
     "output_type": "stream",
     "text": [
      "I don't like curry, but I like noodle\n"
     ]
    }
   ],
   "source": [
    "print(\"I don't like {}, but I like {}\".format('curry', 'noodle'))"
   ]
  },
  {
   "cell_type": "code",
   "execution_count": 59,
   "metadata": {},
   "outputs": [
    {
     "name": "stdout",
     "output_type": "stream",
     "text": [
      "my answer is 3\n",
      "3\n"
     ]
    }
   ],
   "source": [
    "my_string = \"나는 파이썬 프로그래머이다.\"\n",
    "print(\"my answer is 3\")\n",
    "print(my_string.index('파'))"
   ]
  },
  {
   "cell_type": "markdown",
   "metadata": {},
   "source": [
    "## for문 맛보기"
   ]
  },
  {
   "cell_type": "code",
   "execution_count": 60,
   "metadata": {},
   "outputs": [
    {
     "name": "stdout",
     "output_type": "stream",
     "text": [
      "이번 그룹의 동물들은 ['참새', '제비', '독수리']입니다\n",
      "이 그룹에 속한 각각의 동물은...\n",
      "참새\n",
      "제비\n",
      "독수리\n",
      "입니다. \n",
      "\n",
      "이번 그룹의 동물들은 ['개미', '풍뎅이', '메뚜기']입니다\n",
      "이 그룹에 속한 각각의 동물은...\n",
      "개미\n",
      "풍뎅이\n",
      "메뚜기\n",
      "입니다. \n",
      "\n"
     ]
    }
   ],
   "source": [
    "bird = ['참새', '제비', '독수리']\n",
    "insect = ['개미', '풍뎅이', '메뚜기']\n",
    "animals = [bird, insect]\n",
    "\n",
    "for group in animals:\n",
    "    print(\"이번 그룹의 동물들은 ['{}', '{}', '{}']입니다\".format(group[0], group[1], group[2]))\n",
    "    print(\"이 그룹에 속한 각각의 동물은...\")\n",
    "    for name in group:\n",
    "        print('%s' %name)\n",
    "    print('입니다.', '\\n')\n",
    "        \n",
    "        \n"
   ]
  },
  {
   "cell_type": "code",
   "execution_count": 61,
   "metadata": {},
   "outputs": [
    {
     "name": "stdout",
     "output_type": "stream",
     "text": [
      "이번 그룹의 동물들은 ['참새', '제비', '독수리']입니다\n",
      "이 그룹에 속한 각각의 동물은...\n",
      "참새\n",
      "제비\n",
      "독수리\n",
      "입니다. \n",
      "\n",
      "이번 그룹의 동물들은 ['개미', '풍뎅이', '메뚜기']입니다\n",
      "이 그룹에 속한 각각의 동물은...\n",
      "개미\n",
      "풍뎅이\n",
      "메뚜기\n",
      "입니다. \n",
      "\n"
     ]
    }
   ],
   "source": [
    "bird = ['참새', '제비', '독수리']\n",
    "insect = ['개미', '풍뎅이', '메뚜기']\n",
    "animals = [bird, insect]\n",
    "\n",
    "for group in animals:\n",
    "    print(\"이번 그룹의 동물들은 ['{}', '{}', '{}']입니다\".format(group[0], group[1], group[2]))\n",
    "    print(\"이 그룹에 속한 각각의 동물은...\")\n",
    "    print('%s' %group[0])\n",
    "    print('%s' %group[1])\n",
    "    print('%s' %group[2])\n",
    "    print('입니다.', '\\n')\n",
    "        \n",
    "        \n"
   ]
  },
  {
   "cell_type": "markdown",
   "metadata": {},
   "source": [
    "## if문 맛보기"
   ]
  },
  {
   "cell_type": "code",
   "execution_count": 62,
   "metadata": {},
   "outputs": [
    {
     "name": "stdout",
     "output_type": "stream",
     "text": [
      "input your age: \n"
     ]
    },
    {
     "ename": "ValueError",
     "evalue": "invalid literal for int() with base 10: ''",
     "output_type": "error",
     "traceback": [
      "\u001b[0;31m---------------------------------------------------------------------------\u001b[0m",
      "\u001b[0;31mValueError\u001b[0m                                Traceback (most recent call last)",
      "\u001b[0;32m<ipython-input-62-a075b626a8da>\u001b[0m in \u001b[0;36m<module>\u001b[0;34m\u001b[0m\n\u001b[1;32m      1\u001b[0m \u001b[0;31m# if statement\u001b[0m\u001b[0;34m\u001b[0m\u001b[0;34m\u001b[0m\u001b[0;34m\u001b[0m\u001b[0m\n\u001b[0;32m----> 2\u001b[0;31m \u001b[0mage\u001b[0m \u001b[0;34m=\u001b[0m \u001b[0mint\u001b[0m\u001b[0;34m(\u001b[0m\u001b[0minput\u001b[0m\u001b[0;34m(\u001b[0m\u001b[0;34m\"input your age: \"\u001b[0m\u001b[0;34m)\u001b[0m\u001b[0;34m)\u001b[0m\u001b[0;34m\u001b[0m\u001b[0;34m\u001b[0m\u001b[0m\n\u001b[0m\u001b[1;32m      3\u001b[0m \u001b[0;32mif\u001b[0m \u001b[0mage\u001b[0m\u001b[0;34m<\u001b[0m\u001b[0;36m20\u001b[0m\u001b[0;34m:\u001b[0m\u001b[0;34m\u001b[0m\u001b[0;34m\u001b[0m\u001b[0m\n\u001b[1;32m      4\u001b[0m     \u001b[0mprint\u001b[0m\u001b[0;34m(\u001b[0m\u001b[0;34m'You are not adult'\u001b[0m\u001b[0;34m)\u001b[0m\u001b[0;34m\u001b[0m\u001b[0;34m\u001b[0m\u001b[0m\n\u001b[1;32m      5\u001b[0m \u001b[0;32melse\u001b[0m\u001b[0;34m:\u001b[0m\u001b[0;34m\u001b[0m\u001b[0;34m\u001b[0m\u001b[0m\n",
      "\u001b[0;31mValueError\u001b[0m: invalid literal for int() with base 10: ''"
     ]
    }
   ],
   "source": [
    "# if statement\n",
    "age = int(input(\"input your age: \"))\n",
    "if age<20:\n",
    "    print('You are not adult')\n",
    "else:\n",
    "    print('You are adult')"
   ]
  },
  {
   "cell_type": "markdown",
   "id": "77fe0728",
   "metadata": {},
   "source": [
    "## 중복 for문"
   ]
  },
  {
   "cell_type": "code",
   "execution_count": 63,
   "id": "e40cd7ad",
   "metadata": {},
   "outputs": [
    {
     "name": "stdout",
     "output_type": "stream",
     "text": [
      "***** 제일농장 *****\n",
      "닭, 100마리 입니다.\n",
      "소, 50마리 입니다.\n",
      "돼지, 80마리 입니다.\n",
      "\n",
      "\n",
      "***** 우리농장 *****\n",
      "닭, 50마리 입니다.\n",
      "소, 10마리 입니다.\n",
      "돼지, 20마리 입니다.\n",
      "\n",
      "\n",
      "***** 한국농장 *****\n",
      "닭, 200마리 입니다.\n",
      "소, 100마리 입니다.\n",
      "돼지, 150마리 입니다.\n",
      "\n",
      "\n"
     ]
    }
   ],
   "source": [
    "제일농장 = [100, 50, 80]\n",
    "우리농장 = [50, 10, 20]\n",
    "한국농장 = [200, 100, 150]\n",
    "\n",
    "farms = ['제일농장', '우리농장', '한국농장']\n",
    "animals = ['닭', '소', '돼지']\n",
    "\n",
    "dic = dict([(name, obj) for name, obj in zip(farms, [제일농장, 우리농장, 한국농장])])\n",
    "# print(dic)\n",
    "\n",
    "for farm in farms:\n",
    "    farm_obj = dic[farm]\n",
    "    print('*'*5 + ' ' + f'{farm}' + ' ' + '*'*5)\n",
    "    for i, animal in enumerate(animals):\n",
    "        print(f'{animal}, {farm_obj[i]}마리 입니다.')\n",
    "    print('\\n')"
   ]
  },
  {
   "cell_type": "markdown",
   "id": "c80d5d18",
   "metadata": {},
   "source": [
    "## 리스트 컴프레헨션"
   ]
  },
  {
   "cell_type": "code",
   "execution_count": 64,
   "id": "799c17ef",
   "metadata": {},
   "outputs": [
    {
     "name": "stdout",
     "output_type": "stream",
     "text": [
      "[1, 0, 1, 0, 1]\n"
     ]
    }
   ],
   "source": [
    "even_odd = [num%2 for num in range(1,6)]\n",
    "print(even_odd)"
   ]
  },
  {
   "cell_type": "code",
   "execution_count": 65,
   "id": "69c3cbab",
   "metadata": {},
   "outputs": [
    {
     "name": "stdout",
     "output_type": "stream",
     "text": [
      "['no', 2, 'no', 4, 'no']\n"
     ]
    }
   ],
   "source": [
    "even = [num if num%2 == 0 else \"no\" for num in range(1,6)]\n",
    "print(even)"
   ]
  },
  {
   "cell_type": "code",
   "execution_count": 66,
   "id": "92cb1d3c",
   "metadata": {},
   "outputs": [
    {
     "data": {
      "text/plain": [
       "[2, 4]"
      ]
     },
     "execution_count": 66,
     "metadata": {},
     "output_type": "execute_result"
    }
   ],
   "source": [
    "even = [num for num in range(1,6) if num%2==0]\n",
    "even"
   ]
  },
  {
   "cell_type": "markdown",
   "id": "d8037735",
   "metadata": {},
   "source": [
    "## 중복 리스트 컴프레헨션"
   ]
  },
  {
   "cell_type": "code",
   "execution_count": 67,
   "id": "f74a3619",
   "metadata": {},
   "outputs": [
    {
     "data": {
      "text/plain": [
       "[(['학교', '집', '놀이터'], '학교'),\n",
       " (['학교', '집', '놀이터'], '집'),\n",
       " (['학교', '집', '놀이터'], '놀이터'),\n",
       " (['자장면', '짬뽕', 'food'], '자장면'),\n",
       " (['자장면', '짬뽕', 'food'], '짬뽕'),\n",
       " (['자장면', '짬뽕', 'food'], 'food')]"
      ]
     },
     "execution_count": 67,
     "metadata": {},
     "output_type": "execute_result"
    }
   ],
   "source": [
    "data1 = [['학교', '집', '놀이터'], ['자장면', '짬뽕', 'food']]\n",
    "\n",
    "lc = [(place, food) for place in data1 for food in place]\n",
    "lc"
   ]
  },
  {
   "cell_type": "code",
   "execution_count": 68,
   "id": "7bcc58b7",
   "metadata": {},
   "outputs": [
    {
     "name": "stdout",
     "output_type": "stream",
     "text": [
      "['Keily', 'Michael']\n"
     ]
    }
   ],
   "source": [
    "name = ['John', 'Keily', 'Michael']\n",
    "print([na for na in name if len(na) > 4])"
   ]
  },
  {
   "cell_type": "code",
   "execution_count": null,
   "metadata": {},
   "outputs": [],
   "source": []
  }
 ],
 "metadata": {
  "kernelspec": {
   "display_name": "nlp3710",
   "language": "python",
   "name": "nlp3710"
  },
  "language_info": {
   "codemirror_mode": {
    "name": "ipython",
    "version": 3
   },
   "file_extension": ".py",
   "mimetype": "text/x-python",
   "name": "python",
   "nbconvert_exporter": "python",
   "pygments_lexer": "ipython3",
   "version": "3.7.10"
  }
 },
 "nbformat": 4,
 "nbformat_minor": 2
}

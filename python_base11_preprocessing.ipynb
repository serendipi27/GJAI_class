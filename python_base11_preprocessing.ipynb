{
 "cells": [
  {
   "cell_type": "markdown",
   "id": "4d059c37",
   "metadata": {},
   "source": [
    "# pandas로 파일 불러오기\n",
    "- read_csv()\n",
    "- read_tables() : 기본 구분자가 \\t 일뿐 read_csv와 차이가 없다. 왜 만들었나.\n",
    "- 옵션들\n",
    "    - path : 파일 위치와 파일이름\n",
    "    - sep 또는 delimiter : 열을 구분하기 위해 사용할 문자\n",
    "    - header : 열 이름(색인)으로 사용할 skip 이후 줄 번호(기본값 : 0), 헤더가 없으면 None index_col : 행 인덱스로 사용할 열 번호 또는 이름 또는 리스트\n",
    "    - names : 열 이름으로 사용할 리스트(header=None일 때 사용)\n",
    "    - na_values : NA 값으로 처리할 값\n",
    "    - nrows : 파일을 몇 줄을 읽을 것인지 지정\n",
    "    - encoding : 인코딩 종류를 지정 (기본값 “utf-8”)\n",
    "    - thousands : 숫자의 천 단위 구분기호 지정 (예: thousands=“,”)"
   ]
  },
  {
   "cell_type": "code",
   "execution_count": 4,
   "id": "42d69c25",
   "metadata": {},
   "outputs": [
    {
     "data": {
      "text/html": [
       "<div>\n",
       "<style scoped>\n",
       "    .dataframe tbody tr th:only-of-type {\n",
       "        vertical-align: middle;\n",
       "    }\n",
       "\n",
       "    .dataframe tbody tr th {\n",
       "        vertical-align: top;\n",
       "    }\n",
       "\n",
       "    .dataframe thead th {\n",
       "        text-align: right;\n",
       "    }\n",
       "</style>\n",
       "<table border=\"1\" class=\"dataframe\">\n",
       "  <thead>\n",
       "    <tr style=\"text-align: right;\">\n",
       "      <th></th>\n",
       "      <th>id</th>\n",
       "      <th>date</th>\n",
       "      <th>Temperature</th>\n",
       "      <th>Humidity</th>\n",
       "      <th>Light</th>\n",
       "      <th>CO2</th>\n",
       "      <th>HumidityRatio</th>\n",
       "      <th>Occupancy</th>\n",
       "    </tr>\n",
       "  </thead>\n",
       "  <tbody>\n",
       "    <tr>\n",
       "      <th>0</th>\n",
       "      <td>1</td>\n",
       "      <td>2015-02-04 17:51</td>\n",
       "      <td>23.18</td>\n",
       "      <td>27.2720</td>\n",
       "      <td>426.0</td>\n",
       "      <td>721.25</td>\n",
       "      <td>0.004793</td>\n",
       "      <td>1</td>\n",
       "    </tr>\n",
       "    <tr>\n",
       "      <th>1</th>\n",
       "      <td>2</td>\n",
       "      <td>2015-02-04 17:51</td>\n",
       "      <td>23.15</td>\n",
       "      <td>27.2675</td>\n",
       "      <td>429.5</td>\n",
       "      <td>714.00</td>\n",
       "      <td>0.004783</td>\n",
       "      <td>1</td>\n",
       "    </tr>\n",
       "    <tr>\n",
       "      <th>2</th>\n",
       "      <td>3</td>\n",
       "      <td>2015-02-04 17:53</td>\n",
       "      <td>23.15</td>\n",
       "      <td>27.2450</td>\n",
       "      <td>426.0</td>\n",
       "      <td>713.50</td>\n",
       "      <td>0.004779</td>\n",
       "      <td>1</td>\n",
       "    </tr>\n",
       "    <tr>\n",
       "      <th>3</th>\n",
       "      <td>4</td>\n",
       "      <td>2015-02-04 17:54</td>\n",
       "      <td>23.15</td>\n",
       "      <td>27.2000</td>\n",
       "      <td>426.0</td>\n",
       "      <td>708.25</td>\n",
       "      <td>0.004772</td>\n",
       "      <td>1</td>\n",
       "    </tr>\n",
       "    <tr>\n",
       "      <th>4</th>\n",
       "      <td>5</td>\n",
       "      <td>2015-02-04 17:55</td>\n",
       "      <td>23.10</td>\n",
       "      <td>27.2000</td>\n",
       "      <td>426.0</td>\n",
       "      <td>704.50</td>\n",
       "      <td>0.004757</td>\n",
       "      <td>1</td>\n",
       "    </tr>\n",
       "  </tbody>\n",
       "</table>\n",
       "</div>"
      ],
      "text/plain": [
       "   id              date  Temperature  Humidity  Light     CO2  HumidityRatio  \\\n",
       "0   1  2015-02-04 17:51        23.18   27.2720  426.0  721.25       0.004793   \n",
       "1   2  2015-02-04 17:51        23.15   27.2675  429.5  714.00       0.004783   \n",
       "2   3  2015-02-04 17:53        23.15   27.2450  426.0  713.50       0.004779   \n",
       "3   4  2015-02-04 17:54        23.15   27.2000  426.0  708.25       0.004772   \n",
       "4   5  2015-02-04 17:55        23.10   27.2000  426.0  704.50       0.004757   \n",
       "\n",
       "   Occupancy  \n",
       "0          1  \n",
       "1          1  \n",
       "2          1  \n",
       "3          1  \n",
       "4          1  "
      ]
     },
     "execution_count": 4,
     "metadata": {},
     "output_type": "execute_result"
    }
   ],
   "source": [
    "import pandas as pd\n",
    "\n",
    "path = '/Users/jsha/gjai/python_basic/pytest_basic/'\n",
    "df = pd.read_csv(path+'occupancy.csv', header=0, encoding='cp949')\n",
    "df.head()"
   ]
  },
  {
   "cell_type": "markdown",
   "id": "50f73e76",
   "metadata": {},
   "source": [
    "# pandas로 csv 파일 저장하기"
   ]
  },
  {
   "cell_type": "code",
   "execution_count": null,
   "id": "3661ce39",
   "metadata": {},
   "outputs": [],
   "source": []
  },
  {
   "cell_type": "markdown",
   "id": "e74b31bc",
   "metadata": {},
   "source": [
    "# 데이터 합치기"
   ]
  },
  {
   "cell_type": "markdown",
   "id": "9d477601",
   "metadata": {},
   "source": [
    "## DataFrame 끼리 결합"
   ]
  },
  {
   "cell_type": "markdown",
   "id": "abd62dbc",
   "metadata": {},
   "source": [
    "### merge() 기본 사용법\n",
    " - merge()는 기본적으로 옵션 key를 중심으로 합친다."
   ]
  },
  {
   "cell_type": "code",
   "execution_count": 5,
   "id": "6fe6f84d",
   "metadata": {},
   "outputs": [
    {
     "name": "stdout",
     "output_type": "stream",
     "text": [
      "  key  value1\n",
      "0   a     100\n",
      "1   b     200\n",
      "2   c     300\n",
      "  key  value2\n",
      "0   c     500\n",
      "1   b     300\n",
      "2   a     400\n",
      "  key  value1  value2\n",
      "0   a     100     400\n",
      "1   b     200     300\n",
      "2   c     300     500\n"
     ]
    }
   ],
   "source": [
    "df1 = pd.DataFrame({\"key\":[\"a\", \"b\", \"c\"], \"value1\":[100, 200, 300]})\n",
    "print(df1)\n",
    "\n",
    "df2 = pd.DataFrame({\"key\":[\"c\", \"b\", \"a\"], \"value2\":[500, 300, 400]})\n",
    "print(df2)\n",
    "\n",
    "df3 = pd.merge(df1, df2, on=\"key\")\n",
    "print(df3)"
   ]
  },
  {
   "cell_type": "markdown",
   "id": "02e55cb5",
   "metadata": {},
   "source": [
    "### 동일한 컬럼을 가진 경우1 - merge() "
   ]
  },
  {
   "cell_type": "code",
   "execution_count": 6,
   "id": "189b8702",
   "metadata": {},
   "outputs": [
    {
     "name": "stdout",
     "output_type": "stream",
     "text": [
      "  key  value\n",
      "0   a    100\n",
      "1   b    200\n",
      "2   c    300\n",
      "  key  value\n",
      "0   c    500\n",
      "1   b    300\n",
      "2   a    400\n",
      "  key  value_x  value_y\n",
      "0   a      100      400\n",
      "1   b      200      300\n",
      "2   c      300      500\n"
     ]
    }
   ],
   "source": [
    "df1 = pd.DataFrame({\"key\":[\"a\", \"b\", \"c\"], \"value\":[100, 200, 300]})\n",
    "print(df1)\n",
    "\n",
    "df2 = pd.DataFrame({\"key\":[\"c\", \"b\", \"a\"], \"value\":[500, 300, 400]})\n",
    "print(df2)\n",
    "\n",
    "df3 = pd.merge(df1, df2, on=\"key\")\n",
    "print(df3)"
   ]
  },
  {
   "cell_type": "markdown",
   "id": "57db488d",
   "metadata": {},
   "source": [
    "### 동일한 컬럼을 가진 경우2 - merge(suffixes=)\n",
    "- 같은 컬럼을 가진 결합에서 옵션 suffixes 사용"
   ]
  },
  {
   "cell_type": "code",
   "execution_count": 8,
   "id": "1f84195e",
   "metadata": {},
   "outputs": [
    {
     "name": "stdout",
     "output_type": "stream",
     "text": [
      "  key  value_df1  value_df2\n",
      "0   a        100        400\n",
      "1   b        200        300\n",
      "2   c        300        500\n"
     ]
    }
   ],
   "source": [
    "df4 = pd.merge(df1, df2, on=\"key\", suffixes=(\"_df1\", \"_df2\"))\n",
    "print(df4)"
   ]
  },
  {
   "cell_type": "markdown",
   "id": "d7297836",
   "metadata": {},
   "source": [
    "### 동일한 컬럼을 가진 경우3 - concat()\n",
    "- 데이터프레임이 같은 컬럼을 가지고 있고, 그대로 이어붙일 때는 pd.concat()을 사용한다\n",
    "- **데이터를 리스트로 변환한 뒤 넣어야 한다.**\n",
    "- 인덱스를 리셋하지 않으면 결합되면서 인덱스가 혼란스러워진다.\n",
    "- 이럴 때, 옵션 ignore_index=True를 사용\n",
    "- 참고로, reset_index()함수를 써도 되는데, 이건 기존 index를 새로운 컬럼에 집어넣어서 조금 귀찮다. 확인해 보자.\n"
   ]
  },
  {
   "cell_type": "code",
   "execution_count": 13,
   "id": "55a7f789",
   "metadata": {},
   "outputs": [
    {
     "name": "stdout",
     "output_type": "stream",
     "text": [
      "  key  value\n",
      "0   a    100\n",
      "1   b    200\n",
      "2   c    300\n",
      "0   c    500\n",
      "1   b    300\n",
      "2   a    400\n",
      "   index key  value\n",
      "0      0   a    100\n",
      "1      1   b    200\n",
      "2      2   c    300\n",
      "3      0   c    500\n",
      "4      1   b    300\n",
      "5      2   a    400\n",
      "  key  value\n",
      "0   a    100\n",
      "1   b    200\n",
      "2   c    300\n",
      "3   c    500\n",
      "4   b    300\n",
      "5   a    400\n"
     ]
    }
   ],
   "source": [
    "df5 = pd.concat([df1, df2])\n",
    "print(df5)\n",
    "\n",
    "df6 = df5.reset_index()\n",
    "print(df6)\n",
    "\n",
    "df7 = pd.concat([df1, df2], ignore_index=True)\n",
    "print(df7)"
   ]
  },
  {
   "cell_type": "markdown",
   "id": "8159051d",
   "metadata": {},
   "source": [
    "## Series 끼리 결합 - concat()\n",
    "- pd.concat()을 사용한다.\n",
    "- 옵션 axis=0 or 1 을 이용하여 붙이는 방향을 바꿀 수 있다."
   ]
  },
  {
   "cell_type": "code",
   "execution_count": 16,
   "id": "29fd847d",
   "metadata": {},
   "outputs": [
    {
     "name": "stdout",
     "output_type": "stream",
     "text": [
      "0     1\n",
      "1     2\n",
      "2     3\n",
      "3     5\n",
      "4     6\n",
      "5     7\n",
      "6     8\n",
      "7     9\n",
      "8    10\n",
      "9    11\n",
      "dtype: int64\n",
      "     0  1     2\n",
      "0  1.0  5   9.0\n",
      "1  2.0  6  10.0\n",
      "2  3.0  7  11.0\n",
      "3  NaN  8   NaN\n"
     ]
    }
   ],
   "source": [
    "s1 = pd.Series([1, 2, 3])\n",
    "s2 = pd.Series([5, 6, 7, 8])\n",
    "s3 = pd.Series([9, 10, 11])\n",
    "s4 = pd.concat([s1, s2, s3], ignore_index=True)\n",
    "print(s4)\n",
    "s5 = pd.concat([s1, s2, s3], ignore_index=True, axis=1)\n",
    "print(s5)"
   ]
  },
  {
   "cell_type": "markdown",
   "id": "2c639915",
   "metadata": {},
   "source": [
    "## DataFrame과 Series의 결합\n",
    "- DataFrame에 컬럼을 하나 더 만들면서 Series를 넣는 방식"
   ]
  },
  {
   "cell_type": "code",
   "execution_count": 19,
   "id": "da558e69",
   "metadata": {},
   "outputs": [
    {
     "name": "stdout",
     "output_type": "stream",
     "text": [
      "   mid  report  final\n",
      "0   80      10     85\n",
      "1   90       8     70\n",
      "2   85       9     90\n",
      "******************************\n",
      "   mid  report  final  bonus\n",
      "0   80      10     85      3\n",
      "1   90       8     70      5\n",
      "2   85       9     90      2\n"
     ]
    }
   ],
   "source": [
    "data = {\"mid\":[80, 90, 85], \"report\":[10, 8, 9], \"final\":[85, 70, 90]}\n",
    "df = pd.DataFrame(data)\n",
    "print(df)\n",
    "print(\"*\"*30)\n",
    "bonus = pd.Series([3, 5, 2])\n",
    "\n",
    "df[\"bonus\"] = bonus\n",
    "print(df)"
   ]
  },
  {
   "cell_type": "markdown",
   "id": "df903c47",
   "metadata": {},
   "source": [
    "# 중복 제거"
   ]
  },
  {
   "cell_type": "code",
   "execution_count": null,
   "id": "f5e96e9a",
   "metadata": {},
   "outputs": [],
   "source": []
  },
  {
   "cell_type": "markdown",
   "id": "5c7f8ad0",
   "metadata": {},
   "source": [
    "# 데이터 값 바꾸기"
   ]
  },
  {
   "cell_type": "markdown",
   "id": "b26db612",
   "metadata": {},
   "source": [
    "## map() - 사전형이나 함수형으로 데이터 치환"
   ]
  },
  {
   "cell_type": "code",
   "execution_count": null,
   "id": "69a34e63",
   "metadata": {},
   "outputs": [],
   "source": []
  },
  {
   "cell_type": "markdown",
   "id": "8eb5dd2e",
   "metadata": {},
   "source": [
    "## apply() - 여러 컬럼을 함수형으로 데이터 치환"
   ]
  },
  {
   "cell_type": "code",
   "execution_count": null,
   "id": "83e0b59c",
   "metadata": {},
   "outputs": [],
   "source": []
  }
 ],
 "metadata": {
  "kernelspec": {
   "display_name": "nlp3710",
   "language": "python",
   "name": "nlp3710"
  },
  "language_info": {
   "codemirror_mode": {
    "name": "ipython",
    "version": 3
   },
   "file_extension": ".py",
   "mimetype": "text/x-python",
   "name": "python",
   "nbconvert_exporter": "python",
   "pygments_lexer": "ipython3",
   "version": "3.7.10"
  },
  "toc": {
   "base_numbering": 1,
   "nav_menu": {},
   "number_sections": true,
   "sideBar": true,
   "skip_h1_title": false,
   "title_cell": "Table of Contents",
   "title_sidebar": "Contents",
   "toc_cell": false,
   "toc_position": {},
   "toc_section_display": true,
   "toc_window_display": true
  }
 },
 "nbformat": 4,
 "nbformat_minor": 5
}

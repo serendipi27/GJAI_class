{
 "cells": [
  {
   "cell_type": "markdown",
   "id": "09275b32",
   "metadata": {},
   "source": [
    "# 사용자 정의 모듈 사용하기\n",
    " - 아래 myMath는 pycharm을 이용하여 만든 모듈 이름임.\n",
    " - myMath 모듈 경로가 같은 directory에 있지 않기 때문에 작업 디렉토리를 바꿔줌.\n",
    " - from 모듈 import 함수: 여러 방법으로 함수를 불러올 수 있는데 여기서는 생략함.\n",
    " - import 모듈 as 별명"
   ]
  },
  {
   "cell_type": "code",
   "execution_count": 15,
   "id": "c29425a0",
   "metadata": {},
   "outputs": [
    {
     "name": "stdout",
     "output_type": "stream",
     "text": [
      "pi:  3.141592653589793\n",
      "sum of 1 to 10:  55\n",
      "multiply of 1 to 10:  3628800\n"
     ]
    }
   ],
   "source": [
    "try:\n",
    "    import myMath\n",
    "except:\n",
    "    import os\n",
    "    os.chdir('./gjai_python_base_module/')\n",
    "    import myMath\n",
    "\n",
    "print('pi: ', myMath.pi)\n",
    "\n",
    "result = myMath.sum1toN(10)\n",
    "\n",
    "print('sum of 1 to 10: ', result)\n",
    "\n",
    "result2 = myMath.multi1toN(10)\n",
    "print('multiply of 1 to 10: ', result2)"
   ]
  },
  {
   "cell_type": "markdown",
   "id": "bd54e422",
   "metadata": {},
   "source": [
    "# 내장 모듈"
   ]
  },
  {
   "cell_type": "code",
   "execution_count": 11,
   "id": "64570dd8",
   "metadata": {},
   "outputs": [
    {
     "name": "stdout",
     "output_type": "stream",
     "text": [
      "자연상수 e:  2.718281828459045\n",
      "파이 pi:  3.141592653589793\n",
      "log value base e:  1.0\n",
      "log value base 10:  2.0\n",
      "root value 10.0\n"
     ]
    }
   ],
   "source": [
    "import math\n",
    "\n",
    "print('자연상수 e: ', math.e)\n",
    "print('파이 pi: ', math.pi)\n",
    "print('log value base e: ', math.log(math.e))\n",
    "print('log value base 10: ', math.log10(100))\n",
    "print('root value', math.sqrt(100))"
   ]
  },
  {
   "cell_type": "markdown",
   "id": "65cc3c2e",
   "metadata": {},
   "source": [
    "# 내장 모듈 키워드 리스트 확인"
   ]
  },
  {
   "cell_type": "code",
   "execution_count": 16,
   "id": "e86f01a5",
   "metadata": {},
   "outputs": [
    {
     "name": "stdout",
     "output_type": "stream",
     "text": [
      "['False', 'None', 'True', 'and', 'as', 'assert', 'async', 'await', 'break', 'class', 'continue', 'def', 'del', 'elif', 'else', 'except', 'finally', 'for', 'from', 'global', 'if', 'import', 'in', 'is', 'lambda', 'nonlocal', 'not', 'or', 'pass', 'raise', 'return', 'try', 'while', 'with', 'yield']\n"
     ]
    }
   ],
   "source": [
    "import keyword\n",
    "\n",
    "print(keyword.kwlist)"
   ]
  },
  {
   "cell_type": "markdown",
   "id": "c820b62f",
   "metadata": {},
   "source": [
    "# 내장 모듈 - random\n",
    " - random.randint(시작, 끝) : 시작 ~ 끝 사이의 숫자 **하나**를 반환!!"
   ]
  },
  {
   "cell_type": "markdown",
   "id": "92efddcb",
   "metadata": {},
   "source": [
    "## random.randint()\n",
    " - random.randint : 중복허용\n",
    " - 비교) random.sample : 중복 비허용"
   ]
  },
  {
   "cell_type": "code",
   "execution_count": 20,
   "id": "87a14cd2",
   "metadata": {},
   "outputs": [
    {
     "name": "stdout",
     "output_type": "stream",
     "text": [
      "2, 4, 14, 19, 30, 26, 3, 10, 28, 8, 34, "
     ]
    }
   ],
   "source": [
    "import random\n",
    "\n",
    "num = random.randint(1, 45)\n",
    "# print(num)\n",
    "\n",
    "for i in range(11):\n",
    "    print(random.randint(1,45), end=', ')"
   ]
  },
  {
   "cell_type": "markdown",
   "id": "eae265df",
   "metadata": {},
   "source": [
    "## random.sample() \n",
    " - random.sample(range(1,45), 6) : **1~44** 숫자 중 6개를 중복허용하지 않고 생성."
   ]
  },
  {
   "cell_type": "code",
   "execution_count": 26,
   "id": "35d67b75",
   "metadata": {},
   "outputs": [
    {
     "data": {
      "text/plain": [
       "[22, 33, 2, 39, 10, 41]"
      ]
     },
     "execution_count": 26,
     "metadata": {},
     "output_type": "execute_result"
    }
   ],
   "source": [
    "import random\n",
    "random.sample(range(1,45), 6) # 로또 번호 생성기"
   ]
  },
  {
   "cell_type": "markdown",
   "id": "bebb6adf",
   "metadata": {},
   "source": [
    "## random.random()\n",
    " - **0~1** 사이의 숫자를 무작위로 **1개** 추출"
   ]
  },
  {
   "cell_type": "code",
   "execution_count": 27,
   "id": "48732a09",
   "metadata": {},
   "outputs": [
    {
     "name": "stdout",
     "output_type": "stream",
     "text": [
      "0.003307808178707017\n",
      "0.6241475541097349\n"
     ]
    }
   ],
   "source": [
    "import random\n",
    "\n",
    "print(random.random())\n",
    "print(random.random())"
   ]
  },
  {
   "cell_type": "markdown",
   "id": "7bf1e215",
   "metadata": {},
   "source": [
    "## random.uniform(a, b)\n",
    " - **숫자 a, b** 사이의 실수형 숫자를 임의로 **1개**로 추출\n",
    " - 이름이 uniform인 이유는 a, b 사이를 정규분포로 하여 임의로 추출하기 때문임."
   ]
  },
  {
   "cell_type": "code",
   "execution_count": 29,
   "id": "9aa6f940",
   "metadata": {},
   "outputs": [
    {
     "name": "stdout",
     "output_type": "stream",
     "text": [
      "9.631750290060687\n",
      "0.7065638547945301\n"
     ]
    }
   ],
   "source": [
    "import random\n",
    "\n",
    "print(random.uniform(5, 10))\n",
    "print(random.uniform(0, 3))"
   ]
  },
  {
   "cell_type": "markdown",
   "id": "dd9bb349",
   "metadata": {},
   "source": [
    "## 여러개의 난수를 동시에 만들기 위해 numpy.random 사용"
   ]
  },
  {
   "cell_type": "code",
   "execution_count": null,
   "id": "88a89334",
   "metadata": {},
   "outputs": [],
   "source": []
  },
  {
   "cell_type": "markdown",
   "id": "ee0cf9c0",
   "metadata": {},
   "source": [
    "# 모듈 - time\n",
    " - time.time(): 1970.1.1 이후부터 현재까지의 시간을 실수로 표현\n",
    " - time.ctim(): current time. 공백을 구분자로 하여 시간, 날짜를 표현한 string.\n",
    " - time.sleep(): 시스템의 속도를 늦춘다. 잠깐 쉼."
   ]
  },
  {
   "cell_type": "markdown",
   "id": "71f79692",
   "metadata": {},
   "source": [
    "## time.time()"
   ]
  },
  {
   "cell_type": "code",
   "execution_count": 34,
   "id": "5bb803e2",
   "metadata": {},
   "outputs": [
    {
     "name": "stdout",
     "output_type": "stream",
     "text": [
      "\n",
      "0\n",
      "*\n",
      "10000\n",
      "**\n",
      "20000\n",
      "***\n",
      "30000\n",
      "****\n",
      "40000\n",
      "*****\n",
      "50000\n",
      "******\n",
      "60000\n",
      "*******\n",
      "70000\n",
      "********\n",
      "80000\n",
      "*********\n",
      "90000\n",
      "총 걸린 시간:  0.008296966552734375\n"
     ]
    }
   ],
   "source": [
    "import time\n",
    "\n",
    "def fast_test(numb):\n",
    "    start = time.time()\n",
    "    for i in range(numb):\n",
    "        if i % 10000 == 0:\n",
    "            print('*'*(i//10000))\n",
    "            print(i)\n",
    "    end = time.time()\n",
    "    return start, end\n",
    "\n",
    "start, end = fast_test(100000)\n",
    "\n",
    "print('총 걸린 시간: ', end - start)"
   ]
  },
  {
   "cell_type": "markdown",
   "id": "957c35bb",
   "metadata": {},
   "source": [
    "## time.ctime"
   ]
  },
  {
   "cell_type": "code",
   "execution_count": 38,
   "id": "c954cc75",
   "metadata": {},
   "outputs": [
    {
     "name": "stdout",
     "output_type": "stream",
     "text": [
      "<class 'str'>\n",
      "<class 'str'> Mon\n",
      "<class 'str'> Sep\n",
      "<class 'str'> \n",
      "<class 'str'> 5\n",
      "<class 'str'> 11:43:21\n",
      "<class 'str'> 2022\n"
     ]
    }
   ],
   "source": [
    "import time\n",
    "\n",
    "now = time.ctime()\n",
    "print(type(now))\n",
    "now_list = now.split(' ')\n",
    "for ele in now_list:\n",
    "    print(type(ele), ele)"
   ]
  },
  {
   "cell_type": "markdown",
   "id": "f6b62d2d",
   "metadata": {},
   "source": [
    "## 연습문제 for random\n",
    " - 1 ~ 100까지 수를 random하게 추출하되, random(), sleep(), range()를 사용하라."
   ]
  },
  {
   "cell_type": "code",
   "execution_count": 43,
   "id": "e8b69f32",
   "metadata": {},
   "outputs": [
    {
     "name": "stdout",
     "output_type": "stream",
     "text": [
      "100\n",
      "100\n",
      "taking time of randint():  8.273124694824219e-05\n"
     ]
    }
   ],
   "source": [
    "import random\n",
    "import time\n",
    "\n",
    "ll = []\n",
    "while len(ll) < 100:\n",
    "    start = time.time()\n",
    "    num = random.randint(1,101)\n",
    "    if num not in ll:\n",
    "        ll.append(num)\n",
    "end = time.time()\n",
    "print(len(ll))\n",
    "print(len(set(ll)))\n",
    "print('taking time of randint(): ', end - start)\n"
   ]
  },
  {
   "cell_type": "code",
   "execution_count": 44,
   "id": "d4a9ea76",
   "metadata": {},
   "outputs": [
    {
     "name": "stdout",
     "output_type": "stream",
     "text": [
      "100\n",
      "100\n",
      "taking time of sample():  0.00020194053649902344\n"
     ]
    }
   ],
   "source": [
    "import random\n",
    "import time\n",
    "\n",
    "start = time.time()\n",
    "nums = random.sample(range(1,101), 100)\n",
    "end = time.time()\n",
    "print(len(nums))\n",
    "print(len(set(nums)))\n",
    "print('taking time of sample(): ', end - start)"
   ]
  },
  {
   "cell_type": "markdown",
   "id": "6404d112",
   "metadata": {},
   "source": [
    "# PyPi 패키지 만들기\n",
    "\n",
    "1. package directory 만들기\n",
    " - 이 디렉토리 이름이 package 이름이 될터이다.\n",
    " - bmiastroPackage\n",
    " \n",
    "2. package directory 아래에 setup.py 만들기\n",
    " - 여기에 package에 대한 정보를 가득 담을 것임.\n",
    " - setup.py\n",
    " \n",
    "3. package directory 아래에 package directory와 동일한 directory 만들기\n",
    " - bmiastroPackage\n",
    " \n",
    "4. bmiTest 안에 모듈 파일들 만들기\n",
    " - cal_bmi.py\n",
    " \n",
    "5. 가능하면 conda env의 가상환경을 사용하자\n",
    " - conda env list\n",
    " - conda activate nlp3710\n",
    " \n",
    "6. package 만드는데 필수적인 패키지 설치\n",
    " - conda install setuptools\n",
    " - conda install wheel\n",
    " \n",
    "7. build 하기\n",
    " - setup.py가 있는 directory에서 다음을 실행함.\n",
    " - <u>**python setup.py bdist_wheel**</u>\n",
    " - removing build/bdist.macosx-10.9-x86_64/wheel 가 맨 아래에 뜨면 성공!!\n",
    " - 그럼 동일 디렉토리 내에 build, bmiastroPackage.egg-info, dist directory가 새로 생성됨.\n",
    " \n",
    "8. PyPI에 업로드\n",
    " - 새로 생성된 dist directory에 다음과 같은 whl 파일이 생성됨. 아래 명령어를 실행.\n",
    " - <u>**twine upload dist/bmiastroPackage-0.0.0.1-py3-none-any.whl</u>**\n",
    " - username, passwd를 입력하면 pypi에 package가 업로드 됨.\n",
    " - PyPI 사이트에서 미리 user 등록을 해야 한다.\n",
    " \n",
    "9. PyPI 홈페이지 확인하기\n",
    " - https://pypi.org/ 의 your project에서 업로드한 패키지 확인\n",
    " \n",
    "10. 패키지 설치\n",
    " - pip install bmiastroPackage ; 바로 설치 가능\n",
    " - conda install bmiastroPackagse ; 이건 바로 안됨.\n",
    " \n",
    "11. 패키지 테스트\n",
    " - from bmiastroPackage.bmitest import cal_bmi\n",
    " - cal_bmi(1.75, 65) # (키, 몸무게) (m, kg) 단위 맞춰주기\n",
    " \n",
    "12. version up 하기\n",
    " - 그리고 모듈 파일 bmitest.py를 수정하거나, 새로운 모듈 파일 삽입, 삭제\n",
    "  - setup.py에서 version 정보를 0.0.0.2로 변경\n",
    "  - setup.py에서 py_modules 정보를 변경(삽입 또는 삭제에 따라서)\n",
    "  - 다음 명령어를 실행하여 동일하게 PyPI에 upload하기\n",
    "  - <u>**python setup.py bdist_wheel**</u>\n",
    "  - <u>**twine upload dist/bmiastroPackage-0.0.0.2-py3-none-\n",
    "    \n",
    "13. version up 패키지 설치\n",
    "  - **<u>pip install bmiastroPackage --upgrade <u>**"
   ]
  },
  {
   "cell_type": "code",
   "execution_count": null,
   "id": "8feb071c",
   "metadata": {
    "scrolled": true
   },
   "outputs": [],
   "source": [
    "# setup.py\n",
    "from setuptools import setup, find_packages\n",
    "\n",
    "setup(name='bmiastroPackage',\n",
    "      version='0.0.0.1',\n",
    "      desciption='bmi Test Package',\n",
    "      author='Jisung Ha',\n",
    "      author_email='serendipi27@gmail.com',\n",
    "      url='',\n",
    "      license='MIT',\n",
    "      py_modules=['bmitest'],\n",
    "      python_requires='>=3',\n",
    "      packages=['bmiastroPackage'])"
   ]
  },
  {
   "cell_type": "code",
   "execution_count": 2,
   "id": "544ff417",
   "metadata": {},
   "outputs": [],
   "source": [
    "# bmi.py\n",
    "def cal_bmi(tall, weight):\n",
    "    bmi = round(weight / (tall*tall), 1)\n",
    "    if bmi <= 18.5:\n",
    "        metric = '저체중'\n",
    "    elif bmi > 18.5 and bmi <= 22.9:\n",
    "        metric = '정상'\n",
    "    elif bmi > 22.9 and bmi <= 24.9:\n",
    "        metric = '과체중'\n",
    "    elif bmi > 24.9:\n",
    "        metric = '비만'\n",
    "    else:\n",
    "        metric = '키의 단위는 m, 몸무게의 단위는 kg 입니다.'\n",
    "\n",
    "    print(f'My BMI: {bmi}')\n",
    "    print(f\"나의 BMI(신체질량지수)는 {bmi}이고, {metric}입니다.\")"
   ]
  },
  {
   "cell_type": "code",
   "execution_count": 28,
   "id": "fca9f472",
   "metadata": {},
   "outputs": [],
   "source": [
    "# 패키지 설치하기\n",
    "try:\n",
    "    from bmiastroPackage import bmitest\n",
    "except:\n",
    "    !pip install bmiastroPackage\n",
    "    from bmiastroPackage import bmitest\n",
    "\n",
    "# !pip install bmiastroPackage --upgrade"
   ]
  },
  {
   "cell_type": "code",
   "execution_count": 29,
   "id": "0e656bf8",
   "metadata": {},
   "outputs": [
    {
     "name": "stdout",
     "output_type": "stream",
     "text": [
      "키(m)를 입력해 주세요: 1.76\n",
      "몸무게(kg)를 입력해 주세요: 65\n",
      "My BMI: 21.0\n",
      "나의 BMI(신체질량지수)는 21.0이고, 정상입니다.\n"
     ]
    }
   ],
   "source": [
    "# bmitest 모듈 사용해 보기\n",
    "from bmiastroPackage import bmitest\n",
    "\n",
    "tall = float(input('키(m)를 입력해 주세요: '))\n",
    "weight = float(input('몸무게(kg)를 입력해 주세요: ')) \n",
    "\n",
    "bmitest.cal_bmi(tall, weight)"
   ]
  },
  {
   "cell_type": "code",
   "execution_count": null,
   "id": "4d676acd",
   "metadata": {},
   "outputs": [],
   "source": []
  }
 ],
 "metadata": {
  "kernelspec": {
   "display_name": "nlp3710",
   "language": "python",
   "name": "nlp3710"
  },
  "language_info": {
   "codemirror_mode": {
    "name": "ipython",
    "version": 3
   },
   "file_extension": ".py",
   "mimetype": "text/x-python",
   "name": "python",
   "nbconvert_exporter": "python",
   "pygments_lexer": "ipython3",
   "version": "3.7.10"
  }
 },
 "nbformat": 4,
 "nbformat_minor": 5
}

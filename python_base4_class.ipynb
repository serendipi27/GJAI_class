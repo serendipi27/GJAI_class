{
 "cells": [
  {
   "cell_type": "markdown",
   "id": "3a63c909",
   "metadata": {},
   "source": [
    "# 클래스를 대하는 법\n",
    "## 1. 클래스를 너무 철학적으로 접근하면 응용이 어려워진다.\n",
    "    - 완벽하게 틀을 맞추고 상속을 잘 쓴다 하더라도 실무에서는 모조리 바꿔야 할 수도 있다.\n",
    "    - 클래스는 프로그래밍을 효율적으로 하는 도구일 뿐이지 너무 멋부리지 말자.\n",
    "## 2. 딥러닝을 어렵게 가지 말자.\n",
    "    - 사실 딥러닝은 어렵지 않다. 다른 천재들이 구현한 걸 우리는 가져다 쓰는 거다.\n",
    "    - 물론 클래스 개념을 완전히 이해하면 모델을 가져다 쓰는게 유연해 지겠지만, 그렇다고 거기에 올인하면 딥러닝을 해보지도 못한다.\n",
    "    - 쉽게 접근해서 사용하고 필요하면 클래스 개념으로 접근하자."
   ]
  },
  {
   "cell_type": "markdown",
   "id": "37474a08",
   "metadata": {},
   "source": [
    "# 클래스 내 method 구현하기"
   ]
  },
  {
   "cell_type": "code",
   "execution_count": 1,
   "id": "06f39947",
   "metadata": {},
   "outputs": [
    {
     "name": "stdout",
     "output_type": "stream",
     "text": [
      "뛰뛰 빵빵!!\n",
      "부아아아아아앙 끽!!!!!\n"
     ]
    }
   ],
   "source": [
    "class car():\n",
    "    def make_noise(self, sound):\n",
    "        print(sound)\n",
    "        \n",
    "car1 = car()\n",
    "car1.make_noise('뛰뛰 빵빵!!')\n",
    "\n",
    "car2 = car()\n",
    "car2.make_noise('부아아아아아앙 끽!!!!!')"
   ]
  },
  {
   "cell_type": "markdown",
   "id": "e15cad67",
   "metadata": {},
   "source": [
    "# 클래스의 __init__ 메소드 사용하기"
   ]
  },
  {
   "cell_type": "code",
   "execution_count": 3,
   "id": "164e1d1f",
   "metadata": {},
   "outputs": [
    {
     "name": "stdout",
     "output_type": "stream",
     "text": [
      "뛰빵빵!!\n",
      "hey man!! rock and roll~!!\n"
     ]
    }
   ],
   "source": [
    "class car():\n",
    "    def __init__(self, sound):\n",
    "        self.sound = sound\n",
    "        \n",
    "    def make_noise(self):\n",
    "        print(self.sound)\n",
    "        \n",
    "car1 = car('뛰빵빵!!')\n",
    "car1.make_noise()\n",
    "\n",
    "car2 = car('hey man!! rock and roll~!!')\n",
    "car2.make_noise()\n"
   ]
  },
  {
   "cell_type": "markdown",
   "id": "3f382da6",
   "metadata": {},
   "source": [
    "# 클래스의 __call__ 메소드 사용하기\n",
    "- 객체 자체를 함수처럼 사용하기 위함.\n",
    "- 별로 효용성은 없다.\n",
    "- return 구문이 필요한지 확인해 보자. 필요없다."
   ]
  },
  {
   "cell_type": "code",
   "execution_count": 1,
   "id": "3cc6da69",
   "metadata": {},
   "outputs": [
    {
     "name": "stdout",
     "output_type": "stream",
     "text": [
      "hello my bros\n"
     ]
    },
    {
     "data": {
      "text/plain": [
       "'sound bamm'"
      ]
     },
     "execution_count": 1,
     "metadata": {},
     "output_type": "execute_result"
    }
   ],
   "source": [
    "class car():\n",
    "#     def __init__(self, sound):\n",
    "#         self.sound = sound\n",
    "        \n",
    "    def __call__(self):\n",
    "#         print(self.sound)\n",
    "        print('hello my bros')\n",
    "        return 'sound bamm'\n",
    "        \n",
    "# car1 = car('뛰뛰 빵빵!!')\n",
    "car1 = car()\n",
    "car1()"
   ]
  },
  {
   "cell_type": "markdown",
   "id": "2a384551",
   "metadata": {},
   "source": [
    "# 연습문제 for class method"
   ]
  },
  {
   "cell_type": "code",
   "execution_count": 16,
   "id": "9da9507a",
   "metadata": {},
   "outputs": [
    {
     "name": "stdout",
     "output_type": "stream",
     "text": [
      "my name is volvo xc90\n",
      "let's make a noise\n",
      "this is my car. will be.\n"
     ]
    }
   ],
   "source": [
    "class car():\n",
    "    def __init__(self, name):\n",
    "        self.name = name\n",
    "        \n",
    "    def __call__(self):\n",
    "        print(f'my name is {self.name}')\n",
    "        \n",
    "    def make_noise(self, noise):\n",
    "        self.noise = noise\n",
    "        print(\"let's make a noise\")\n",
    "        print(self.noise)\n",
    "        \n",
    "car1 = car('volvo xc90')\n",
    "car1()\n",
    "car1.make_noise('this is my car. will be.')"
   ]
  },
  {
   "cell_type": "markdown",
   "id": "2e1d9551",
   "metadata": {},
   "source": [
    "# 상속\n",
    "## 1. 상속이란?\n",
    "    - 클래스에서 부모와 자식의 관계를 설정하여 자식 클래스가 부모 클래스의 특성, 메소드를 이어받을 수 있는 방법\n",
    "## 2. 무엇이 좋은가?\n",
    "    - 코드를 효율적으로 작성할 수 있다.\n",
    "    - 자식은 부모에게 모든 걸 맡기고 자기가 하고싶은 것만 할 수 있는 자유가 주어짐.\n",
    "    - 그럼에도 불구하고 부모에게 있는 건 자기도 할 수 있음.\n",
    "    - 다양한 자식이 태어났을 때, 모든 자식에게 공통적으로 변경 사항이 있다면 모든 자식을 건드리는 게 아니라 부모만 건드려서 고치면 모든 게 해결됨.\n",
    "## 3. 오버라이드\n",
    "## 4. super()\n",
    "    - 자식이 부모의 메소드를 부르는 행위\n",
    "    - 자식이 부모의 메소드를 오버라이드 했음에도 불구하고, 부모의 메소드를 그대로 다시 부를 수 있음.\n",
    "    - **그러나 프로그래밍 흐름 상 옳진 않음. 자식에게 갔는데 왜 다시 부모로 올라가나.**\n",
    "    - **그러나 생각해 보니 필요할 때가 있네. 왜냐면 클래스를 만들 때는 상속 받은 게 아니기 때문에 부모의 특성이나 메소드를 클래스 내 코드 상에서 활용할 때 필요할 수도 있겠다.**"
   ]
  },
  {
   "cell_type": "markdown",
   "id": "06a720d1",
   "metadata": {},
   "source": [
    "## 상속 예제"
   ]
  },
  {
   "cell_type": "code",
   "execution_count": 2,
   "id": "940052b9",
   "metadata": {},
   "outputs": [
    {
     "name": "stdout",
     "output_type": "stream",
     "text": [
      "I am a car\n"
     ]
    }
   ],
   "source": [
    "class car():\n",
    "    def categories(self):\n",
    "        print('I am a car')\n",
    "        \n",
    "class cooper(car):\n",
    "    pass\n",
    "\n",
    "car1 = cooper()\n",
    "car1.categories()"
   ]
  },
  {
   "cell_type": "markdown",
   "id": "ef090b22",
   "metadata": {},
   "source": [
    "## 오버라이드 예제"
   ]
  },
  {
   "cell_type": "code",
   "execution_count": 4,
   "id": "5da8cc58",
   "metadata": {},
   "outputs": [
    {
     "name": "stdout",
     "output_type": "stream",
     "text": [
      "I am a car\n",
      "coooooooooooooooperrrrrr\n"
     ]
    }
   ],
   "source": [
    "class car():\n",
    "    def categories(self):\n",
    "        print('I am a car')\n",
    "        \n",
    "    def make_noise(self):\n",
    "        print('yahoo~!!')\n",
    "        \n",
    "class cooper(car):\n",
    "    def make_noise(self):\n",
    "        print('coooooooooooooooperrrrrr')\n",
    "        \n",
    "class \n",
    "        \n",
    "car1 = cooper()\n",
    "car1.categories()\n",
    "car1.make_noise()"
   ]
  },
  {
   "cell_type": "markdown",
   "id": "45df1522",
   "metadata": {},
   "source": [
    "## 부모 메서드 호출하기 - super()"
   ]
  },
  {
   "cell_type": "code",
   "execution_count": 5,
   "id": "0183b090",
   "metadata": {},
   "outputs": [
    {
     "name": "stdout",
     "output_type": "stream",
     "text": [
      "coooooooooooooooperrrrrr\n",
      "yahoo~!!\n"
     ]
    }
   ],
   "source": [
    "class car():\n",
    "    def categories(self):\n",
    "        print('I am a car')\n",
    "        \n",
    "    def make_noise(self):\n",
    "        print('yahoo~!!')\n",
    "        \n",
    "class cooper(car):\n",
    "    def make_noise(self):\n",
    "        print('coooooooooooooooperrrrrr')\n",
    "        super().make_noise()\n",
    "\n",
    "car1 = cooper()\n",
    "car1.make_noise()"
   ]
  },
  {
   "cell_type": "markdown",
   "id": "2c26a451",
   "metadata": {},
   "source": [
    "## 부모 메서드 호출하기2 - super().__init__()"
   ]
  },
  {
   "cell_type": "code",
   "execution_count": 6,
   "id": "e9c244ba",
   "metadata": {},
   "outputs": [
    {
     "name": "stdout",
     "output_type": "stream",
     "text": [
      "I am me\n",
      "coooooooooooooooperrrrrr\n",
      "I am me\n"
     ]
    }
   ],
   "source": [
    "class car():\n",
    "    def __init__(self):\n",
    "        print('I am me')\n",
    "        \n",
    "    def categories(self):\n",
    "        print('I am a car')\n",
    "        \n",
    "    def make_noise(self):\n",
    "        print('yahoo~!!')\n",
    "        \n",
    "class cooper(car):\n",
    "    def make_noise(self):\n",
    "        print('coooooooooooooooperrrrrr')\n",
    "        super().__init__()\n",
    "\n",
    "car1 = cooper()\n",
    "car1.make_noise()"
   ]
  },
  {
   "cell_type": "markdown",
   "id": "ef39f2fa",
   "metadata": {},
   "source": [
    "## 연습문제 for 상속"
   ]
  },
  {
   "cell_type": "code",
   "execution_count": 15,
   "id": "e13bed48",
   "metadata": {},
   "outputs": [
    {
     "ename": "AttributeError",
     "evalue": "'Maltese' object has no attribute 'name'",
     "output_type": "error",
     "traceback": [
      "\u001b[0;31m---------------------------------------------------------------------------\u001b[0m",
      "\u001b[0;31mAttributeError\u001b[0m                            Traceback (most recent call last)",
      "\u001b[0;32m<ipython-input-15-b14971d1329d>\u001b[0m in \u001b[0;36m<module>\u001b[0;34m\u001b[0m\n\u001b[1;32m     45\u001b[0m \u001b[0;34m\u001b[0m\u001b[0m\n\u001b[1;32m     46\u001b[0m \u001b[0mmaltese\u001b[0m \u001b[0;34m=\u001b[0m \u001b[0mMaltese\u001b[0m\u001b[0;34m(\u001b[0m\u001b[0;34m'마티즈'\u001b[0m\u001b[0;34m,\u001b[0m \u001b[0;36m2\u001b[0m\u001b[0;34m,\u001b[0m \u001b[0;34m'small'\u001b[0m\u001b[0;34m,\u001b[0m \u001b[0;34m'white'\u001b[0m\u001b[0;34m)\u001b[0m\u001b[0;34m\u001b[0m\u001b[0;34m\u001b[0m\u001b[0m\n\u001b[0;32m---> 47\u001b[0;31m \u001b[0mprint\u001b[0m\u001b[0;34m(\u001b[0m\u001b[0mmaltese\u001b[0m\u001b[0;34m.\u001b[0m\u001b[0mname\u001b[0m\u001b[0;34m)\u001b[0m\u001b[0;34m\u001b[0m\u001b[0;34m\u001b[0m\u001b[0m\n\u001b[0m\u001b[1;32m     48\u001b[0m \u001b[0mmaltese\u001b[0m\u001b[0;34m.\u001b[0m\u001b[0msit\u001b[0m\u001b[0;34m(\u001b[0m\u001b[0;34m)\u001b[0m\u001b[0;34m\u001b[0m\u001b[0;34m\u001b[0m\u001b[0m\n\u001b[1;32m     49\u001b[0m \u001b[0mprint\u001b[0m\u001b[0;34m(\u001b[0m\u001b[0;34mf'{maltese.name}는: {maltese.character}'\u001b[0m\u001b[0;34m)\u001b[0m\u001b[0;34m\u001b[0m\u001b[0;34m\u001b[0m\u001b[0m\n",
      "\u001b[0;31mAttributeError\u001b[0m: 'Maltese' object has no attribute 'name'"
     ]
    }
   ],
   "source": [
    "class Dog():\n",
    "    def __init__(self, breed, size, age, color):\n",
    "        self.name = breed\n",
    "        self.size = size\n",
    "        self.age = age\n",
    "        self.color = color\n",
    "        self.character = None\n",
    "    \n",
    "    def eat(self):\n",
    "        pass\n",
    "    \n",
    "    def sleep(self):\n",
    "        pass\n",
    "    \n",
    "    def sit(self):\n",
    "        pass\n",
    "    \n",
    "    def run(self):\n",
    "        pass\n",
    "\n",
    "class Maltese(Dog):\n",
    "    def __init__(self, breed, size, age, color):\n",
    "        super().__init__(breed, size, age, color)\n",
    "        self.character = '온순함'\n",
    "        \n",
    "    def sit(self):\n",
    "        print(f\"{self.name}가 짧은 다리로 앉아 있어요!\")\n",
    "        \n",
    "    def play(self):\n",
    "        print(f\"{self.name}가 공놀이를 하고 있어요~\")\n",
    "        \n",
    "class Chowchow(Dog):\n",
    "    def __init__(self, breed, size, age, color):\n",
    "        self.character = '예민함'\n",
    "        \n",
    "    def play(self):\n",
    "        print(f\"{self.name}가 공격을 하고 있어요~\")\n",
    "        \n",
    "class Mastiff(Dog):\n",
    "    def __init__(self, breed, size, age, color):\n",
    "        self.character = '온순함'\n",
    "        \n",
    "    def play(self):\n",
    "        print(f\"{self.name}가 사냥을 하고 있어요~\")\n",
    "        \n",
    "maltese = Maltese('마티즈', 2, 'small', 'white')\n",
    "print(maltese.name)\n",
    "maltese.sit()\n",
    "print(f'{maltese.name}는: {maltese.character}')\n",
    "maltese.play()\n",
    "maltese.eat()"
   ]
  },
  {
   "cell_type": "code",
   "execution_count": null,
   "id": "b55e9d7f",
   "metadata": {},
   "outputs": [],
   "source": []
  }
 ],
 "metadata": {
  "kernelspec": {
   "display_name": "nlp3710",
   "language": "python",
   "name": "nlp3710"
  },
  "language_info": {
   "codemirror_mode": {
    "name": "ipython",
    "version": 3
   },
   "file_extension": ".py",
   "mimetype": "text/x-python",
   "name": "python",
   "nbconvert_exporter": "python",
   "pygments_lexer": "ipython3",
   "version": "3.7.10"
  }
 },
 "nbformat": 4,
 "nbformat_minor": 5
}

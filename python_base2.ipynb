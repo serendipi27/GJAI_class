{
 "cells": [
  {
   "cell_type": "markdown",
   "id": "77fe0728",
   "metadata": {},
   "source": [
    "## 중복 for문"
   ]
  },
  {
   "cell_type": "code",
   "execution_count": null,
   "id": "e40cd7ad",
   "metadata": {},
   "outputs": [],
   "source": [
    "제일농장 = [100, 50, 80]\n",
    "우리농장 = [50, 10, 20]\n",
    "한국농장 = [200, 100, 150]\n",
    "\n",
    "farms = ['제일농장', '우리농장', '한국농장']\n",
    "animals = ['닭', '소', '돼지']\n",
    "\n",
    "dic = dict([(name, obj) for name, obj in zip(farms, [제일농장, 우리농장, 한국농장])])\n",
    "# print(dic)\n",
    "\n",
    "for farm in farms:\n",
    "    farm_obj = dic[farm]\n",
    "    print('*'*5 + ' ' + f'{farm}' + ' ' + '*'*5)\n",
    "    for i, animal in enumerate(animals):\n",
    "        print(f'{animal}, {farm_obj[i]}마리 입니다.')\n",
    "    print('\\n')"
   ]
  },
  {
   "cell_type": "markdown",
   "id": "c80d5d18",
   "metadata": {},
   "source": [
    "## 리스트 컴프레헨션"
   ]
  },
  {
   "cell_type": "code",
   "execution_count": 5,
   "id": "799c17ef",
   "metadata": {},
   "outputs": [
    {
     "name": "stdout",
     "output_type": "stream",
     "text": [
      "[1, 0, 1, 0, 1]\n"
     ]
    }
   ],
   "source": [
    "even_odd = [num%2 for num in range(1,6)]\n",
    "print(even_odd)"
   ]
  },
  {
   "cell_type": "code",
   "execution_count": 8,
   "id": "69c3cbab",
   "metadata": {},
   "outputs": [
    {
     "name": "stdout",
     "output_type": "stream",
     "text": [
      "['no', 2, 'no', 4, 'no']\n"
     ]
    }
   ],
   "source": [
    "even = [num if num%2 == 0 else \"no\" for num in range(1,6)]\n",
    "print(even)"
   ]
  },
  {
   "cell_type": "code",
   "execution_count": 9,
   "id": "92cb1d3c",
   "metadata": {},
   "outputs": [
    {
     "data": {
      "text/plain": [
       "[2, 4]"
      ]
     },
     "execution_count": 9,
     "metadata": {},
     "output_type": "execute_result"
    }
   ],
   "source": [
    "even = [num for num in range(1,6) if num%2==0]\n",
    "even"
   ]
  },
  {
   "cell_type": "markdown",
   "id": "d8037735",
   "metadata": {},
   "source": [
    "## 중복 리스트 컴프레헨션"
   ]
  },
  {
   "cell_type": "code",
   "execution_count": 12,
   "id": "f74a3619",
   "metadata": {},
   "outputs": [
    {
     "data": {
      "text/plain": [
       "[(['학교', '집', '놀이터'], '학교'),\n",
       " (['학교', '집', '놀이터'], '집'),\n",
       " (['학교', '집', '놀이터'], '놀이터'),\n",
       " (['자장면', '짬뽕', 'food'], '자장면'),\n",
       " (['자장면', '짬뽕', 'food'], '짬뽕'),\n",
       " (['자장면', '짬뽕', 'food'], 'food')]"
      ]
     },
     "execution_count": 12,
     "metadata": {},
     "output_type": "execute_result"
    }
   ],
   "source": [
    "data1 = [['학교', '집', '놀이터'], ['자장면', '짬뽕', 'food']]\n",
    "\n",
    "lc = [(place, food) for place in data1 for food in place]\n",
    "lc"
   ]
  },
  {
   "cell_type": "code",
   "execution_count": 13,
   "id": "7bcc58b7",
   "metadata": {},
   "outputs": [
    {
     "name": "stdout",
     "output_type": "stream",
     "text": [
      "['Keily', 'Michael']\n"
     ]
    }
   ],
   "source": [
    "name = ['John', 'Keily', 'Michael']\n",
    "print([na for na in name if len(na) > 4])"
   ]
  },
  {
   "cell_type": "markdown",
   "id": "3d472d0f",
   "metadata": {},
   "source": [
    "## 함수"
   ]
  },
  {
   "cell_type": "code",
   "execution_count": 17,
   "id": "4fd5e1dd",
   "metadata": {},
   "outputs": [
    {
     "name": "stdout",
     "output_type": "stream",
     "text": [
      "숫자를 입력하세요: -3\n",
      "-3을 입력한 결과는 3\n"
     ]
    }
   ],
   "source": [
    "def func_abs(num):\n",
    "    if num < 0:\n",
    "        num = -num\n",
    "    return num\n",
    "\n",
    "\n",
    "num = int(input('숫자를 입력하세요: '))\n",
    "result = func_abs(num)\n",
    "print(f'{num}을 입력한 결과는 {result}')"
   ]
  },
  {
   "cell_type": "code",
   "execution_count": 18,
   "id": "2c610cfb",
   "metadata": {},
   "outputs": [
    {
     "name": "stdout",
     "output_type": "stream",
     "text": [
      "hello everyone\n",
      "hello my love\n",
      "goodbye my legendary\n"
     ]
    }
   ],
   "source": [
    "# 매개변수 기본값\n",
    "def message(msg, to='everyone'):\n",
    "    print(msg, to)\n",
    "    \n",
    "message('hello')\n",
    "message('hello', 'my love')\n",
    "message('goodbye', to='my legendary')"
   ]
  },
  {
   "cell_type": "code",
   "execution_count": 25,
   "id": "beb13194",
   "metadata": {},
   "outputs": [
    {
     "name": "stdout",
     "output_type": "stream",
     "text": [
      "aabbccddeeff\n"
     ]
    }
   ],
   "source": [
    "# 가변길이 위치 파라미터\n",
    "def friends(*args):\n",
    "    longname = ''\n",
    "    for name in args:\n",
    "        longname += name\n",
    "    return longname\n",
    "\n",
    "name_list = ['aa' ,'bb', 'cc', 'dd', 'ee', 'ff']\n",
    "friend_list = friends(*name_list)\n",
    "print(friend_list)"
   ]
  },
  {
   "cell_type": "markdown",
   "id": "31866f05",
   "metadata": {},
   "source": [
    "## doctring 함수 도움말"
   ]
  },
  {
   "cell_type": "code",
   "execution_count": 32,
   "id": "2d4e7a44",
   "metadata": {},
   "outputs": [
    {
     "name": "stdout",
     "output_type": "stream",
     "text": [
      "내 이름은 serendipi27이고, 나이는 27살 입니다.\n",
      "Help on function func_doc in module __main__:\n",
      "\n",
      "func_doc(name, age)\n",
      "    이 함수는 name과 age를 입력받아 인구조사에 활용할 목적으로 한다.\n",
      "\n"
     ]
    }
   ],
   "source": [
    "# 함수 내 \"\"\" \"\"\"를 이용하여 도움말을 작성할 수 있다.\n",
    "# help(함수명)으로 docstring을 읽을 수 있다.\n",
    "# 단, 함수 정의 바로 아래에 위치해야 한다.\n",
    "\n",
    "def func_doc(name, age):\n",
    "    \"\"\"\n",
    "    이 함수는 name과 age를 입력받아 인구조사에 활용할 목적으로 한다.\n",
    "    \"\"\"\n",
    "    print(f'내 이름은 {name}이고, 나이는 {age}살 입니다.')\n",
    "    \n",
    "func_doc('serendipi27', 27)\n",
    "help(func_doc)"
   ]
  },
  {
   "cell_type": "markdown",
   "id": "aa6c7408",
   "metadata": {},
   "source": [
    "## 내장함수"
   ]
  },
  {
   "cell_type": "code",
   "execution_count": 37,
   "id": "79453073",
   "metadata": {},
   "outputs": [
    {
     "name": "stdout",
     "output_type": "stream",
     "text": [
      "정수를 입력하세요: 12\n",
      "12.0\n"
     ]
    }
   ],
   "source": [
    "num = input('정수를 입력하세요: ')\n",
    "print(float(int(num)))"
   ]
  },
  {
   "cell_type": "code",
   "execution_count": 38,
   "id": "d55de73a",
   "metadata": {},
   "outputs": [
    {
     "name": "stdout",
     "output_type": "stream",
     "text": [
      " 1대 대통령: 이승만\n",
      " 2대 대통령: 윤보선\n",
      " 3대 대통령: 박정희\n",
      " 4대 대통령: 최규하\n",
      " 5대 대통령: 전두환\n",
      " 6대 대통령: 노태우\n",
      " 7대 대통령: 김영삼\n",
      " 8대 대통령: 김대중\n",
      " 9대 대통령: 노무현\n",
      "10대 대통령: 이명박\n",
      "11대 대통령: 박근혜\n",
      "12대 대통령: 문재인\n",
      "13대 대통령: 윤석열\n"
     ]
    }
   ],
   "source": [
    "name_list = ['이승만', '윤보선', '박정희', '최규하', '전두환', \n",
    "            '노태우', '김영삼', '김대중', '노무현', '이명박',\n",
    "             '박근혜', '문재인', '윤석열']\n",
    "for i, name in enumerate(name_list):\n",
    "    print(f'{i+1:2d}대 대통령: {name}')"
   ]
  },
  {
   "cell_type": "code",
   "execution_count": 41,
   "id": "d2658592",
   "metadata": {},
   "outputs": [
    {
     "name": "stdout",
     "output_type": "stream",
     "text": [
      " 1대 대통령: 이승만\n",
      " 2대 대통령: 윤보선\n",
      " 3대 대통령: 박정희\n",
      " 4대 대통령: 최규하\n",
      " 5대 대통령: 전두환\n",
      " 6대 대통령: 노태우\n",
      " 7대 대통령: 김영삼\n",
      " 8대 대통령: 김대중\n",
      " 9대 대통령: 노무현\n",
      "10대 대통령: 이명박\n",
      "11대 대통령: 박근혜\n",
      "12대 대통령: 문재인\n",
      "13대 대통령: 윤석열\n"
     ]
    }
   ],
   "source": [
    "name_list = ['이승만', '윤보선', '박정희', '최규하', '전두환', \n",
    "            '노태우', '김영삼', '김대중', '노무현', '이명박',\n",
    "             '박근혜', '문재인', '윤석열']\n",
    "for i in range(len(name_list)):\n",
    "    print('{:2d}대 대통령: {}'.format(i+1, name_list[i]))"
   ]
  },
  {
   "cell_type": "markdown",
   "id": "26b94b2c",
   "metadata": {},
   "source": [
    "## 지역변수와 전역변수"
   ]
  },
  {
   "cell_type": "code",
   "execution_count": 44,
   "id": "0240d12e",
   "metadata": {},
   "outputs": [
    {
     "name": "stdout",
     "output_type": "stream",
     "text": [
      "func1 지역변수 a:  10\n",
      "None\n",
      "func2 전역변수 a:  100\n",
      "None\n",
      "func3 a:  100000\n",
      "None\n",
      "a:  100000\n"
     ]
    }
   ],
   "source": [
    "a = 100\n",
    "\n",
    "def func1():\n",
    "    a = 10\n",
    "    print('func1 지역변수 a: ', a)\n",
    "    \n",
    "def func2():\n",
    "    print('func2 전역변수 a: ', a)\n",
    "    \n",
    "def func3():\n",
    "    global a\n",
    "    a = 100000\n",
    "    print('func3 a: ', a)\n",
    "print(func1())\n",
    "print(func2())\n",
    "print(func3())\n",
    "print('a: ', a)"
   ]
  },
  {
   "cell_type": "markdown",
   "id": "3981c740",
   "metadata": {},
   "source": [
    "## 람다(lambda) 함수"
   ]
  },
  {
   "cell_type": "code",
   "execution_count": 49,
   "id": "0a8aa783",
   "metadata": {},
   "outputs": [
    {
     "name": "stdout",
     "output_type": "stream",
     "text": [
      "5\n",
      "5\n"
     ]
    }
   ],
   "source": [
    "func1 = lambda x, y: x + y\n",
    "print(func1(2, 3))\n",
    "\n",
    "# 그래도 함수인 건 알아야 하니까 lambda를 묶어주고 뒤에 (인자1, 인자2)를 넣어준다.\n",
    "print((lambda x, y: x + y)(2, 3)) "
   ]
  },
  {
   "cell_type": "markdown",
   "id": "bbe5e20a",
   "metadata": {},
   "source": [
    "## iterable 함수와 iterable 객체, 그리고 lambda 함수"
   ]
  },
  {
   "cell_type": "code",
   "execution_count": 54,
   "id": "536ac026",
   "metadata": {},
   "outputs": [
    {
     "name": "stdout",
     "output_type": "stream",
     "text": [
      "[1, 4, 9]\n",
      "[11, 22, 33]\n"
     ]
    }
   ],
   "source": [
    "# map 함수\n",
    "# 함수 결과를 map 객체 형태로 return 함. 내용물을 볼려면 list로 wrapping해야함.\n",
    "\n",
    "# 인수가 하나일 때:\n",
    "l1 = list(map(lambda x: x**2, [1,2,3]))\n",
    "print(l1)\n",
    "\n",
    "# 인수가 두개일 때:\n",
    "l2 = list(map(lambda x, y: x+y, [1,2,3], [10,20,30]))\n",
    "print(l2)"
   ]
  },
  {
   "cell_type": "code",
   "execution_count": 58,
   "id": "96281e80",
   "metadata": {},
   "outputs": [
    {
     "name": "stdout",
     "output_type": "stream",
     "text": [
      "[10, 100, 20]\n"
     ]
    },
    {
     "data": {
      "text/plain": [
       "'\\nTypeError                                 Traceback (most recent call last)\\n<ipython-input-56-1d154738e101> in <module>\\n      4 filt1 = list(filter(lambda x: x>5, [-10, -5, 0, 10, 100, -30, 20]))\\n      5 print(filt1)\\n----> 6 filt2 = list(filter(lambda x, y: x*y>0, [-10, 15, 0], [10, 100, 5]))\\n      7 print(filt2)\\n\\nTypeError: filter expected 2 arguments, got 3\\n'"
      ]
     },
     "execution_count": 58,
     "metadata": {},
     "output_type": "execute_result"
    }
   ],
   "source": [
    "# filter 함수\n",
    "# 함수 결과가 참인 것만 return함.\n",
    "# filter 함수는 애초에 인자를 하나밖에 못받는구나!!\n",
    "\n",
    "filt1 = list(filter(lambda x: x>5, [-10, -5, 0, 10, 100, -30, 20]))\n",
    "print(filt1)\n",
    "# filt2 = list(filter(lambda x, y: x*y>0, [-10, 15, 0], [10, 100, 5]))\n",
    "# print(filt2)\n",
    "\n",
    "\"\"\"\n",
    "TypeError                                 Traceback (most recent call last)\n",
    "<ipython-input-56-1d154738e101> in <module>\n",
    "      4 filt1 = list(filter(lambda x: x>5, [-10, -5, 0, 10, 100, -30, 20]))\n",
    "      5 print(filt1)\n",
    "----> 6 filt2 = list(filter(lambda x, y: x*y>0, [-10, 15, 0], [10, 100, 5]))\n",
    "      7 print(filt2)\n",
    "\n",
    "TypeError: filter expected 2 arguments, got 3\n",
    "\"\"\""
   ]
  },
  {
   "cell_type": "code",
   "execution_count": null,
   "id": "d442579b",
   "metadata": {},
   "outputs": [],
   "source": []
  }
 ],
 "metadata": {
  "kernelspec": {
   "display_name": "nlp3710",
   "language": "python",
   "name": "nlp3710"
  },
  "language_info": {
   "codemirror_mode": {
    "name": "ipython",
    "version": 3
   },
   "file_extension": ".py",
   "mimetype": "text/x-python",
   "name": "python",
   "nbconvert_exporter": "python",
   "pygments_lexer": "ipython3",
   "version": "3.7.10"
  }
 },
 "nbformat": 4,
 "nbformat_minor": 5
}

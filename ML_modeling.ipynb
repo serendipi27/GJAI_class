{
 "cells": [
  {
   "cell_type": "markdown",
   "id": "db4a6959",
   "metadata": {},
   "source": [
    "# 문제4 - ML 모델링\n",
    "- 아래 E-Commerce Shipping Data의 train set을 참조하여 고객이 주문한 물품의 정시 도 착 여부를 예측하시오\n",
    "- ID와 예측치는 csv 파일로 저장하시오 (EC_result.csv)\n",
    "\n",
    "- **(주의사항) ML 모델에서 X값은 rank-2 numpy 배열이나 DataFrame만 들어간다.**\n",
    "- **(주의사항) ML 모델에서 y값은 rank-1 numpy 배열이나 Series만 들어간다.** \n",
    "- **(주의사항) ML 모델에서 X, y값으로 list는 사용할 수 없다.**"
   ]
  },
  {
   "cell_type": "code",
   "execution_count": 132,
   "id": "142d8695",
   "metadata": {},
   "outputs": [
    {
     "name": "stdout",
     "output_type": "stream",
     "text": [
      "(8799, 11)\n",
      "(8799, 2)\n",
      "(2200, 11)\n"
     ]
    }
   ],
   "source": [
    "import numpy as np\n",
    "import pandas as pd\n",
    "import matplotlib.pyplot as plt\n",
    "from sklearn.preprocessing import MinMaxScaler\n",
    "import os\n",
    "\n",
    "path = '/Users/jsha/gjai/python_basic/pytest_basic/'\n",
    "X_test = pd.read_csv(path+'EC_X_test.csv')\n",
    "X_train = pd.read_csv(path+'EC_X_train.csv')\n",
    "y_train = pd.read_csv(path+'EC_y_train.csv')\n",
    "\n",
    "print(X_train.shape)\n",
    "print(y_train.shape)\n",
    "print(X_test.shape)"
   ]
  },
  {
   "cell_type": "code",
   "execution_count": 133,
   "id": "20bb6ac9",
   "metadata": {},
   "outputs": [
    {
     "name": "stdout",
     "output_type": "stream",
     "text": [
      "F    2941\n",
      "A    1489\n",
      "B    1465\n",
      "C    1458\n",
      "D    1446\n",
      "Name: Warehouse_block, dtype: int64\n",
      "--------------------------------------------------\n",
      "Ship      5913\n",
      "Flight    1449\n",
      "Road      1437\n",
      "Name: Mode_of_Shipment, dtype: int64\n",
      "--------------------------------------------------\n",
      "low       4247\n",
      "medium    3783\n",
      "high       769\n",
      "Name: Product_importance, dtype: int64\n",
      "--------------------------------------------------\n",
      "F    4456\n",
      "M    4343\n",
      "Name: Gender, dtype: int64\n",
      "--------------------------------------------------\n"
     ]
    }
   ],
   "source": [
    "# sort_values by 'ID'\n",
    "# X_train, y_train의 짝이 잘 맞아야 하는데 혹시 모르니까.\n",
    "X_train = X_train.sort_values(by='ID')\n",
    "y_train = y_train.sort_values(by='ID')\n",
    "categorical_cols = X_train.columns[X_train.dtypes == object]\n",
    "\n",
    "for col in categorical_cols:\n",
    "    print(X_train[col].value_counts())\n",
    "    print('-'*50)"
   ]
  },
  {
   "cell_type": "code",
   "execution_count": 154,
   "id": "4c2da9e9",
   "metadata": {},
   "outputs": [
    {
     "name": "stdout",
     "output_type": "stream",
     "text": [
      "<class 'pandas.core.frame.DataFrame'>\n",
      "(8799, 20)\n",
      "(2200, 20)\n"
     ]
    }
   ],
   "source": [
    "# categorical columns --> one-hot encoding\n",
    "# 원핫 인코딩 결과는 데이터프레임으로 나온다.\n",
    "X_train_df = pd.get_dummies(X_train, columns=categorical_cols)\n",
    "X_test_df = pd.get_dummies(X_test, columns=categorical_cols)\n",
    "print(type(X_train_df))\n",
    "print(X_train_df.shape)\n",
    "print(X_test_df.shape)"
   ]
  },
  {
   "cell_type": "code",
   "execution_count": 155,
   "id": "826922a1",
   "metadata": {},
   "outputs": [
    {
     "name": "stdout",
     "output_type": "stream",
     "text": [
      "<class 'numpy.ndarray'>\n"
     ]
    }
   ],
   "source": [
    "# 정규화 작업으로 MinMaxscaling을 이용한다.\n",
    "# 정규화 작업 결과는 ndarray 형식으로 나온다.\n",
    "\n",
    "mms = MinMaxScaler()\n",
    "mms.fit(X_train_df)\n",
    "X_train_scaled = mms.transform(X_train_df)\n",
    "X_test_scaled = mms.transform(X_test_df)\n",
    "print(type(X_train_scaled))"
   ]
  },
  {
   "cell_type": "markdown",
   "id": "636a4c1e",
   "metadata": {},
   "source": [
    "## 모델1. LogisticRegression"
   ]
  },
  {
   "cell_type": "code",
   "execution_count": 139,
   "id": "8c914e74",
   "metadata": {},
   "outputs": [
    {
     "name": "stdout",
     "output_type": "stream",
     "text": [
      "0.6401863848164564\n"
     ]
    }
   ],
   "source": [
    "# modeling for classification and prediction\n",
    "from sklearn.linear_model import LogisticRegression\n",
    "from sklearn.metrics import accuracy_score\n",
    "\n",
    "lr = LogisticRegression()\n",
    "lr.fit(X_train_scaled[:, 1:], y_train.iloc[:,-1])\n",
    "print(lr.score(X_train_scaled[:, 1:], y_train.iloc[:,-1]))\n",
    "y_test_pred = lr.predict(X_test_scaled[:, 1:])"
   ]
  },
  {
   "cell_type": "code",
   "execution_count": 137,
   "id": "a0b23720",
   "metadata": {},
   "outputs": [
    {
     "name": "stdout",
     "output_type": "stream",
     "text": [
      "yes. good!!\n"
     ]
    }
   ],
   "source": [
    "result_df = pd.concat([test['ID'], pd.Series(y_test_pred)], ignore_index=True, axis=1)\n",
    "result_df.columns = ['ID', 'predict_reached_on_time']\n",
    "result_df.to_csv('EC_result.csv')\n",
    "\n",
    "if os.path.exists('EC_result.csv', index=False):\n",
    "    print('yes. good!!')"
   ]
  },
  {
   "cell_type": "markdown",
   "id": "05695627",
   "metadata": {},
   "source": [
    "## 모델2. SVC\n",
    "- svm의 svc"
   ]
  },
  {
   "cell_type": "code",
   "execution_count": 140,
   "id": "93a3762a",
   "metadata": {},
   "outputs": [
    {
     "name": "stdout",
     "output_type": "stream",
     "text": [
      "0.6896238208887373\n"
     ]
    }
   ],
   "source": [
    "# modeling for classification and prediction\n",
    "from sklearn.svm import SVC\n",
    "from sklearn.metrics import accuracy_score\n",
    "\n",
    "svc = SVC()\n",
    "svc.fit(X_train_scaled[:, 1:], y_train.iloc[:,-1])\n",
    "print(svc.score(X_train_scaled[:, 1:], y_train.iloc[:,-1]))"
   ]
  },
  {
   "cell_type": "markdown",
   "id": "62424f58",
   "metadata": {},
   "source": [
    "## 모델3. SGDClassifier\n",
    "- Stochastic Gradient Descent"
   ]
  },
  {
   "cell_type": "code",
   "execution_count": 141,
   "id": "aeda9872",
   "metadata": {},
   "outputs": [
    {
     "name": "stdout",
     "output_type": "stream",
     "text": [
      "0.6608705534719854\n"
     ]
    }
   ],
   "source": [
    "# modeling for classification and prediction\n",
    "from sklearn.linear_model import SGDClassifier\n",
    "from sklearn.metrics import accuracy_score\n",
    "\n",
    "sgdc = SGDClassifier()\n",
    "sgdc.fit(X_train_scaled[:, 1:], y_train.iloc[:,-1])\n",
    "print(sgdc.score(X_train_scaled[:, 1:], y_train.iloc[:,-1]))"
   ]
  },
  {
   "cell_type": "markdown",
   "id": "0d3f1b5e",
   "metadata": {},
   "source": [
    "## 모델4. DecisionTreeClassifier\n",
    "- overfitting이 될것.\n",
    "- 이걸 막아줘야 하는데. 옵션 max_depth=2"
   ]
  },
  {
   "cell_type": "code",
   "execution_count": 153,
   "id": "76634a3f",
   "metadata": {},
   "outputs": [
    {
     "name": "stdout",
     "output_type": "stream",
     "text": [
      "0.6820093192408229\n"
     ]
    }
   ],
   "source": [
    "# modeling for classification and prediction\n",
    "from sklearn.tree import DecisionTreeClassifier\n",
    "from sklearn.metrics import accuracy_score\n",
    "\n",
    "dtc = DecisionTreeClassifier(max_depth=3)\n",
    "dtc.fit(X_train_scaled[:, 1:], y_train.iloc[:,-1])\n",
    "print(dtc.score(X_train_scaled[:, 1:], y_train.iloc[:,-1]))"
   ]
  },
  {
   "cell_type": "markdown",
   "id": "ab3b1e07",
   "metadata": {},
   "source": [
    "## 모델6. AdaBoostClassifier\n",
    "- ensenble 모델\n",
    "- https://scikit-learn.org/stable/modules/ensemble.html#adaboost"
   ]
  },
  {
   "cell_type": "code",
   "execution_count": null,
   "id": "717119de",
   "metadata": {},
   "outputs": [],
   "source": [
    "# modeling for classification and prediction\n",
    "from sklearn.ensemble import AdaBoostClassifier\n",
    "from sklearn.metrics import accuracy_score\n",
    "from sklearn.model_selection import cross_val_score\n",
    "\n",
    "abc = AdaBoostClassifier(n_estimators=100)\n",
    "scores = cross_val_score(abc, X_train_scaled[:, 1:], y_train.iloc[:,-1], cv=5)\n",
    "scores.mean()"
   ]
  },
  {
   "cell_type": "markdown",
   "id": "ccc7c45c",
   "metadata": {},
   "source": [
    "## 모델7. RandomForest\n",
    "- ensenble 모델\n",
    "- https://scikit-learn.org/stable/modules/generated/sklearn.ensemble.RandomForestClassifier.html?highlight=randomforest#sklearn.ensemble.RandomForestClassifier"
   ]
  },
  {
   "cell_type": "code",
   "execution_count": 162,
   "id": "6b2daa21",
   "metadata": {},
   "outputs": [
    {
     "data": {
      "text/plain": [
       "0.5984773760917876"
      ]
     },
     "execution_count": 162,
     "metadata": {},
     "output_type": "execute_result"
    }
   ],
   "source": [
    "# modeling for classification and prediction\n",
    "from sklearn.ensemble import RandomForestClassifier\n",
    "from sklearn.datasets import make_classification\n",
    "X, y = make_classification(n_samples=1000, n_features=4,\n",
    "                           n_informative=2, n_redundant=0,\n",
    "                           random_state=0, shuffle=False)\n",
    "\n",
    "rfc = RandomForestClassifier(max_depth=2, random_state=0)\n",
    "scores = cross_val_score(rfc, X_train_scaled[:, 1:], y_train.iloc[:,-1], cv=5)\n",
    "scores.mean()"
   ]
  },
  {
   "cell_type": "code",
   "execution_count": null,
   "id": "f0037a67",
   "metadata": {},
   "outputs": [],
   "source": []
  }
 ],
 "metadata": {
  "kernelspec": {
   "display_name": "nlp3710",
   "language": "python",
   "name": "nlp3710"
  },
  "language_info": {
   "codemirror_mode": {
    "name": "ipython",
    "version": 3
   },
   "file_extension": ".py",
   "mimetype": "text/x-python",
   "name": "python",
   "nbconvert_exporter": "python",
   "pygments_lexer": "ipython3",
   "version": "3.7.10"
  },
  "toc": {
   "base_numbering": 1,
   "nav_menu": {},
   "number_sections": true,
   "sideBar": true,
   "skip_h1_title": false,
   "title_cell": "Table of Contents",
   "title_sidebar": "Contents",
   "toc_cell": false,
   "toc_position": {},
   "toc_section_display": true,
   "toc_window_display": false
  }
 },
 "nbformat": 4,
 "nbformat_minor": 5
}

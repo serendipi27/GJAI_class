{
 "cells": [
  {
   "cell_type": "markdown",
   "id": "51325d6c",
   "metadata": {},
   "source": [
    "# pandas 시작하기"
   ]
  },
  {
   "cell_type": "markdown",
   "id": "d9ecf40a",
   "metadata": {},
   "source": [
    "## pandas의 특징\n",
    "1. 고수준의 자료구조와 파이썬에서 빠르고 쉽게 사용할 수 있는 데이터 분석 도구\n",
    "2. 다른 산술 계산 도구인 numpy와 scipy, 분석 라이브러리인 statsmodels과 scikit-learn, 시각화 도구인 matplotlib, seaborn과 함께 사용하는 경우가 많음.\n",
    "3. **numpy와의 가장 큰 차이점은 pandas는 표 형식의 데이터나 다양한 형태의 데이터를 다루는 데 초점을 맞춰 설계했다는 것.**\n",
    "4. 반면 numpy는 단일 산술 배열 데이터를 다루는 데 특화되어 있음."
   ]
  },
  {
   "cell_type": "markdown",
   "id": "4a1c25ce",
   "metadata": {},
   "source": [
    "# series(pandas), list, ndarray 비교하기\n",
    "1. list는 차원이 없다.\n",
    "2. **ndarray에는 없지만, series는 인덱스를 가진다.**\n",
    "    - 인덱스가 있음으로서 데이터 접근이 용이하고, 기준을 마련하기 좋다."
   ]
  },
  {
   "cell_type": "code",
   "execution_count": 2,
   "id": "a13f9407",
   "metadata": {},
   "outputs": [
    {
     "name": "stdout",
     "output_type": "stream",
     "text": [
      "list:  [100, 101, 102, 103, 104, 105, 106, 107, 108, 109]\n",
      "ndarray:  1 [100 101 102 103 104 105 106 107 108 109]\n",
      "series:  1 0    100\n",
      "1    101\n",
      "2    102\n",
      "3    103\n",
      "4    104\n",
      "5    105\n",
      "6    106\n",
      "7    107\n",
      "8    108\n",
      "9    109\n",
      "dtype: int64\n"
     ]
    }
   ],
   "source": [
    "import numpy as np\n",
    "import pandas as pd\n",
    "\n",
    "ll = [i for i in range(100, 110)]\n",
    "arr = np.array(ll)\n",
    "ss = pd.Series(ll)\n",
    "\n",
    "print('list: ', ll)\n",
    "print('ndarray: ', arr.ndim, arr)\n",
    "print('series: ', ss.ndim, ss)"
   ]
  },
  {
   "cell_type": "markdown",
   "id": "973cf97d",
   "metadata": {},
   "source": [
    "# Series indexing and slicing"
   ]
  },
  {
   "cell_type": "code",
   "execution_count": null,
   "id": "15ab8bed",
   "metadata": {},
   "outputs": [],
   "source": []
  },
  {
   "cell_type": "markdown",
   "id": "65c74e2c",
   "metadata": {},
   "source": [
    "# DataFrame 만들기\n",
    "1. 사전형으로 만들기\n",
    "    - 사전의 key는 column 이름, value는 value가 된다.\n",
    "2. 함수 read_csv()를 이용하여 만들기\n",
    "    - csv 파일을 불러와 series나 dataframe을 만든다."
   ]
  },
  {
   "cell_type": "code",
   "execution_count": 5,
   "id": "f2bf97b9",
   "metadata": {},
   "outputs": [
    {
     "name": "stdout",
     "output_type": "stream",
     "text": [
      "<class 'pandas.core.frame.DataFrame'>\n"
     ]
    },
    {
     "data": {
      "text/html": [
       "<div>\n",
       "<style scoped>\n",
       "    .dataframe tbody tr th:only-of-type {\n",
       "        vertical-align: middle;\n",
       "    }\n",
       "\n",
       "    .dataframe tbody tr th {\n",
       "        vertical-align: top;\n",
       "    }\n",
       "\n",
       "    .dataframe thead th {\n",
       "        text-align: right;\n",
       "    }\n",
       "</style>\n",
       "<table border=\"1\" class=\"dataframe\">\n",
       "  <thead>\n",
       "    <tr style=\"text-align: right;\">\n",
       "      <th></th>\n",
       "      <th>name</th>\n",
       "      <th>level</th>\n",
       "    </tr>\n",
       "  </thead>\n",
       "  <tbody>\n",
       "    <tr>\n",
       "      <th>0</th>\n",
       "      <td>a</td>\n",
       "      <td>1</td>\n",
       "    </tr>\n",
       "    <tr>\n",
       "      <th>1</th>\n",
       "      <td>b</td>\n",
       "      <td>3</td>\n",
       "    </tr>\n",
       "    <tr>\n",
       "      <th>2</th>\n",
       "      <td>c</td>\n",
       "      <td>5</td>\n",
       "    </tr>\n",
       "    <tr>\n",
       "      <th>3</th>\n",
       "      <td>d</td>\n",
       "      <td>7</td>\n",
       "    </tr>\n",
       "  </tbody>\n",
       "</table>\n",
       "</div>"
      ],
      "text/plain": [
       "  name  level\n",
       "0    a      1\n",
       "1    b      3\n",
       "2    c      5\n",
       "3    d      7"
      ]
     },
     "execution_count": 5,
     "metadata": {},
     "output_type": "execute_result"
    }
   ],
   "source": [
    "import pandas as np\n",
    "\n",
    "dic = {'name': ['a', 'b', 'c', 'd'], 'level':[1, 3, 5, 7]}\n",
    "df = pd.DataFrame(dic)\n",
    "print(type(df))\n",
    "df.head()"
   ]
  },
  {
   "cell_type": "code",
   "execution_count": 15,
   "id": "d6c0a17e",
   "metadata": {},
   "outputs": [
    {
     "data": {
      "text/html": [
       "<div>\n",
       "<style scoped>\n",
       "    .dataframe tbody tr th:only-of-type {\n",
       "        vertical-align: middle;\n",
       "    }\n",
       "\n",
       "    .dataframe tbody tr th {\n",
       "        vertical-align: top;\n",
       "    }\n",
       "\n",
       "    .dataframe thead th {\n",
       "        text-align: right;\n",
       "    }\n",
       "</style>\n",
       "<table border=\"1\" class=\"dataframe\">\n",
       "  <thead>\n",
       "    <tr style=\"text-align: right;\">\n",
       "      <th></th>\n",
       "      <th>도시</th>\n",
       "      <th>인구</th>\n",
       "    </tr>\n",
       "  </thead>\n",
       "  <tbody>\n",
       "    <tr>\n",
       "      <th>0</th>\n",
       "      <td>서울</td>\n",
       "      <td>9705</td>\n",
       "    </tr>\n",
       "    <tr>\n",
       "      <th>1</th>\n",
       "      <td>부산</td>\n",
       "      <td>3400</td>\n",
       "    </tr>\n",
       "    <tr>\n",
       "      <th>2</th>\n",
       "      <td>대구</td>\n",
       "      <td>2450</td>\n",
       "    </tr>\n",
       "    <tr>\n",
       "      <th>3</th>\n",
       "      <td>인천</td>\n",
       "      <td>2939</td>\n",
       "    </tr>\n",
       "    <tr>\n",
       "      <th>4</th>\n",
       "      <td>광주</td>\n",
       "      <td>1493</td>\n",
       "    </tr>\n",
       "  </tbody>\n",
       "</table>\n",
       "</div>"
      ],
      "text/plain": [
       "   도시    인구\n",
       "0  서울  9705\n",
       "1  부산  3400\n",
       "2  대구  2450\n",
       "3  인천  2939\n",
       "4  광주  1493"
      ]
     },
     "execution_count": 15,
     "metadata": {},
     "output_type": "execute_result"
    }
   ],
   "source": [
    "# read_csv\n",
    "import pandas as np\n",
    "\n",
    "path ='/Users/jsha/gjai/python_basic/pytest_basic/'\n",
    "df = pd.read_csv(path + '도시인구.csv', encoding='cp949')\n",
    "df.head()"
   ]
  },
  {
   "cell_type": "markdown",
   "id": "30bdfcbd",
   "metadata": {},
   "source": [
    "# DataFrame 구조 살펴보기\n",
    " - head()\n",
    " - tail()\n",
    " - columns\n",
    " - index"
   ]
  },
  {
   "cell_type": "code",
   "execution_count": 28,
   "id": "172aa58e",
   "metadata": {},
   "outputs": [
    {
     "name": "stdout",
     "output_type": "stream",
     "text": [
      "<class 'pandas.core.indexes.base.Index'> Index(['order', 'name', 'height'], dtype='object')\n",
      "<class 'pandas.core.indexes.range.RangeIndex'> RangeIndex(start=0, stop=42, step=1)\n"
     ]
    },
    {
     "data": {
      "text/html": [
       "<div>\n",
       "<style scoped>\n",
       "    .dataframe tbody tr th:only-of-type {\n",
       "        vertical-align: middle;\n",
       "    }\n",
       "\n",
       "    .dataframe tbody tr th {\n",
       "        vertical-align: top;\n",
       "    }\n",
       "\n",
       "    .dataframe thead th {\n",
       "        text-align: right;\n",
       "    }\n",
       "</style>\n",
       "<table border=\"1\" class=\"dataframe\">\n",
       "  <thead>\n",
       "    <tr style=\"text-align: right;\">\n",
       "      <th></th>\n",
       "      <th>order</th>\n",
       "      <th>name</th>\n",
       "      <th>height</th>\n",
       "    </tr>\n",
       "  </thead>\n",
       "  <tbody>\n",
       "    <tr>\n",
       "      <th>0</th>\n",
       "      <td>1</td>\n",
       "      <td>George Washington</td>\n",
       "      <td>189</td>\n",
       "    </tr>\n",
       "    <tr>\n",
       "      <th>1</th>\n",
       "      <td>2</td>\n",
       "      <td>John Adams</td>\n",
       "      <td>170</td>\n",
       "    </tr>\n",
       "    <tr>\n",
       "      <th>2</th>\n",
       "      <td>3</td>\n",
       "      <td>Thomas Jefferson</td>\n",
       "      <td>189</td>\n",
       "    </tr>\n",
       "    <tr>\n",
       "      <th>3</th>\n",
       "      <td>4</td>\n",
       "      <td>James Madison</td>\n",
       "      <td>163</td>\n",
       "    </tr>\n",
       "    <tr>\n",
       "      <th>4</th>\n",
       "      <td>5</td>\n",
       "      <td>James Monroe</td>\n",
       "      <td>183</td>\n",
       "    </tr>\n",
       "  </tbody>\n",
       "</table>\n",
       "</div>"
      ],
      "text/plain": [
       "   order               name  height\n",
       "0      1  George Washington     189\n",
       "1      2         John Adams     170\n",
       "2      3   Thomas Jefferson     189\n",
       "3      4      James Madison     163\n",
       "4      5       James Monroe     183"
      ]
     },
     "execution_count": 28,
     "metadata": {},
     "output_type": "execute_result"
    }
   ],
   "source": [
    "# read_csv\n",
    "import pandas as np\n",
    "\n",
    "path ='/Users/jsha/gjai/python_basic/pytest_basic/'\n",
    "df = pd.read_csv(path + 'presidents_heights.csv', encoding='utf-8')\n",
    "print(type(df.columns), df.columns)\n",
    "print(type(df.index), df.index)\n",
    "\n",
    "df.head()"
   ]
  },
  {
   "cell_type": "markdown",
   "id": "5ae2a858",
   "metadata": {},
   "source": [
    "# DataFrame column 이름으로 접근하기\n",
    "- df를 쓰는 이유는 쉽게 접근하기 위한 목적임.\n",
    "- numpy처럼 숫자 index로 접근할 수 있지만, 직관적으로 column 이름으로 해당 열의 데이터를 뽑아 올 수 있음.\n",
    "- 하나의 열을 뽑아오면 series 형태가 되고, 이를 dataframe 형태로 반환하려면 하나의 열이름은 리스트 안에 넣고 전달하면 됨.\n",
    "- 둘 이상의 열을 뽑아오려면, 리스트 안에 열 이름을 넣어 전달하며 결과는 dataframe 형태가 됨.\n",
    "- **(주의사항)**여기서 numpy와 조금 헷갈릴 수 있음.\n",
    "    - 2차원 ndarray인 arr가 있다고 할 때, arr[0]은 첫번째 row 전체를 의미함.\n",
    "    - 2차원 dataframe인 df가 있다고 할 때, df[0]은 첫번째 row 전체를 의미함.\n",
    "    - 그런데, 2차원 dataframe인 df가 있다고 할 때, df[컬럼명]은 컬럼명의 row 전체를 반환함."
   ]
  },
  {
   "cell_type": "code",
   "execution_count": 27,
   "id": "202d80f7",
   "metadata": {},
   "outputs": [
    {
     "name": "stdout",
     "output_type": "stream",
     "text": [
      "<class 'pandas.core.series.Series'> 0    George Washington\n",
      "1           John Adams\n",
      "2     Thomas Jefferson\n",
      "3        James Madison\n",
      "4         James Monroe\n",
      "Name: name, dtype: object\n",
      "----------------------------------------------------------------------------------------------------\n",
      "<class 'pandas.core.frame.DataFrame'>                 name  height\n",
      "0  George Washington     189\n",
      "1         John Adams     170\n",
      "2   Thomas Jefferson     189\n",
      "3      James Madison     163\n",
      "4       James Monroe     183\n"
     ]
    }
   ],
   "source": [
    "print(type(df['name']), df['name'].head())\n",
    "print('-'*100)\n",
    "print(type(df[['name', 'height']]), df[['name', 'height']].head())"
   ]
  },
  {
   "cell_type": "markdown",
   "id": "24360d5b",
   "metadata": {},
   "source": [
    "## 따옴표 처리\n",
    "- 특히, 큰 따옴표 처리에 어려움이 있다.\n",
    "- 이럴 때, quoting=3 옵션을 쓰면, 대부분 무리없이 처리된다"
   ]
  },
  {
   "cell_type": "code",
   "execution_count": 36,
   "id": "eb77f89b",
   "metadata": {},
   "outputs": [
    {
     "name": "stdout",
     "output_type": "stream",
     "text": [
      "                                      doc\n",
      "0  오늘 영희가 '제가 제일 일찍 일어났어요!'하며 가족들을 웃게 하였다\n",
      "1                           나도 그 일을 알고 있다\n",
      "2        설악산을 다녀온 사람마다 \"역시 멋지다\"라는 반응을 보인다\n"
     ]
    },
    {
     "data": {
      "text/html": [
       "<div>\n",
       "<style scoped>\n",
       "    .dataframe tbody tr th:only-of-type {\n",
       "        vertical-align: middle;\n",
       "    }\n",
       "\n",
       "    .dataframe tbody tr th {\n",
       "        vertical-align: top;\n",
       "    }\n",
       "\n",
       "    .dataframe thead th {\n",
       "        text-align: right;\n",
       "    }\n",
       "</style>\n",
       "<table border=\"1\" class=\"dataframe\">\n",
       "  <thead>\n",
       "    <tr style=\"text-align: right;\">\n",
       "      <th></th>\n",
       "      <th>doc</th>\n",
       "    </tr>\n",
       "  </thead>\n",
       "  <tbody>\n",
       "    <tr>\n",
       "      <th>0</th>\n",
       "      <td>오늘 영희가 '제가 제일 일찍 일어났어요!'하며 가족들을 웃게 하였다</td>\n",
       "    </tr>\n",
       "    <tr>\n",
       "      <th>1</th>\n",
       "      <td>나도 그 일을 알고 있다</td>\n",
       "    </tr>\n",
       "    <tr>\n",
       "      <th>2</th>\n",
       "      <td>\"설악산을 다녀온 사람마다 \"\"역시 멋지다\"\"라는 반응을 보인다\"</td>\n",
       "    </tr>\n",
       "  </tbody>\n",
       "</table>\n",
       "</div>"
      ],
      "text/plain": [
       "                                      doc\n",
       "0  오늘 영희가 '제가 제일 일찍 일어났어요!'하며 가족들을 웃게 하였다\n",
       "1                           나도 그 일을 알고 있다\n",
       "2    \"설악산을 다녀온 사람마다 \"\"역시 멋지다\"\"라는 반응을 보인다\""
      ]
     },
     "execution_count": 36,
     "metadata": {},
     "output_type": "execute_result"
    }
   ],
   "source": [
    "# read_csv\n",
    "import pandas as np\n",
    "\n",
    "path ='/Users/jsha/gjai/python_basic/pytest_basic/'\n",
    "df = pd.read_csv(path + '따옴표문서.csv', encoding='cp949')\n",
    "print(df.head())\n",
    "\n",
    "df2 = pd.read_csv(path + '따옴표문서.csv', encoding='cp949', quoting=3)\n",
    "df2.head()"
   ]
  },
  {
   "cell_type": "markdown",
   "id": "b792c1ac",
   "metadata": {},
   "source": [
    "# DataFrame의 행 선택\n",
    "- 사실 데이터 분석 때 행만 선택하는 경우는 드물다.\n",
    "- **(주의사항)** 명시적 인덱스와 암묵적 인덱스를 구분하라. 이것만 되면 다 됨. 걱정마.\n",
    "- 명시적 인덱스: df.index에 박혀 있는 인덱스. 직접 줄 수도 있고, 안주면 직접 0부터 강제 삽입. 이때는 명시적 인덱스와 암묵적 인덱스가 같아지게 됨.\n",
    "- 암묵적 인덱스: 그냥 무조건 0부터 번호를 매긴 index. 이건 신경쓸 필요없고, 그냥 활용만 하면 돼. 다만, 데이터가 방대해져 row나 column의 이름을 다 외울 수 없을 때, 매우 유용하게 활용할 수 있다.\n",
    "- <u>** loc은 명시적 인덱스를 활용**</u>\n",
    "- <u>** iloc은 암묵적 인덱스를 활용** --> 그냥 숫자라고 생각해.</u>\n"
   ]
  },
  {
   "cell_type": "code",
   "execution_count": 50,
   "id": "7f32108c",
   "metadata": {},
   "outputs": [
    {
     "name": "stdout",
     "output_type": "stream",
     "text": [
      "<class 'pandas.core.series.Series'> order                     1\n",
      "name      George Washington\n",
      "height                  189\n",
      "Name: 0, dtype: object\n",
      "--------------------------------------------------\n",
      "<class 'pandas.core.series.Series'> order                 4\n",
      "name      James Madison\n",
      "height              163\n",
      "Name: 3, dtype: object\n",
      "--------------------------------------------------\n",
      "<class 'pandas.core.frame.DataFrame'>    order              name  height\n",
      "2      3  Thomas Jefferson     189\n",
      "3      4     James Madison     163\n",
      "4      5      James Monroe     183\n"
     ]
    }
   ],
   "source": [
    "# 더 정확한 예시는 df 생성 때, index 옵션을 써서 명시적 인덱스를 설정해 준 뒤 실시해야 함.\n",
    "# 나중에 다시 만들어서 해 보자.\n",
    "import pandas as np\n",
    "\n",
    "path ='/Users/jsha/gjai/python_basic/pytest_basic/'\n",
    "df = pd.read_csv(path + 'presidents_heights.csv', encoding='utf-8')\n",
    "df.head()\n",
    "\n",
    "# loc의 명시적 인덱스를 이용한 인덱싱과 슬라이싱\n",
    "print(type(df.loc[0]), df.loc[0]) # 타입은 series, series.name은 명시적 인덱스\n",
    "print('-'*50)\n",
    "print(type(df.loc[3]), df.loc[3])\n",
    "print('-'*50)\n",
    "print(type(df.loc[2:4]), df.loc[2:4]) # 명시적 인덱스를 이용한 슬라이싱이기에 [include, include]가 된다."
   ]
  },
  {
   "cell_type": "code",
   "execution_count": 49,
   "id": "3424ff4c",
   "metadata": {},
   "outputs": [
    {
     "name": "stdout",
     "output_type": "stream",
     "text": [
      "<class 'pandas.core.series.Series'> order                     1\n",
      "name      George Washington\n",
      "height                  189\n",
      "Name: 0, dtype: object\n",
      "--------------------------------------------------\n",
      "<class 'pandas.core.series.Series'> order                 4\n",
      "name      James Madison\n",
      "height              163\n",
      "Name: 3, dtype: object\n",
      "--------------------------------------------------\n",
      "<class 'pandas.core.frame.DataFrame'>    order              name  height\n",
      "2      3  Thomas Jefferson     189\n",
      "3      4     James Madison     163\n"
     ]
    }
   ],
   "source": [
    "# iloc의 암묵적 인덱스를 이용한 인덱싱과 슬라이싱\n",
    "print(type(df.iloc[0]), df.iloc[0]) \n",
    "print('-'*50)\n",
    "print(type(df.iloc[3]), df.iloc[3])\n",
    "print('-'*50)\n",
    "print(type(df.iloc[2:4]), df.iloc[2:4]) # 이 케이스에선 이것만 달라. [include, exclude]"
   ]
  },
  {
   "cell_type": "markdown",
   "id": "7d749c5a",
   "metadata": {},
   "source": [
    "# DataFrame의 열 선택 - 4가지 방법\n",
    "1. df[열 이름]\n",
    "2. df[df.columns[index or slicing]\n",
    "3. df.loc[:, 열이름 index or slicing] # 명시적 인덱스\n",
    "4. df.iloc[:, 2:5] # 암묵적 인덱스니까 모두 숫자로 표현"
   ]
  },
  {
   "cell_type": "code",
   "execution_count": 54,
   "id": "16d5dc2a",
   "metadata": {},
   "outputs": [
    {
     "name": "stdout",
     "output_type": "stream",
     "text": [
      "<class 'pandas.core.series.Series'> 0    189\n",
      "1    170\n",
      "2    189\n",
      "3    163\n",
      "4    183\n",
      "Name: height, dtype: int64\n",
      "--------------------------------------------------\n",
      "<class 'pandas.core.frame.DataFrame'>                 name  height\n",
      "0  George Washington     189\n",
      "1         John Adams     170\n",
      "2   Thomas Jefferson     189\n",
      "3      James Madison     163\n",
      "4       James Monroe     183\n",
      "--------------------------------------------------\n"
     ]
    }
   ],
   "source": [
    "import pandas as np\n",
    "\n",
    "path ='/Users/jsha/gjai/python_basic/pytest_basic/'\n",
    "df = pd.read_csv(path + 'presidents_heights.csv', encoding='utf-8')\n",
    "df.head()\n",
    "\n",
    "# loc의 명시적 인덱스를 이용한 열 선택\n",
    "print(type(df.loc[:, 'height']), df.loc[:, 'height'].head()) \n",
    "print('-'*50)\n",
    "print(type(df.loc[:, 'name':'height']), df.loc[:, 'name':'height'].head()) \n",
    "print('-'*50)\n",
    "# print(type(df.loc[:, ['name':'height']]), df.loc[:, ['name':'height']].head()) "
   ]
  },
  {
   "cell_type": "code",
   "execution_count": 56,
   "id": "c2459784",
   "metadata": {},
   "outputs": [
    {
     "name": "stdout",
     "output_type": "stream",
     "text": [
      "<class 'pandas.core.series.Series'> 0    1\n",
      "1    2\n",
      "2    3\n",
      "3    4\n",
      "4    5\n",
      "Name: order, dtype: int64\n",
      "--------------------------------------------------\n",
      "<class 'pandas.core.frame.DataFrame'>    order               name\n",
      "0      1  George Washington\n",
      "1      2         John Adams\n",
      "2      3   Thomas Jefferson\n",
      "3      4      James Madison\n",
      "4      5       James Monroe\n",
      "--------------------------------------------------\n"
     ]
    }
   ],
   "source": [
    "# iloc의 암묵적 인덱스를 이용한 열 선택\n",
    "print(type(df.iloc[:, 0]), df.iloc[:, 0].head()) \n",
    "print('-'*50)\n",
    "print(type(df.iloc[:, :2]), df.iloc[:, :2].head()) \n",
    "print('-'*50)"
   ]
  },
  {
   "cell_type": "markdown",
   "id": "108e3c84",
   "metadata": {},
   "source": [
    "# 데이터 프레임의 행과 열 선택\n",
    "- 이럴 땐, 속 편하게 loc과 iloc을 사용하자.\n",
    "- 이유는 슬라이싱도 가능하고, 선택적으로 행과 열을 선택할 때 리스트 안에 넣어서 사용하면 편하기 때문이다.\n",
    "- loc[행이름시작:행이름끝, 열이름시작:열이름끝] : 명시적 인덱스 이용\n",
    "- iloc[2:5, 10:15] : 암묵적 인덱스 이용\n",
    "- loc[[행이름0, 행이름9, 행이름5], [열이름5, 열이름7, 열이름10] : 명시적 인덱스 이용\n",
    "- iloc[[행번호2, 행번호6], [열번호0, 열번호10, 열번호4]] : 암묵적 인덱스 이용\n"
   ]
  },
  {
   "cell_type": "markdown",
   "id": "7d67c51e",
   "metadata": {},
   "source": [
    "# 연습문제\n"
   ]
  },
  {
   "cell_type": "code",
   "execution_count": 67,
   "id": "13433f06",
   "metadata": {},
   "outputs": [
    {
     "data": {
      "text/html": [
       "<div>\n",
       "<style scoped>\n",
       "    .dataframe tbody tr th:only-of-type {\n",
       "        vertical-align: middle;\n",
       "    }\n",
       "\n",
       "    .dataframe tbody tr th {\n",
       "        vertical-align: top;\n",
       "    }\n",
       "\n",
       "    .dataframe thead th {\n",
       "        text-align: right;\n",
       "    }\n",
       "</style>\n",
       "<table border=\"1\" class=\"dataframe\">\n",
       "  <thead>\n",
       "    <tr style=\"text-align: right;\">\n",
       "      <th></th>\n",
       "      <th>id</th>\n",
       "      <th>name</th>\n",
       "      <th>gender</th>\n",
       "      <th>sales</th>\n",
       "    </tr>\n",
       "  </thead>\n",
       "  <tbody>\n",
       "    <tr>\n",
       "      <th>0</th>\n",
       "      <td>1</td>\n",
       "      <td>김원경</td>\n",
       "      <td>F</td>\n",
       "      <td>1000</td>\n",
       "    </tr>\n",
       "    <tr>\n",
       "      <th>1</th>\n",
       "      <td>2</td>\n",
       "      <td>박찬웅</td>\n",
       "      <td>M</td>\n",
       "      <td>2000</td>\n",
       "    </tr>\n",
       "    <tr>\n",
       "      <th>2</th>\n",
       "      <td>3</td>\n",
       "      <td>조해선</td>\n",
       "      <td>F</td>\n",
       "      <td>1500</td>\n",
       "    </tr>\n",
       "    <tr>\n",
       "      <th>3</th>\n",
       "      <td>4</td>\n",
       "      <td>김선영</td>\n",
       "      <td>F</td>\n",
       "      <td>2200</td>\n",
       "    </tr>\n",
       "    <tr>\n",
       "      <th>4</th>\n",
       "      <td>5</td>\n",
       "      <td>이화영</td>\n",
       "      <td>F</td>\n",
       "      <td>1700</td>\n",
       "    </tr>\n",
       "  </tbody>\n",
       "</table>\n",
       "</div>"
      ],
      "text/plain": [
       "   id name gender  sales\n",
       "0   1  김원경      F   1000\n",
       "1   2  박찬웅      M   2000\n",
       "2   3  조해선      F   1500\n",
       "3   4  김선영      F   2200\n",
       "4   5  이화영      F   1700"
      ]
     },
     "execution_count": 67,
     "metadata": {},
     "output_type": "execute_result"
    }
   ],
   "source": [
    "import pandas as np\n",
    "\n",
    "path ='/Users/jsha/gjai/python_basic/pytest_basic/'\n",
    "df = pd.read_csv(path + 'sales_result.csv', encoding='cp949')\n",
    "df.head()"
   ]
  },
  {
   "cell_type": "code",
   "execution_count": 60,
   "id": "dba8340d",
   "metadata": {},
   "outputs": [
    {
     "data": {
      "text/html": [
       "<div>\n",
       "<style scoped>\n",
       "    .dataframe tbody tr th:only-of-type {\n",
       "        vertical-align: middle;\n",
       "    }\n",
       "\n",
       "    .dataframe tbody tr th {\n",
       "        vertical-align: top;\n",
       "    }\n",
       "\n",
       "    .dataframe thead th {\n",
       "        text-align: right;\n",
       "    }\n",
       "</style>\n",
       "<table border=\"1\" class=\"dataframe\">\n",
       "  <thead>\n",
       "    <tr style=\"text-align: right;\">\n",
       "      <th></th>\n",
       "      <th>id</th>\n",
       "      <th>name</th>\n",
       "      <th>gender</th>\n",
       "      <th>sales</th>\n",
       "    </tr>\n",
       "  </thead>\n",
       "  <tbody>\n",
       "    <tr>\n",
       "      <th>3</th>\n",
       "      <td>4</td>\n",
       "      <td>김선영</td>\n",
       "      <td>F</td>\n",
       "      <td>2200</td>\n",
       "    </tr>\n",
       "    <tr>\n",
       "      <th>6</th>\n",
       "      <td>7</td>\n",
       "      <td>최필선</td>\n",
       "      <td>M</td>\n",
       "      <td>2200</td>\n",
       "    </tr>\n",
       "  </tbody>\n",
       "</table>\n",
       "</div>"
      ],
      "text/plain": [
       "   id name gender  sales\n",
       "3   4  김선영      F   2200\n",
       "6   7  최필선      M   2200"
      ]
     },
     "execution_count": 60,
     "metadata": {},
     "output_type": "execute_result"
    }
   ],
   "source": [
    "df[df.sales > 2000]"
   ]
  },
  {
   "cell_type": "code",
   "execution_count": 73,
   "id": "e47f891c",
   "metadata": {},
   "outputs": [
    {
     "data": {
      "text/html": [
       "<div>\n",
       "<style scoped>\n",
       "    .dataframe tbody tr th:only-of-type {\n",
       "        vertical-align: middle;\n",
       "    }\n",
       "\n",
       "    .dataframe tbody tr th {\n",
       "        vertical-align: top;\n",
       "    }\n",
       "\n",
       "    .dataframe thead th {\n",
       "        text-align: right;\n",
       "    }\n",
       "</style>\n",
       "<table border=\"1\" class=\"dataframe\">\n",
       "  <thead>\n",
       "    <tr style=\"text-align: right;\">\n",
       "      <th></th>\n",
       "      <th>id</th>\n",
       "      <th>gender</th>\n",
       "    </tr>\n",
       "  </thead>\n",
       "  <tbody>\n",
       "    <tr>\n",
       "      <th>0</th>\n",
       "      <td>1</td>\n",
       "      <td>F</td>\n",
       "    </tr>\n",
       "    <tr>\n",
       "      <th>1</th>\n",
       "      <td>2</td>\n",
       "      <td>M</td>\n",
       "    </tr>\n",
       "    <tr>\n",
       "      <th>2</th>\n",
       "      <td>3</td>\n",
       "      <td>F</td>\n",
       "    </tr>\n",
       "  </tbody>\n",
       "</table>\n",
       "</div>"
      ],
      "text/plain": [
       "   id gender\n",
       "0   1      F\n",
       "1   2      M\n",
       "2   3      F"
      ]
     },
     "execution_count": 73,
     "metadata": {},
     "output_type": "execute_result"
    }
   ],
   "source": [
    "df.loc[:, ['name', 'sales']]\n",
    "df.loc[[0, 2, 6], ['name', 'sales']]\n",
    "df.iloc[[0, 1, 2], [0, 2]]"
   ]
  },
  {
   "cell_type": "code",
   "execution_count": 61,
   "id": "dbb3f906",
   "metadata": {},
   "outputs": [
    {
     "data": {
      "text/html": [
       "<div>\n",
       "<style scoped>\n",
       "    .dataframe tbody tr th:only-of-type {\n",
       "        vertical-align: middle;\n",
       "    }\n",
       "\n",
       "    .dataframe tbody tr th {\n",
       "        vertical-align: top;\n",
       "    }\n",
       "\n",
       "    .dataframe thead th {\n",
       "        text-align: right;\n",
       "    }\n",
       "</style>\n",
       "<table border=\"1\" class=\"dataframe\">\n",
       "  <thead>\n",
       "    <tr style=\"text-align: right;\">\n",
       "      <th></th>\n",
       "      <th>id</th>\n",
       "      <th>name</th>\n",
       "      <th>gender</th>\n",
       "      <th>sales</th>\n",
       "    </tr>\n",
       "  </thead>\n",
       "  <tbody>\n",
       "    <tr>\n",
       "      <th>0</th>\n",
       "      <td>1</td>\n",
       "      <td>김원경</td>\n",
       "      <td>F</td>\n",
       "      <td>1000</td>\n",
       "    </tr>\n",
       "    <tr>\n",
       "      <th>2</th>\n",
       "      <td>3</td>\n",
       "      <td>조해선</td>\n",
       "      <td>F</td>\n",
       "      <td>1500</td>\n",
       "    </tr>\n",
       "    <tr>\n",
       "      <th>3</th>\n",
       "      <td>4</td>\n",
       "      <td>김선영</td>\n",
       "      <td>F</td>\n",
       "      <td>2200</td>\n",
       "    </tr>\n",
       "    <tr>\n",
       "      <th>4</th>\n",
       "      <td>5</td>\n",
       "      <td>이화영</td>\n",
       "      <td>F</td>\n",
       "      <td>1700</td>\n",
       "    </tr>\n",
       "  </tbody>\n",
       "</table>\n",
       "</div>"
      ],
      "text/plain": [
       "   id name gender  sales\n",
       "0   1  김원경      F   1000\n",
       "2   3  조해선      F   1500\n",
       "3   4  김선영      F   2200\n",
       "4   5  이화영      F   1700"
      ]
     },
     "execution_count": 61,
     "metadata": {},
     "output_type": "execute_result"
    }
   ],
   "source": [
    "df[df.gender == 'F']"
   ]
  },
  {
   "cell_type": "code",
   "execution_count": 62,
   "id": "a5c5527d",
   "metadata": {},
   "outputs": [
    {
     "data": {
      "text/html": [
       "<div>\n",
       "<style scoped>\n",
       "    .dataframe tbody tr th:only-of-type {\n",
       "        vertical-align: middle;\n",
       "    }\n",
       "\n",
       "    .dataframe tbody tr th {\n",
       "        vertical-align: top;\n",
       "    }\n",
       "\n",
       "    .dataframe thead th {\n",
       "        text-align: right;\n",
       "    }\n",
       "</style>\n",
       "<table border=\"1\" class=\"dataframe\">\n",
       "  <thead>\n",
       "    <tr style=\"text-align: right;\">\n",
       "      <th></th>\n",
       "      <th>id</th>\n",
       "      <th>name</th>\n",
       "      <th>gender</th>\n",
       "      <th>sales</th>\n",
       "    </tr>\n",
       "  </thead>\n",
       "  <tbody>\n",
       "    <tr>\n",
       "      <th>3</th>\n",
       "      <td>4</td>\n",
       "      <td>김선영</td>\n",
       "      <td>F</td>\n",
       "      <td>2200</td>\n",
       "    </tr>\n",
       "  </tbody>\n",
       "</table>\n",
       "</div>"
      ],
      "text/plain": [
       "   id name gender  sales\n",
       "3   4  김선영      F   2200"
      ]
     },
     "execution_count": 62,
     "metadata": {},
     "output_type": "execute_result"
    }
   ],
   "source": [
    "df[(df.sales > 2000) & ~(df.gender == 'M')]"
   ]
  },
  {
   "cell_type": "code",
   "execution_count": 66,
   "id": "4303ecc2",
   "metadata": {},
   "outputs": [
    {
     "data": {
      "text/html": [
       "<div>\n",
       "<style scoped>\n",
       "    .dataframe tbody tr th:only-of-type {\n",
       "        vertical-align: middle;\n",
       "    }\n",
       "\n",
       "    .dataframe tbody tr th {\n",
       "        vertical-align: top;\n",
       "    }\n",
       "\n",
       "    .dataframe thead th {\n",
       "        text-align: right;\n",
       "    }\n",
       "</style>\n",
       "<table border=\"1\" class=\"dataframe\">\n",
       "  <thead>\n",
       "    <tr style=\"text-align: right;\">\n",
       "      <th></th>\n",
       "      <th>id</th>\n",
       "      <th>name</th>\n",
       "      <th>gender</th>\n",
       "      <th>sales</th>\n",
       "    </tr>\n",
       "  </thead>\n",
       "  <tbody>\n",
       "    <tr>\n",
       "      <th>0</th>\n",
       "      <td>1</td>\n",
       "      <td>김원경</td>\n",
       "      <td>F</td>\n",
       "      <td>1000</td>\n",
       "    </tr>\n",
       "    <tr>\n",
       "      <th>2</th>\n",
       "      <td>3</td>\n",
       "      <td>조해선</td>\n",
       "      <td>F</td>\n",
       "      <td>1500</td>\n",
       "    </tr>\n",
       "    <tr>\n",
       "      <th>3</th>\n",
       "      <td>4</td>\n",
       "      <td>김선영</td>\n",
       "      <td>F</td>\n",
       "      <td>2200</td>\n",
       "    </tr>\n",
       "    <tr>\n",
       "      <th>4</th>\n",
       "      <td>5</td>\n",
       "      <td>이화영</td>\n",
       "      <td>F</td>\n",
       "      <td>1700</td>\n",
       "    </tr>\n",
       "    <tr>\n",
       "      <th>6</th>\n",
       "      <td>7</td>\n",
       "      <td>최필선</td>\n",
       "      <td>M</td>\n",
       "      <td>2200</td>\n",
       "    </tr>\n",
       "  </tbody>\n",
       "</table>\n",
       "</div>"
      ],
      "text/plain": [
       "   id name gender  sales\n",
       "0   1  김원경      F   1000\n",
       "2   3  조해선      F   1500\n",
       "3   4  김선영      F   2200\n",
       "4   5  이화영      F   1700\n",
       "6   7  최필선      M   2200"
      ]
     },
     "execution_count": 66,
     "metadata": {},
     "output_type": "execute_result"
    }
   ],
   "source": [
    "df[(df.sales > 2000) | ~(df.gender == 'M')]"
   ]
  },
  {
   "cell_type": "markdown",
   "id": "73bd8b8c",
   "metadata": {},
   "source": [
    "# 결측값 확인\n",
    " - isnull()\n",
    " - notnull()"
   ]
  },
  {
   "cell_type": "code",
   "execution_count": 76,
   "id": "5127552f",
   "metadata": {},
   "outputs": [
    {
     "data": {
      "text/html": [
       "<div>\n",
       "<style scoped>\n",
       "    .dataframe tbody tr th:only-of-type {\n",
       "        vertical-align: middle;\n",
       "    }\n",
       "\n",
       "    .dataframe tbody tr th {\n",
       "        vertical-align: top;\n",
       "    }\n",
       "\n",
       "    .dataframe thead th {\n",
       "        text-align: right;\n",
       "    }\n",
       "</style>\n",
       "<table border=\"1\" class=\"dataframe\">\n",
       "  <thead>\n",
       "    <tr style=\"text-align: right;\">\n",
       "      <th></th>\n",
       "      <th>도시</th>\n",
       "      <th>인구</th>\n",
       "    </tr>\n",
       "  </thead>\n",
       "  <tbody>\n",
       "    <tr>\n",
       "      <th>0</th>\n",
       "      <td>True</td>\n",
       "      <td>True</td>\n",
       "    </tr>\n",
       "    <tr>\n",
       "      <th>1</th>\n",
       "      <td>True</td>\n",
       "      <td>True</td>\n",
       "    </tr>\n",
       "    <tr>\n",
       "      <th>2</th>\n",
       "      <td>True</td>\n",
       "      <td>True</td>\n",
       "    </tr>\n",
       "    <tr>\n",
       "      <th>3</th>\n",
       "      <td>True</td>\n",
       "      <td>True</td>\n",
       "    </tr>\n",
       "    <tr>\n",
       "      <th>4</th>\n",
       "      <td>True</td>\n",
       "      <td>True</td>\n",
       "    </tr>\n",
       "  </tbody>\n",
       "</table>\n",
       "</div>"
      ],
      "text/plain": [
       "     도시    인구\n",
       "0  True  True\n",
       "1  True  True\n",
       "2  True  True\n",
       "3  True  True\n",
       "4  True  True"
      ]
     },
     "execution_count": 76,
     "metadata": {},
     "output_type": "execute_result"
    }
   ],
   "source": [
    "import pandas as np\n",
    "\n",
    "path ='/Users/jsha/gjai/python_basic/pytest_basic/'\n",
    "df = pd.read_csv(path + '도시인구.csv', encoding='cp949')\n",
    "\n",
    "df.isnull()\n",
    "df.notnull()"
   ]
  },
  {
   "cell_type": "markdown",
   "id": "eee1445a",
   "metadata": {},
   "source": [
    "# 결측값 처리하기\n",
    "- dropna()\n",
    "- fillna()"
   ]
  },
  {
   "cell_type": "code",
   "execution_count": 5,
   "id": "da599b24",
   "metadata": {},
   "outputs": [
    {
     "data": {
      "text/plain": [
       "0    False\n",
       "1    False\n",
       "2    False\n",
       "Name: 0, dtype: bool"
      ]
     },
     "execution_count": 5,
     "metadata": {},
     "output_type": "execute_result"
    }
   ],
   "source": [
    "import numpy as np\n",
    "import pandas as pd\n",
    "\n",
    "path ='/Users/jsha/gjai/python_basic/pytest_basic/'\n",
    "\n",
    "arr = np.empty((4,3))\n",
    "arr[1, :2] = None\n",
    "arr[-1] =None\n",
    "arr\n",
    "df = pd.DataFrame(arr)\n",
    "df.iloc[0].isnull()"
   ]
  },
  {
   "cell_type": "markdown",
   "id": "7d194680",
   "metadata": {},
   "source": [
    "# DataFrame과 Series 결합하기"
   ]
  },
  {
   "cell_type": "code",
   "execution_count": 6,
   "id": "56c75034",
   "metadata": {},
   "outputs": [
    {
     "data": {
      "text/html": [
       "<div>\n",
       "<style scoped>\n",
       "    .dataframe tbody tr th:only-of-type {\n",
       "        vertical-align: middle;\n",
       "    }\n",
       "\n",
       "    .dataframe tbody tr th {\n",
       "        vertical-align: top;\n",
       "    }\n",
       "\n",
       "    .dataframe thead th {\n",
       "        text-align: right;\n",
       "    }\n",
       "</style>\n",
       "<table border=\"1\" class=\"dataframe\">\n",
       "  <thead>\n",
       "    <tr style=\"text-align: right;\">\n",
       "      <th></th>\n",
       "      <th>0</th>\n",
       "      <th>1</th>\n",
       "      <th>ss</th>\n",
       "    </tr>\n",
       "  </thead>\n",
       "  <tbody>\n",
       "    <tr>\n",
       "      <th>0</th>\n",
       "      <td>0</td>\n",
       "      <td>1</td>\n",
       "      <td>0</td>\n",
       "    </tr>\n",
       "    <tr>\n",
       "      <th>1</th>\n",
       "      <td>2</td>\n",
       "      <td>3</td>\n",
       "      <td>10</td>\n",
       "    </tr>\n",
       "    <tr>\n",
       "      <th>2</th>\n",
       "      <td>4</td>\n",
       "      <td>5</td>\n",
       "      <td>20</td>\n",
       "    </tr>\n",
       "    <tr>\n",
       "      <th>3</th>\n",
       "      <td>6</td>\n",
       "      <td>7</td>\n",
       "      <td>30</td>\n",
       "    </tr>\n",
       "    <tr>\n",
       "      <th>4</th>\n",
       "      <td>8</td>\n",
       "      <td>9</td>\n",
       "      <td>40</td>\n",
       "    </tr>\n",
       "  </tbody>\n",
       "</table>\n",
       "</div>"
      ],
      "text/plain": [
       "   0  1  ss\n",
       "0  0  1   0\n",
       "1  2  3  10\n",
       "2  4  5  20\n",
       "3  6  7  30\n",
       "4  8  9  40"
      ]
     },
     "execution_count": 6,
     "metadata": {},
     "output_type": "execute_result"
    }
   ],
   "source": [
    "arr = np.arange(10).reshape(5,-1)\n",
    "df = pd.DataFrame(arr)\n",
    "ss = pd.Series(np.arange(5)*10)\n",
    "df\n",
    "df['ss'] = ss\n",
    "df"
   ]
  },
  {
   "cell_type": "markdown",
   "id": "de4cc5ee",
   "metadata": {},
   "source": [
    "# DataFrame / Series 를 csv 파일로 저장하기\n",
    "- 가능하면 옵션 중에 index=False, header=True는 꼭 해주자."
   ]
  },
  {
   "cell_type": "code",
   "execution_count": 16,
   "id": "66c64d58",
   "metadata": {},
   "outputs": [
    {
     "name": "stdout",
     "output_type": "stream",
     "text": [
      "first,second,third\r\n",
      "0,1,0\r\n",
      "2,3,10\r\n",
      "4,5,20\r\n",
      "6,7,30\r\n",
      "8,9,40\r\n"
     ]
    },
    {
     "data": {
      "text/plain": [
       "str"
      ]
     },
     "execution_count": 16,
     "metadata": {},
     "output_type": "execute_result"
    }
   ],
   "source": [
    "import os\n",
    "\n",
    "df.columns = ['first', 'second', 'third']\n",
    "df.to_csv(path+'makingcsvtest.csv', index=False, header=True, encoding='utf-8')\n",
    "\n",
    "if os.path.exists(path+'makingcsvtest.csv'):\n",
    "    file = os.path.join(path, 'makingcsvtest.csv')\n",
    "    !cat $file\n",
    "type(file)"
   ]
  },
  {
   "cell_type": "markdown",
   "id": "4eb7702a",
   "metadata": {},
   "source": [
    "# DataFrame의 통계 함수\n",
    "- count() : NA를 제외한 값의 계수\n",
    "- describe() : Series나 DataFrame의 각 열별 요약통계량. NA와 categorical은 제외\n",
    "- min(), max() : 최소값과 최대값\n",
    "- argmin(), argmax() : 최소값과 최대값이 있는 색인 index(정수) 반환\n",
    "- idxmin(), idxmax() : 최소값과 최대값이 있는 색인 반환\n",
    "- quantile() : 분위수를 반환\n",
    "- sum() : 합계\n",
    "- mean() : 평균\n",
    "- median() : 중앙값\n",
    "- mad() : 절대 평균편차\n",
    "- var() : 표본분산"
   ]
  },
  {
   "cell_type": "code",
   "execution_count": null,
   "id": "65cdc1bd",
   "metadata": {},
   "outputs": [],
   "source": []
  }
 ],
 "metadata": {
  "kernelspec": {
   "display_name": "nlp3710",
   "language": "python",
   "name": "nlp3710"
  },
  "language_info": {
   "codemirror_mode": {
    "name": "ipython",
    "version": 3
   },
   "file_extension": ".py",
   "mimetype": "text/x-python",
   "name": "python",
   "nbconvert_exporter": "python",
   "pygments_lexer": "ipython3",
   "version": "3.7.10"
  }
 },
 "nbformat": 4,
 "nbformat_minor": 5
}
